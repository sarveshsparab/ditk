{
 "cells": [
  {
   "cell_type": "markdown",
   "metadata": {
    "collapsed": true
   },
   "source": [
    "# Data Imputation - MisGAN"
   ]
  },
  {
   "cell_type": "code",
   "execution_count": 1,
   "metadata": {},
   "outputs": [],
   "source": [
    "# A bit of setups\n",
    "import os, sys\n",
    "from os.path import isfile, join\n",
    "from tqdm import tqdm\n",
    "\n",
    "sys.path.insert(0, os.getcwd())\n",
    "# change current folder to parent folder\n",
    "parent = sys.path[0].rfind('/')\n",
    "parent2 = sys.path[0].rfind('\\\\')\n",
    "\n",
    "sys.path[0] = sys.path[0][:max(parent, parent2)]\n",
    "\n",
    "\n",
    "from Imputation import Imputation\n",
    "\n",
    "import argparse\n",
    "from misgan.modules import preprocess\n",
    "from misgan.modules import train\n",
    "from misgan.modules import test\n",
    "from misgan.modules import evaluate\n",
    "from misgan.modules import impute\n",
    "\n",
    "%matplotlib inline\n",
    "%reload_ext autoreload\n",
    "%autoreload 2"
   ]
  },
  {
   "cell_type": "markdown",
   "metadata": {},
   "source": [
    "### Define MisGAN Modules"
   ]
  },
  {
   "cell_type": "code",
   "execution_count": 2,
   "metadata": {},
   "outputs": [],
   "source": [
    "class MisGAN(Imputation):\n",
    "    def __init__(self, args):\n",
    "        super(MisGAN, self).__init__()\n",
    "        self.args = args\n",
    "\n",
    "    def preprocess(self, *args, **kwargs):\n",
    "        data = []\n",
    "        fpaths = []\n",
    "\n",
    "        # single preprocessing\n",
    "        if self.args.input:\n",
    "            fpaths.append(self.args.input)\n",
    "            dt, _ = super(MisGAN, self).preprocess(self.args.input, self.args, **kwargs)\n",
    "            data.append([(dt, \"\", None)])\n",
    "        else:\n",
    "            for file in tqdm(os.listdir(join(os.pardir, \"data\"))):\n",
    "                fpath = join(os.pardir, \"data\", file)\n",
    "                if isfile(fpath):\n",
    "                    fpaths.append(file)\n",
    "                    data.append(super(MisGAN, self).preprocess(fpath, self.args, **kwargs))\n",
    "        return preprocess.preprocess(self.args, data, fpaths)\n",
    "\n",
    "    def train(self, *args, **kwargs):\n",
    "        super(MisGAN, self).train(self.args.fname, self.args, **kwargs)\n",
    "        train.train(self.args.fname)\n",
    "\n",
    "    def test(self, *args, **kwargs):\n",
    "        super(MisGAN, self).test(self.args.model, self.args.fname, self.args, **kwargs)\n",
    "        test.test(self.args.model, self.args.fname)\n",
    "\n",
    "    def impute(self, *args, **kwargs):\n",
    "        _, self.impute_data = super(MisGAN, self).impute(self.args.model, join(os.pardir, self.args.fname), self.args, **kwargs)\n",
    "        impute.impute(self.args, self.args.model, self.impute_data)\n",
    "\n",
    "    def evaluate(self, *args, **kwargs):\n",
    "        _, self.eval_data = super(MisGAN, self).evaluate(self.args.model, join(os.pardir, self.args.fname), self.args, **kwargs)\n",
    "        self.model = 'wdbc_imputer.pth'\n",
    "        return evaluate.evaluate(self.args, self.args.model, self.eval_data)\n",
    "\n",
    "    def load_model(self, *args, **kwargs):\n",
    "        pass\n",
    "\n",
    "    def save_model(self, *args, **kwargs):\n",
    "        pass"
   ]
  },
  {
   "cell_type": "markdown",
   "metadata": {},
   "source": [
    "### Define MisGAN Default Arguments"
   ]
  },
  {
   "cell_type": "code",
   "execution_count": 3,
   "metadata": {},
   "outputs": [],
   "source": [
    "\n",
    "class Args():\n",
    "    def __init__(self):\n",
    "        self.fname = False\n",
    "        self.model = False\n",
    "        self.ratio = False\n",
    "        self.split = False\n",
    "        self.ims = False\n",
    "        self.input = False\n",
    "\n",
    "\n",
    "args = Args()\n",
    "misgan = MisGAN(args)"
   ]
  },
  {
   "cell_type": "markdown",
   "metadata": {},
   "source": [
    "### Preprocessing"
   ]
  },
  {
   "cell_type": "code",
   "execution_count": 4,
   "metadata": {},
   "outputs": [
    {
     "name": "stderr",
     "output_type": "stream",
     "text": [
      "100%|████████████████████████████████████████████████████████████████████████████████████| 4/4 [00:03<00:00,  1.26it/s]\n"
     ]
    },
    {
     "name": "stdout",
     "output_type": "stream",
     "text": [
      "letter-recognition.csv_test.data_loader\n",
      "letter-recognition.csv_train.data_loader\n",
      "spambase.csv_test.data_loader\n",
      "spambase.csv_train.data_loader\n",
      "spambase2.csv_test.data_loader\n",
      "spambase2.csv_train.data_loader\n",
      "wdbc.csv_.data_loader\n",
      "wdbc.csv_test.data_loader\n",
      "wdbc.csv_train.data_loader\n"
     ]
    }
   ],
   "source": [
    "misgan.args.split=0.8\n",
    "misgan.preprocess()\n",
    "\n",
    "for f in os.listdir('data'):\n",
    "    print(f)"
   ]
  },
  {
   "cell_type": "markdown",
   "metadata": {},
   "source": [
    "### Training"
   ]
  },
  {
   "cell_type": "code",
   "execution_count": 5,
   "metadata": {},
   "outputs": [
    {
     "name": "stdout",
     "output_type": "stream",
     "text": [
      "wdbc.csv_train.data_loader\n",
      "letter-recognition.csv_train_data_critic.pth\n",
      "letter-recognition.csv_train_data_gen.pth\n",
      "letter-recognition.csv_train_imputer.pth\n",
      "letter-recognition.csv_train_impute_critic.pth\n",
      "letter-recognition.csv_train_mask_critic.pth\n",
      "letter-recognition.csv_train_mask_gen.pth\n",
      "spambase.csv_test_data_critic.pth\n",
      "spambase.csv_test_data_gen.pth\n",
      "spambase.csv_test_imputer.pth\n",
      "spambase.csv_test_impute_critic.pth\n",
      "spambase.csv_test_mask_critic.pth\n",
      "spambase.csv_test_mask_gen.pth\n",
      "wdbc.csv_train_data_critic.pth\n",
      "wdbc.csv_train_data_gen.pth\n",
      "wdbc.csv_train_imputer.pth\n",
      "wdbc.csv_train_impute_critic.pth\n",
      "wdbc.csv_train_mask_critic.pth\n",
      "wdbc.csv_train_mask_gen.pth\n"
     ]
    }
   ],
   "source": [
    "misgan.args.fname = \"wdbc.csv_train\"\n",
    "\n",
    "if os.path.exists(\"checkpoint/wdbc.csv_train_data_critic.pth\"):\n",
    "    print(f)\n",
    "else:\n",
    "    misgan.train()\n",
    "    \n",
    "for f in os.listdir('checkpoint'):\n",
    "    print(f)   "
   ]
  },
  {
   "cell_type": "markdown",
   "metadata": {},
   "source": [
    "### Impute"
   ]
  },
  {
   "cell_type": "code",
   "execution_count": 6,
   "metadata": {},
   "outputs": [
    {
     "name": "stderr",
     "output_type": "stream",
     "text": [
      " 20%|███████████████▊                                                                | 186/941 [00:17<01:06, 11.31it/s]F:\\USC\\2B\\CSCI 548\\Project\\DITK\\data_cleaning\\imputation\\misgan\\modules\\impute.py:50: RuntimeWarning: divide by zero encountered in longlong_scalars\n",
      "  cols = [int(x % y) for x, y in zip(indices, rows)]\n",
      "100%|████████████████████████████████████████████████████████████████████████████████| 941/941 [01:27<00:00, 10.78it/s]\n"
     ]
    },
    {
     "name": "stdout",
     "output_type": "stream",
     "text": [
      "CSV Saved\n",
      "29_Apr_2019_02_00_24_impute_data.csv\n"
     ]
    }
   ],
   "source": [
    "misgan.args.fname = \"data/wdbc.csv\"\n",
    "misgan.args.model = \"wdbc.csv_train\"\n",
    "misgan.impute()\n",
    "\n",
    "for f in os.listdir('result'):\n",
    "    print(f)"
   ]
  },
  {
   "cell_type": "markdown",
   "metadata": {},
   "source": [
    "### Evaluation"
   ]
  },
  {
   "cell_type": "code",
   "execution_count": 7,
   "metadata": {},
   "outputs": [
    {
     "name": "stderr",
     "output_type": "stream",
     "text": [
      "100%|████████████████████████████████████████████████████████████████████████████████| 941/941 [02:58<00:00,  4.38it/s]\n"
     ]
    },
    {
     "name": "stdout",
     "output_type": "stream",
     "text": [
      "Imputed data length = 18207\n",
      "CSV Saved\n",
      "Evaluateion RMSE: 236.03297406111258\n",
      "RMSE = 236.03297406111258\n"
     ]
    }
   ],
   "source": [
    "misgan.args.fname = \"data/wdbc.csv\"\n",
    "misgan.args.model = \"wdbc.csv_train\"\n",
    "rmse = misgan.evaluate()\n",
    "print(\"RMSE = {0}\".format(rmse))"
   ]
  },
  {
   "cell_type": "code",
   "execution_count": null,
   "metadata": {},
   "outputs": [],
   "source": []
  }
 ],
 "metadata": {
  "kernelspec": {
   "display_name": "Python 3",
   "language": "python",
   "name": "python3"
  },
  "language_info": {
   "codemirror_mode": {
    "name": "ipython",
    "version": 3
   },
   "file_extension": ".py",
   "mimetype": "text/x-python",
   "name": "python",
   "nbconvert_exporter": "python",
   "pygments_lexer": "ipython3",
   "version": "3.5.5"
  }
 },
 "nbformat": 4,
 "nbformat_minor": 2
}
