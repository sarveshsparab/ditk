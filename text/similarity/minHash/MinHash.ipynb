{
 "cells": [
  {
   "cell_type": "markdown",
   "metadata": {},
   "source": [
    "## MinHash "
   ]
  },
  {
   "cell_type": "code",
   "execution_count": 14,
   "metadata": {},
   "outputs": [],
   "source": [
    "import sys\n",
    "sys.path.insert(0, 'C://Users//malla//OneDrive//Documents//548ProjectCode//MinHash')\n",
    "import MinHash"
   ]
  },
  {
   "cell_type": "markdown",
   "metadata": {},
   "source": [
    "Import the class file MinHash in the file: MinHash"
   ]
  },
  {
   "cell_type": "code",
   "execution_count": 15,
   "metadata": {},
   "outputs": [],
   "source": [
    "from MinHash import MinHash"
   ]
  },
  {
   "cell_type": "markdown",
   "metadata": {},
   "source": [
    "A 32-bit hash function based on SHA1.\n",
    "Args:\n",
    "    data (bytes): the data to generate 32-bit integer hash from.\n",
    "Returns:\n",
    "    int: an integer hash value that can be encoded using 32 bits.\n"
   ]
  },
  {
   "cell_type": "code",
   "execution_count": 16,
   "metadata": {},
   "outputs": [],
   "source": [
    "def sha1_hash32(data):\n",
    "    return struct.unpack('<I', hashlib.sha1(data).digest()[:4])[0]"
   ]
  },
  {
   "cell_type": "markdown",
   "metadata": {},
   "source": [
    "Create an object for MinHash with parameters : hashfunc=sha1_hash32, num_perm=128, seed=1"
   ]
  },
  {
   "cell_type": "code",
   "execution_count": 17,
   "metadata": {},
   "outputs": [],
   "source": [
    "minHash=MinHash(hashfunc=sha1_hash32, num_perm=128, seed=1)"
   ]
  },
  {
   "cell_type": "markdown",
   "metadata": {},
   "source": [
    "## Read Dataset\n",
    "Read the Benchmark Dataset: SICK into a DataFrame"
   ]
  },
  {
   "cell_type": "code",
   "execution_count": 18,
   "metadata": {},
   "outputs": [],
   "source": [
    "input_df= minHash.read_dataset(\"C:/Users/malla/OneDrive/Documents//548ProjectCode//MinHash//Datasets//sick.xlsx\") "
   ]
  },
  {
   "cell_type": "markdown",
   "metadata": {},
   "source": [
    "## Predict Embeddings"
   ]
  },
  {
   "cell_type": "code",
   "execution_count": 19,
   "metadata": {},
   "outputs": [
    {
     "name": "stdout",
     "output_type": "stream",
     "text": [
      "[array([2002408561, 2118756986, 1126382158,  850815767, 4019855923,\n",
      "       4042112054, 4158073854, 3140655850, 3894791488, 2233957483,\n",
      "       1560158234, 3054772201, 4071082978, 3628316235, 3848515173,\n",
      "       1275967715, 2321409836, 3467530948,  840386556, 3220364755,\n",
      "       2907793253,  191986892,  144220602, 2048301295,  826102790,\n",
      "       2806179620, 3544532984, 1372957831, 4181759737, 2305390428,\n",
      "       2641679310, 1989755612, 2438630646,  512263483, 3945553729,\n",
      "       2243110565, 3093553671, 1371568297, 2837560187, 3592523962,\n",
      "       3559264365, 1945813235,  744179505, 3262208951, 2514049156,\n",
      "       3786932578,  798390088, 1821729412, 4160956722, 1631148659,\n",
      "        317425594, 2056633486, 3083583711, 4223955493, 1334655186,\n",
      "       2155601424, 1424352145, 2957997579, 3197111089, 4051637270,\n",
      "       4154783632, 3320921631, 1433970357, 2524860098, 3610069100,\n",
      "       1144515676,  970545484,  846503785, 3468254070, 3338666971,\n",
      "       4256533390, 4271361437, 3129841237, 4065221417,  882182433,\n",
      "       2584937728, 2463089035, 3554451582, 3026966962, 1196479681,\n",
      "       1867804389,  397047982, 4239623037, 2301638939,  737177885,\n",
      "       3389810460, 1904355287, 3870722628, 2482918381, 2647617129,\n",
      "       3815290498,  730793374, 2902742818, 2804970882,  164904019,\n",
      "       1892888775, 2359573893, 2045662068, 1737081927, 1365192235,\n",
      "       2210850484, 3464735826,  673387558,  216722182, 3106408558,\n",
      "       2022672226,   23535050, 1037511034, 2385176227, 3423400080,\n",
      "         63977916,  932219196,  214944102, 2648370836, 1735208245,\n",
      "       2426188729, 3338972754, 1027877811, 4021460862, 1961686307,\n",
      "       1397655975,  695901595, 2538807999, 1864971777,  933608644,\n",
      "       2780759981, 1139321599, 2476889356], dtype=uint64)]\n"
     ]
    }
   ],
   "source": [
    "#Predict embeddings for a word or a list of words\n",
    "print(minHash.generate_embeddings(['Man']))"
   ]
  },
  {
   "cell_type": "markdown",
   "metadata": {},
   "source": [
    "## Predict Similarity Score"
   ]
  },
  {
   "cell_type": "code",
   "execution_count": 20,
   "metadata": {},
   "outputs": [],
   "source": [
    "sentence1='Two dogs are fighting'\n",
    "sentence2='Two dogs are wrestling and hugging'"
   ]
  },
  {
   "cell_type": "code",
   "execution_count": 21,
   "metadata": {},
   "outputs": [
    {
     "data": {
      "text/plain": [
       "0.4140625"
      ]
     },
     "execution_count": 21,
     "metadata": {},
     "output_type": "execute_result"
    }
   ],
   "source": [
    "minHash.predict(sentence1,sentence2)"
   ]
  },
  {
   "cell_type": "code",
   "execution_count": 22,
   "metadata": {},
   "outputs": [],
   "source": [
    "# Predicted similarity score list and actual similarity score list\n",
    "predict_similarity_list=[]\n",
    "actual_similarity_list=[]"
   ]
  },
  {
   "cell_type": "markdown",
   "metadata": {},
   "source": [
    "Traverse through the dataframe and retrieve the sentences."
   ]
  },
  {
   "cell_type": "code",
   "execution_count": 23,
   "metadata": {},
   "outputs": [],
   "source": [
    "for index, row in input_df.iterrows():\n",
    "        # Compute the similarity score using PREDICT_SIMILARITY\n",
    "        predicted_similarity_score=minHash.predict(row['sentence_A'],row['sentence_B'])\n",
    "        actual_similarity_list.append(row['relatedness_score']/5.0)\n",
    "        predict_similarity_list.append(predicted_similarity_score)    \n"
   ]
  },
  {
   "cell_type": "markdown",
   "metadata": {},
   "source": [
    "## Evaluation on Benchmark Dataset\n",
    "PearsonR and SpearmanR Coefficients : Evaluate the correlation between 2 datasets and outputs a value [-1 to 1] : 0 implies no correlation. "
   ]
  },
  {
   "cell_type": "code",
   "execution_count": 24,
   "metadata": {},
   "outputs": [],
   "source": [
    "pearsonr, spearmanr =minHash.evaluate(actual_similarity_list,predict_similarity_list)\n"
   ]
  },
  {
   "cell_type": "code",
   "execution_count": 25,
   "metadata": {},
   "outputs": [
    {
     "name": "stdout",
     "output_type": "stream",
     "text": [
      "Pearsonr Coefficient : 0.6089152004334393\n"
     ]
    }
   ],
   "source": [
    "print('Pearsonr Coefficient : '+str(pearsonr))"
   ]
  },
  {
   "cell_type": "code",
   "execution_count": 26,
   "metadata": {},
   "outputs": [
    {
     "name": "stdout",
     "output_type": "stream",
     "text": [
      "Spearmanr Coefficient :0.6426574791239084\n"
     ]
    }
   ],
   "source": [
    "print('Spearmanr Coefficient :'+str(spearmanr))\n"
   ]
  },
  {
   "cell_type": "code",
   "execution_count": null,
   "metadata": {},
   "outputs": [],
   "source": []
  }
 ],
 "metadata": {
  "kernelspec": {
   "display_name": "Python 3",
   "language": "python",
   "name": "python3"
  },
  "language_info": {
   "codemirror_mode": {
    "name": "ipython",
    "version": 3
   },
   "file_extension": ".py",
   "mimetype": "text/x-python",
   "name": "python",
   "nbconvert_exporter": "python",
   "pygments_lexer": "ipython3",
   "version": "3.6.5"
  }
 },
 "nbformat": 4,
 "nbformat_minor": 2
}
