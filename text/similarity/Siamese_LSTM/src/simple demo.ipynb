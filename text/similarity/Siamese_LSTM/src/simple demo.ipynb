{
 "cells": [
  {
   "cell_type": "code",
   "execution_count": 17,
   "metadata": {},
   "outputs": [
    {
     "data": {
      "text/plain": [
       "'/Users/Joey/Documents/ditk/text/similarity/Siamese_LSTM/src'"
      ]
     },
     "execution_count": 17,
     "metadata": {},
     "output_type": "execute_result"
    }
   ],
   "source": [
    "import os\n",
    "os.getcwd()\n",
    "#%cd text/similarity/Siamese_LSTM/src"
   ]
  },
  {
   "cell_type": "code",
   "execution_count": 19,
   "metadata": {},
   "outputs": [],
   "source": [
    "from text.similarity.Siamese_LSTM.src.Siamese_LSTM_Similarity import Siamese_LSTM_Similarity\n",
    "from decimal import Decimal"
   ]
  },
  {
   "cell_type": "code",
   "execution_count": 20,
   "metadata": {},
   "outputs": [
    {
     "name": "stdout",
     "output_type": "stream",
     "text": [
      "reading input csv file \n"
     ]
    }
   ],
   "source": [
    "instance = Siamese_LSTM_Similarity()\n",
    "instance.read_dataset('../data/semEval2017_task1_track5.csv')"
   ]
  },
  {
   "cell_type": "code",
   "execution_count": 22,
   "metadata": {},
   "outputs": [],
   "source": [
    "instance.load_model('../model/bestsem.p')"
   ]
  },
  {
   "cell_type": "code",
   "execution_count": 23,
   "metadata": {},
   "outputs": [],
   "source": [
    "sim_scores = []\n",
    "for i in range(len(instance.sentences_1)):\n",
    "    score = instance.predict(instance.sentences_1[i],instance.sentences_2[i])\n",
    "    sim_scores.append(score)"
   ]
  },
  {
   "cell_type": "code",
   "execution_count": 24,
   "metadata": {},
   "outputs": [
    {
     "name": "stdout",
     "output_type": "stream",
     "text": [
      "Pearson correlation coefficient = 0.70\n"
     ]
    }
   ],
   "source": [
    "instance.evaluate(instance.annotated_score,sim_scores)"
   ]
  },
  {
   "cell_type": "code",
   "execution_count": 25,
   "metadata": {},
   "outputs": [
    {
     "name": "stdout",
     "output_type": "stream",
     "text": [
      "0.37\n"
     ]
    }
   ],
   "source": [
    "sa = \"Kids in red shirts are playing in the leaves\"\n",
    "sb = \"Three kids are jumping in the leaves\"\n",
    "score = instance.predict(sa,sb)\n",
    "score = Decimal(score).quantize(Decimal('0.00'))\n",
    "print(score)"
   ]
  },
  {
   "cell_type": "code",
   "execution_count": 15,
   "metadata": {},
   "outputs": [
    {
     "name": "stdout",
     "output_type": "stream",
     "text": [
      "1.00\n"
     ]
    }
   ],
   "source": [
    "score = instance.predict(sa,sa)\n",
    "score = Decimal(score).quantize(Decimal('0.00'))\n",
    "print(score)"
   ]
  }
 ],
 "metadata": {
  "kernelspec": {
   "display_name": "Python 3",
   "language": "python",
   "name": "python3"
  },
  "language_info": {
   "codemirror_mode": {
    "name": "ipython",
    "version": 3
   },
   "file_extension": ".py",
   "mimetype": "text/x-python",
   "name": "python",
   "nbconvert_exporter": "python",
   "pygments_lexer": "ipython3",
   "version": "3.7.2"
  }
 },
 "nbformat": 4,
 "nbformat_minor": 1
}
