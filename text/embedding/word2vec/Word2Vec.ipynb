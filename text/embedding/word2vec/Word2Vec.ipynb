{
 "cells": [
  {
   "cell_type": "markdown",
   "metadata": {},
   "source": [
    "# Word2Vec"
   ]
  },
  {
   "cell_type": "code",
   "execution_count": null,
   "metadata": {},
   "outputs": [],
   "source": [
    "import sys\n",
    "# Insert the path of the folder Word2Vec\n",
    "sys.path.insert(0, 'C://Users//malla//OneDrive//Documents//548ProjectCode//Word2Vec/')\n",
    "import word2vec"
   ]
  },
  {
   "cell_type": "markdown",
   "metadata": {},
   "source": [
    "Import Child Class: Word2Vec class"
   ]
  },
  {
   "cell_type": "code",
   "execution_count": null,
   "metadata": {},
   "outputs": [],
   "source": [
    "from word2vec import Word2Vec_Util\n"
   ]
  },
  {
   "cell_type": "markdown",
   "metadata": {},
   "source": [
    "Instantiating the child object "
   ]
  },
  {
   "cell_type": "code",
   "execution_count": null,
   "metadata": {},
   "outputs": [],
   "source": [
    "word2vec_util=Word2Vec_Util()"
   ]
  },
  {
   "cell_type": "markdown",
   "metadata": {},
   "source": [
    "## Read_Dataset\n",
    "read_Dataset(fileName,filepath) : File to be trained on can be passed here, In the following example : SICK Dataset is used"
   ]
  },
  {
   "cell_type": "code",
   "execution_count": null,
   "metadata": {},
   "outputs": [],
   "source": [
    "# It reads sick dataset and returns train and test data lists\n",
    "train_sick_data,test_data_list = word2vec_util.read_Dataset(\"sick\",\"C:/Users/malla/OneDrive/Documents/548ProjectCode/Word2Vec/Datasets/\")"
   ]
  },
  {
   "cell_type": "code",
   "execution_count": null,
   "metadata": {},
   "outputs": [],
   "source": [
    "#Data is preprocessed to transform it into the format for training\n",
    "train_sick_data = word2vec_util.preprocess(train_sick_data)"
   ]
  },
  {
   "cell_type": "markdown",
   "metadata": {},
   "source": [
    "## Training the data\n",
    "Train the Data - parameters :\n",
    "train_data - data on which the model should be generated\n",
    "embedding_size ( Default : 200)\n",
    "type : Skipgram - sg , CBOW - default\n"
   ]
  },
  {
   "cell_type": "code",
   "execution_count": null,
   "metadata": {},
   "outputs": [],
   "source": [
    "# retrieve the model by calling the train using the preprocessed data\n",
    "word2vec_util.model=word2vec_util.train(train_sick_data)\n",
    "print(word2vec_util.model)"
   ]
  },
  {
   "cell_type": "markdown",
   "metadata": {},
   "source": [
    "## Predict Embeddings\n",
    "Predict embeddings for a word or a sentence\n",
    "Word : [word]\n",
    "Sentence : [word1,word2,word3..]"
   ]
  },
  {
   "cell_type": "markdown",
   "metadata": {},
   "source": [
    "## Predict Word Embeddings"
   ]
  },
  {
   "cell_type": "code",
   "execution_count": null,
   "metadata": {},
   "outputs": [],
   "source": [
    "word_embedding=word2vec_util.predict_embedding(['dogs']) "
   ]
  },
  {
   "cell_type": "code",
   "execution_count": null,
   "metadata": {},
   "outputs": [],
   "source": [
    "print(word_embedding)"
   ]
  },
  {
   "cell_type": "markdown",
   "metadata": {},
   "source": [
    "## Predict Sentence Embedding\n",
    "Input : Split the sentence on space ( list )"
   ]
  },
  {
   "cell_type": "code",
   "execution_count": null,
   "metadata": {},
   "outputs": [],
   "source": [
    "sentence_embedding=word2vec_util.predict_embedding(['Dogs','are','fighting']) "
   ]
  },
  {
   "cell_type": "code",
   "execution_count": null,
   "metadata": {},
   "outputs": [],
   "source": [
    "print(sentence_embedding)"
   ]
  },
  {
   "cell_type": "markdown",
   "metadata": {},
   "source": [
    "## Predict Similarity\n",
    "Predict Similarity : predict_similarity(model, sentence1, sentence2)"
   ]
  },
  {
   "cell_type": "code",
   "execution_count": null,
   "metadata": {},
   "outputs": [],
   "source": [
    "sentence1='Two dogs are fighting'\n",
    "sentence2='Two dogs are wrestling and hugging'"
   ]
  },
  {
   "cell_type": "code",
   "execution_count": null,
   "metadata": {},
   "outputs": [],
   "source": [
    "similarity_score=word2vec_util.predict_similarity(word2vec_util.model,sentence1,sentence2)"
   ]
  },
  {
   "cell_type": "code",
   "execution_count": null,
   "metadata": {},
   "outputs": [],
   "source": [
    "print(similarity_score)"
   ]
  },
  {
   "cell_type": "markdown",
   "metadata": {},
   "source": [
    "## Evaluation on Benchmark Dataset\n",
    "Evaluate the model against sick dataset, returns :\n",
    "Pearson Correlation Coefficient, Mean Squared Error, SpearmanR Correlation Coefficient"
   ]
  },
  {
   "cell_type": "code",
   "execution_count": null,
   "metadata": {},
   "outputs": [],
   "source": [
    "word2vec_util.evaluate(word2vec_util.model, filename='C://Users//malla//OneDrive//Documents//548ProjectCode//Word2Vec/Datasets/', evaluation_type='sick')"
   ]
  },
  {
   "cell_type": "code",
   "execution_count": null,
   "metadata": {},
   "outputs": [],
   "source": []
  }
 ],
 "metadata": {
  "kernelspec": {
   "display_name": "Python 3",
   "language": "python",
   "name": "python3"
  },
  "language_info": {
   "codemirror_mode": {
    "name": "ipython",
    "version": 3
   },
   "file_extension": ".py",
   "mimetype": "text/x-python",
   "name": "python",
   "nbconvert_exporter": "python",
   "pygments_lexer": "ipython3",
   "version": "3.6.5"
  }
 },
 "nbformat": 4,
 "nbformat_minor": 2
}
