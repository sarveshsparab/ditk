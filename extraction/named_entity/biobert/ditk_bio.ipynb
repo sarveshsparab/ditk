{
  "nbformat": 4,
  "nbformat_minor": 0,
  "metadata": {
    "colab": {
      "name": "ditk_bio.ipynb",
      "version": "0.3.2",
      "provenance": [],
      "collapsed_sections": []
    },
    "kernelspec": {
      "name": "python3",
      "display_name": "Python 3"
    },
    "accelerator": "GPU"
  },
  "cells": [
    {
      "metadata": {
        "id": "a7lsffoM-R0U",
        "colab_type": "text"
      },
      "cell_type": "markdown",
      "source": [
        "Please ensure pip3 install has been run on the notebook to ensure all the necessary packages are installed.\n",
        "<br>\n",
        "<br>\n",
        "Other things to keep in mind:\n",
        "\n",
        "Switch to the correct directory before running the code.\n",
        "Switch to the correct git branch before running the code.\n",
        "Supply full path to the input text file if the input text file is not within my directory.\n",
        "\n",
        "Please be sure you are cloning the code from the right repository and its latest release."
      ]
    },
    {
      "metadata": {
        "id": "oJMgxraMjkGq",
        "colab_type": "code",
        "colab": {}
      },
      "cell_type": "code",
      "source": [
        "!pip3 install pyAesCrypt"
      ],
      "execution_count": 0,
      "outputs": []
    },
    {
      "metadata": {
        "id": "7wKUITyCiWnu",
        "colab_type": "code",
        "colab": {}
      },
      "cell_type": "code",
      "source": [
        "%rm -rf sample_data/"
      ],
      "execution_count": 0,
      "outputs": []
    },
    {
      "metadata": {
        "id": "VvuA2YF1iPAA",
        "colab_type": "code",
        "colab": {}
      },
      "cell_type": "code",
      "source": [
        "!git clone https://github.com/SachitNayak/ditk.git"
      ],
      "execution_count": 0,
      "outputs": []
    },
    {
      "metadata": {
        "id": "tRaJiSglidyC",
        "colab_type": "code",
        "colab": {}
      },
      "cell_type": "code",
      "source": [
        "%cd ditk/"
      ],
      "execution_count": 0,
      "outputs": []
    },
    {
      "metadata": {
        "id": "zKFivrRfgrYa",
        "colab_type": "code",
        "colab": {}
      },
      "cell_type": "code",
      "source": [
        "!git checkout test"
      ],
      "execution_count": 0,
      "outputs": []
    },
    {
      "metadata": {
        "id": "QjuwyXtagwck",
        "colab_type": "code",
        "colab": {}
      },
      "cell_type": "code",
      "source": [
        "%cd extraction/named_entity/biobert"
      ],
      "execution_count": 0,
      "outputs": []
    },
    {
      "metadata": {
        "id": "nFbY0754bEw9",
        "colab_type": "code",
        "colab": {}
      },
      "cell_type": "code",
      "source": [
        "%ls -l"
      ],
      "execution_count": 0,
      "outputs": []
    },
    {
      "metadata": {
        "id": "4wMcU2UvSpFt",
        "colab_type": "code",
        "colab": {}
      },
      "cell_type": "code",
      "source": [
        "!python3 main.py 'tests/sample_input.txt'"
      ],
      "execution_count": 0,
      "outputs": []
    }
  ]
}