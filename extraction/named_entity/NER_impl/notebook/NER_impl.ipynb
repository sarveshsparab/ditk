{
 "cells": [
  {
   "cell_type": "code",
   "execution_count": 1,
   "metadata": {},
   "outputs": [],
   "source": [
    "from named_entity.NER_impl.src.NER_impl import BiLSTMCRFNerImpl"
   ]
  },
  {
   "cell_type": "code",
   "execution_count": 2,
   "metadata": {},
   "outputs": [],
   "source": [
    "obj=BiLSTMCRFNerImpl() #instantiate object of the class\n",
    "#make a dict with \"train\",\"dev\" and \"test\" as keys and file path as values\n",
    "file_dict ={\"train\":\"ner_test_input.txt\",\"dev\":\"ner_test_input.txt\",\"test\":\"ner_test_input.txt\"} \n",
    "#call read_dataset with input dict as parameter\n",
    "data=obj.read_dataset(file_dict)"
   ]
  },
  {
   "cell_type": "code",
   "execution_count": 3,
   "metadata": {},
   "outputs": [
    {
     "name": "stdout",
     "output_type": "stream",
     "text": [
      "INFO:tensorflow:Using config: {'_model_dir': 'results/model', '_tf_random_seed': None, '_save_summary_steps': 100, '_save_checkpoints_steps': None, '_save_checkpoints_secs': 120, '_session_config': allow_soft_placement: true\n",
      "graph_options {\n",
      "  rewrite_options {\n",
      "    meta_optimizer_iterations: ONE\n",
      "  }\n",
      "}\n",
      ", '_keep_checkpoint_max': 5, '_keep_checkpoint_every_n_hours': 10000, '_log_step_count_steps': 100, '_train_distribute': None, '_device_fn': None, '_protocol': None, '_eval_distribute': None, '_experimental_distribute': None, '_service': None, '_cluster_spec': <tensorflow.python.training.server_lib.ClusterSpec object at 0x0000021F1D3B8908>, '_task_type': 'worker', '_task_id': 0, '_global_id_in_cluster': 0, '_master': '', '_evaluation_master': '', '_is_chief': True, '_num_ps_replicas': 0, '_num_worker_replicas': 1}\n",
      "INFO:tensorflow:Not using Distribute Coordinator.\n",
      "INFO:tensorflow:Running training and evaluation locally (non-distributed).\n",
      "INFO:tensorflow:Start train and evaluate loop. The evaluate will happen after every checkpoint. Checkpoint frequency is determined based on RunConfig arguments: save_checkpoints_steps None or save_checkpoints_secs 120.\n",
      "WARNING:tensorflow:From C:\\ProgramData\\Anaconda3\\lib\\site-packages\\tensorflow\\python\\framework\\op_def_library.py:263: colocate_with (from tensorflow.python.framework.ops) is deprecated and will be removed in a future version.\n",
      "Instructions for updating:\n",
      "Colocations handled automatically by placer.\n",
      "WARNING:tensorflow:From C:\\ProgramData\\Anaconda3\\lib\\site-packages\\tensorflow\\python\\data\\ops\\dataset_ops.py:429: py_func (from tensorflow.python.ops.script_ops) is deprecated and will be removed in a future version.\n",
      "Instructions for updating:\n",
      "tf.py_func is deprecated in TF V2. Instead, use\n",
      "    tf.py_function, which takes a python function which manipulates tf eager\n",
      "    tensors instead of numpy arrays. It's easy to convert a tf eager tensor to\n",
      "    an ndarray (just call tensor.numpy()) but having access to eager tensors\n",
      "    means `tf.py_function`s can use accelerators such as GPUs as well as\n",
      "    being differentiable using a gradient tape.\n",
      "    \n",
      "INFO:tensorflow:Calling model_fn.\n",
      "WARNING:tensorflow:From C:\\Users\\Samhitha Rao\\PycharmProjects\\NER_implementation\\named_entity\\NER_impl\\src\\All_other_methods.py:95: dropout (from tensorflow.python.layers.core) is deprecated and will be removed in a future version.\n",
      "Instructions for updating:\n",
      "Use keras.layers.dropout instead.\n",
      "WARNING:tensorflow:From C:\\ProgramData\\Anaconda3\\lib\\site-packages\\tensorflow\\python\\keras\\layers\\core.py:143: calling dropout (from tensorflow.python.ops.nn_ops) with keep_prob is deprecated and will be removed in a future version.\n",
      "Instructions for updating:\n",
      "Please use `rate` instead of `keep_prob`. Rate should be set to `rate = 1 - keep_prob`.\n",
      "WARNING:tensorflow:From C:\\ProgramData\\Anaconda3\\lib\\site-packages\\tensorflow\\contrib\\rnn\\python\\ops\\lstm_ops.py:696: to_int64 (from tensorflow.python.ops.math_ops) is deprecated and will be removed in a future version.\n",
      "Instructions for updating:\n",
      "Use tf.cast instead.\n",
      "WARNING:tensorflow:From C:\\Users\\Samhitha Rao\\PycharmProjects\\NER_implementation\\named_entity\\NER_impl\\src\\All_other_methods.py:135: dense (from tensorflow.python.layers.core) is deprecated and will be removed in a future version.\n",
      "Instructions for updating:\n",
      "Use keras.layers.dense instead.\n",
      "WARNING:tensorflow:From C:\\ProgramData\\Anaconda3\\lib\\site-packages\\tensorflow\\contrib\\crf\\python\\ops\\crf.py:567: dynamic_rnn (from tensorflow.python.ops.rnn) is deprecated and will be removed in a future version.\n",
      "Instructions for updating:\n",
      "Please use `keras.layers.RNN(cell)`, which is equivalent to this API\n",
      "WARNING:tensorflow:From C:\\ProgramData\\Anaconda3\\lib\\site-packages\\tensorflow\\python\\ops\\rnn.py:626: to_int32 (from tensorflow.python.ops.math_ops) is deprecated and will be removed in a future version.\n",
      "Instructions for updating:\n",
      "Use tf.cast instead.\n",
      "WARNING:tensorflow:From C:\\ProgramData\\Anaconda3\\lib\\site-packages\\tensorflow\\python\\ops\\metrics_impl.py:455: to_float (from tensorflow.python.ops.math_ops) is deprecated and will be removed in a future version.\n",
      "Instructions for updating:\n",
      "Use tf.cast instead.\n"
     ]
    },
    {
     "name": "stderr",
     "output_type": "stream",
     "text": [
      "C:\\ProgramData\\Anaconda3\\lib\\site-packages\\tensorflow\\python\\ops\\gradients_impl.py:110: UserWarning: Converting sparse IndexedSlices to a dense Tensor of unknown shape. This may consume a large amount of memory.\n",
      "  \"Converting sparse IndexedSlices to a dense Tensor of unknown shape. \"\n"
     ]
    },
    {
     "name": "stdout",
     "output_type": "stream",
     "text": [
      "INFO:tensorflow:Done calling model_fn.\n",
      "INFO:tensorflow:Create CheckpointSaverHook.\n",
      "INFO:tensorflow:Graph was finalized.\n",
      "WARNING:tensorflow:From C:\\ProgramData\\Anaconda3\\lib\\site-packages\\tensorflow\\python\\training\\saver.py:1266: checkpoint_exists (from tensorflow.python.training.checkpoint_management) is deprecated and will be removed in a future version.\n",
      "Instructions for updating:\n",
      "Use standard file APIs to check for files with this prefix.\n",
      "INFO:tensorflow:Restoring parameters from results/model\\model.ckpt-70\n",
      "WARNING:tensorflow:From C:\\ProgramData\\Anaconda3\\lib\\site-packages\\tensorflow\\python\\training\\saver.py:1070: get_checkpoint_mtimes (from tensorflow.python.training.checkpoint_management) is deprecated and will be removed in a future version.\n",
      "Instructions for updating:\n",
      "Use standard file utilities to get mtimes.\n",
      "INFO:tensorflow:Running local_init_op.\n",
      "INFO:tensorflow:Done running local_init_op.\n",
      "INFO:tensorflow:Saving checkpoints for 70 into results/model\\model.ckpt.\n",
      "WARNING:tensorflow:From C:\\ProgramData\\Anaconda3\\lib\\site-packages\\tensorflow\\python\\summary\\summary_iterator.py:68: tf_record_iterator (from tensorflow.python.lib.io.tf_record) is deprecated and will be removed in a future version.\n",
      "Instructions for updating:\n",
      "Use eager execution and: \n",
      "`tf.data.TFRecordDataset(path)`\n",
      "INFO:tensorflow:loss = 0.2546381, step = 71\n",
      "INFO:tensorflow:Saving checkpoints for 80 into results/model\\model.ckpt.\n",
      "WARNING:tensorflow:From C:\\ProgramData\\Anaconda3\\lib\\site-packages\\tensorflow\\python\\training\\saver.py:966: remove_checkpoint (from tensorflow.python.training.checkpoint_management) is deprecated and will be removed in a future version.\n",
      "Instructions for updating:\n",
      "Use standard file APIs to delete files with this prefix.\n",
      "INFO:tensorflow:Calling model_fn.\n",
      "INFO:tensorflow:Done calling model_fn.\n",
      "INFO:tensorflow:Starting evaluation at 2019-04-30T01:38:19Z\n",
      "INFO:tensorflow:Graph was finalized.\n",
      "INFO:tensorflow:Restoring parameters from results/model\\model.ckpt-80\n",
      "INFO:tensorflow:Running local_init_op.\n",
      "INFO:tensorflow:Done running local_init_op.\n",
      "INFO:tensorflow:Finished evaluation at 2019-04-30-01:38:20\n",
      "INFO:tensorflow:Saving dict for global step 80: acc = 1.0, f1 = 1.0, global_step = 80, loss = 0.10299492, precision = 1.0, recall = 1.0\n",
      "INFO:tensorflow:Saving 'checkpoint_path' summary for global step 80: results/model\\model.ckpt-80\n",
      "INFO:tensorflow:Loss for final step: 0.20729847.\n",
      "INFO:tensorflow:Using default config.\n",
      "INFO:tensorflow:Using config: {'_model_dir': './results/model', '_tf_random_seed': None, '_save_summary_steps': 100, '_save_checkpoints_steps': None, '_save_checkpoints_secs': 600, '_session_config': allow_soft_placement: true\n",
      "graph_options {\n",
      "  rewrite_options {\n",
      "    meta_optimizer_iterations: ONE\n",
      "  }\n",
      "}\n",
      ", '_keep_checkpoint_max': 5, '_keep_checkpoint_every_n_hours': 10000, '_log_step_count_steps': 100, '_train_distribute': None, '_device_fn': None, '_protocol': None, '_eval_distribute': None, '_experimental_distribute': None, '_service': None, '_cluster_spec': <tensorflow.python.training.server_lib.ClusterSpec object at 0x0000021F2292CDD8>, '_task_type': 'worker', '_task_id': 0, '_global_id_in_cluster': 0, '_master': '', '_evaluation_master': '', '_is_chief': True, '_num_ps_replicas': 0, '_num_worker_replicas': 1}\n",
      "INFO:tensorflow:Calling model_fn.\n",
      "INFO:tensorflow:Done calling model_fn.\n",
      "WARNING:tensorflow:From C:\\ProgramData\\Anaconda3\\lib\\site-packages\\tensorflow\\python\\saved_model\\signature_def_utils_impl.py:205: build_tensor_info (from tensorflow.python.saved_model.utils_impl) is deprecated and will be removed in a future version.\n",
      "Instructions for updating:\n",
      "This function will only be available through the v1 compatibility library as tf.compat.v1.saved_model.utils.build_tensor_info or tf.compat.v1.saved_model.build_tensor_info.\n",
      "INFO:tensorflow:Signatures INCLUDED in export for Classify: None\n",
      "INFO:tensorflow:Signatures INCLUDED in export for Regress: None\n",
      "INFO:tensorflow:Signatures INCLUDED in export for Predict: ['serving_default']\n",
      "INFO:tensorflow:Signatures INCLUDED in export for Train: None\n",
      "INFO:tensorflow:Signatures INCLUDED in export for Eval: None\n",
      "INFO:tensorflow:Restoring parameters from ./results/model\\model.ckpt-80\n",
      "INFO:tensorflow:Assets added to graph.\n",
      "INFO:tensorflow:Assets written to: saved_model\\temp-b'1556588301'\\assets\n",
      "INFO:tensorflow:SavedModel written to: saved_model\\temp-b'1556588301'\\saved_model.pb\n"
     ]
    }
   ],
   "source": [
    "# data obtained from read_dataset is passed to train method\n",
    "obj.train(data)"
   ]
  },
  {
   "cell_type": "code",
   "execution_count": 5,
   "metadata": {},
   "outputs": [
    {
     "name": "stdout",
     "output_type": "stream",
     "text": [
      "[['Yes O', 'they O', 'did O', '/. O'], ['and O', 'they O', 'were O', 'not O', 'the O', 'first B-ORDINAL', 'company O', 'that O', 'approached O', 'me O', '/. O'], ['but O', 'I O', 'am O', 'not O', 'selling O', 'medicine O', 'or O', 'pharmaceuticals O', '/. O'], ['I O', \"'m O\", 'sort O', 'of O', 'about O', 'selling O', 'a O', 'full O', 'body O', 'approach O', 'to O', 'wellness O', '/. O'], ['Um O', 'there O', \"'s O\", 'a O', 'big O', 'gap O', 'between O', 'those O', 'that O', 'are O', 'mentally O', 'ill O', 'and O', 'the O', 'general O', 'population O', '/. O'], ['A O', 'much O', 'better O', 'looking O', 'News B-WORK_OF_ART', 'Night I-WORK_OF_ART', 'I O', 'might O', 'add O', 'as O', 'Paula B-PERSON', 'Zahn I-PERSON', 'sits O', 'in O', 'for O', 'Anderson B-PERSON', 'and O', 'Aaron B-PERSON', '/. O'], ['They O', \"'re O\", 'both O', 'off O', '/- O'], ['Look O', 'at O', 'that O', '/. O']]\n"
     ]
    }
   ],
   "source": [
    "#ground truth from test data which will be used for evaluation\n",
    "ground_truth=obj.convert_ground_truth()\n",
    "print(ground_truth) # format - ['word','true label']-for each sentence"
   ]
  },
  {
   "cell_type": "code",
   "execution_count": 6,
   "metadata": {},
   "outputs": [
    {
     "name": "stdout",
     "output_type": "stream",
     "text": [
      "WARNING:tensorflow:From C:\\ProgramData\\Anaconda3\\lib\\site-packages\\tensorflow\\contrib\\predictor\\saved_model_predictor.py:153: load (from tensorflow.python.saved_model.loader_impl) is deprecated and will be removed in a future version.\n",
      "Instructions for updating:\n",
      "This function will only be available through the v1 compatibility library as tf.compat.v1.saved_model.loader.load or tf.compat.v1.saved_model.load. There will be a new function for importing SavedModels in Tensorflow 2.0.\n",
      "INFO:tensorflow:Restoring parameters from saved_model\\1556588301\\variables\\variables\n",
      "[[None, None, 'Yes they did /.\\n', array([[b'O', b'O', b'O', b'O']], dtype=object)], [None, None, 'and they were not the first company that approached me /.\\n', array([[b'O', b'O', b'O', b'O', b'O', b'B-ORDINAL', b'O', b'O', b'O',\n",
      "        b'O', b'O']], dtype=object)], [None, None, 'but I am not selling medicine or pharmaceuticals /.\\n', array([[b'O', b'O', b'O', b'O', b'O', b'O', b'O', b'O', b'O']],\n",
      "      dtype=object)], [None, None, \"I 'm sort of about selling a full body approach to wellness /.\\n\", array([[b'O', b'O', b'O', b'O', b'O', b'O', b'O', b'O', b'O', b'O', b'O',\n",
      "        b'O', b'O']], dtype=object)], [None, None, \"Um there 's a big gap between those that are mentally ill and the general population /.\\n\", array([[b'O', b'O', b'O', b'O', b'O', b'O', b'O', b'O', b'O', b'O', b'O',\n",
      "        b'O', b'O', b'O', b'O', b'O', b'O']], dtype=object)], [None, None, 'A much better looking News Night I might add as Paula Zahn sits in for Anderson and Aaron /.\\n', array([[b'O', b'O', b'O', b'O', b'B-WORK_OF_ART', b'I-WORK_OF_ART', b'O',\n",
      "        b'O', b'O', b'O', b'B-PERSON', b'I-PERSON', b'O', b'O', b'O',\n",
      "        b'B-PERSON', b'O', b'B-PERSON', b'O']], dtype=object)], [None, None, \"They 're both off /-\\n\", array([[b'O', b'O', b'O', b'O', b'O']], dtype=object)], [None, None, 'Look at that /.', array([[b'O', b'O', b'O', b'O']], dtype=object)]]\n"
     ]
    }
   ],
   "source": [
    "#obtain predictions of the test data\n",
    "predictions=obj.predict()\n",
    "print(predictions) #format- predictions of test file: [tuple,...], i.e. list of tuples.\n",
    "                #Each tuple is (start index, span, mention text, mention type)\n",
    "                #Where:\n",
    "                 #- start index: int, the index of the first character of the mention span. None for this implementation\n",
    "                 #- span: int, the length of the mention. None for this implementation\n",
    "                 #- sentence: str, the actual text that was identified as a named entity. Required.\n",
    "                 #- mention type for each word in the sentence: str, the entity/mention type. None if not applicable.\n",
    "#in addition, this method writes a output file called \"ner_test_output.txt\" that contains mention text, predicted type,true type"
   ]
  },
  {
   "cell_type": "code",
   "execution_count": 7,
   "metadata": {},
   "outputs": [
    {
     "name": "stdout",
     "output_type": "stream",
     "text": [
      "[1.0, 1.0, 1.0]\n"
     ]
    }
   ],
   "source": [
    "metrics=obj.evaluate(predictions,ground_truth) #pass predictions and ground_truth to evaluate method\n",
    "print(metrics) #tuple with [precision,recall,f1]"
   ]
  },
  {
   "cell_type": "code",
   "execution_count": null,
   "metadata": {},
   "outputs": [],
   "source": []
  }
 ],
 "metadata": {
  "kernelspec": {
   "display_name": "Python 3",
   "language": "python",
   "name": "python3"
  },
  "language_info": {
   "codemirror_mode": {
    "name": "ipython",
    "version": 3
   },
   "file_extension": ".py",
   "mimetype": "text/x-python",
   "name": "python",
   "nbconvert_exporter": "python",
   "pygments_lexer": "ipython3",
   "version": "3.7.3"
  }
 },
 "nbformat": 4,
 "nbformat_minor": 2
}
