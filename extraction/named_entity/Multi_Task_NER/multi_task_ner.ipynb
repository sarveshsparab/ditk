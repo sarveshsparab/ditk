{
 "cells": [
  {
   "cell_type": "markdown",
   "metadata": {},
   "source": [
    "# Named Entity Recognition with Multi-task Neural Network \n",
    "\n",
    "Train a model with words from sentences, words' POS tags and entities to recognize named entities with a multi-task neural network\n",
    "\n",
    "This network is trained with two tasks: named entity segmentation task and named entity classification task. To train the model, it takes orthographic, word and lexicon features of words with pre-trained embeddins. In addition to the neural network classifier, to employ the sequential information of sentences, a conditional random field classifier is applied to predict classes. \n",
    "\n",
    "Twitter word settings:\n",
    "    \n",
    "    window = 3 tokens\n",
    "\n",
    "    embeddings -> twitter pre-trained embeddings, Godin\n",
    "\n",
    "    dimensions = 400\n",
    "\n",
    "    LSTM units = 100 -> 200 (Bi-LSTM)\n",
    "\n",
    "Other settings:\n",
    "\n",
    "    Epochs -> 5\n",
    "\n",
    "    Batch size -> 500\n",
    "\n",
    "    Opimizer -> Admax\n",
    "\n",
    "    Seed 1337 for reproducibility\n",
    "    \n",
    "- Note that pre-trained embedding is too large to include in this project, please download the Twitter Word2vec model from http://fredericgodin.com/software/ and place under embeddings/twitter folder\n",
    "\n",
    "This downloaded zip contains a word2vec model trained on Twitter data as described in:\n",
    "\n",
    "Godin, F., Vandersmissen, B., De Neve, W., & Van de Walle, R. (2015).\n",
    "Multimedia Lab @ ACL W-NUT NER shared task: Named entity recognition for Twitter microposts using distributed word representations.\n",
    "Workshop on Noisy User-generated Text, ACL 2015.\n",
    "\n",
    "and the code is modified by the authors of the paper"
   ]
  },
  {
   "cell_type": "code",
   "execution_count": 1,
   "metadata": {},
   "outputs": [],
   "source": [
    "import numpy as np\n",
    "import matplotlib.pyplot as plt\n",
    "seed_number = 1337\n",
    "np.random.seed(seed_number)\n",
    "\n",
    "from common import utilities as utils\n",
    "from common import representation as rep\n",
    "from models import network\n",
    "from models import crf\n",
    "from settings import *\n",
    "from sklearn.metrics import confusion_matrix\n",
    "from sklearn.metrics import classification_report\n",
    "from sklearn.metrics import f1_score\n",
    "from sklearn.metrics import precision_recall_fscore_support\n",
    "from tensorflow.keras.models import model_from_json"
   ]
  },
  {
   "cell_type": "code",
   "execution_count": 2,
   "metadata": {},
   "outputs": [],
   "source": [
    "from Multi_Task_NER import Multi_Task_NER"
   ]
  },
  {
   "cell_type": "markdown",
   "metadata": {},
   "source": [
    "# Loading Data, including words, POS Tags, Entity Tags, and Loading Embeddings\n",
    "\n",
    "Give the path of data and read it into the project"
   ]
  },
  {
   "cell_type": "code",
   "execution_count": 3,
   "metadata": {},
   "outputs": [
    {
     "name": "stdout",
     "output_type": "stream",
     "text": [
      "nunber of category: 10\n",
      "['I-FAC', 'I-WORK_OF_ART', 'B-CARDINAL', 'I-PERSON', 'B-FAC', 'B-ORDINAL', 'B-PERSON', 'O', 'B-GPE', 'B-WORK_OF_ART']\n",
      "Loading twitter embeddings...\n",
      "Loading gazetteers embeddings...\n"
     ]
    }
   ],
   "source": [
    "train_file = \"tests/ner_test_input/train.txt\"\n",
    "valid_file = \"tests/ner_test_input/valid.txt\"\n",
    "test_file = \"tests/ner_test_input/test.txt\"\n",
    "\n",
    "fileNames = {}\n",
    "fileNames['train'] = train_file\n",
    "fileNames['valid'] = valid_file\n",
    "fileNames['test'] =test_file\n",
    "\n",
    "multi_task = Multi_Task_NER()\n",
    "\n",
    "data = multi_task.read_dataset(fileNames)\n"
   ]
  },
  {
   "cell_type": "markdown",
   "metadata": {},
   "source": [
    "# Encoding Words, Labels, POS Tags, Orthogaphy and Gazetteers\n",
    "\n",
    "Geneating encodings with emneddings"
   ]
  },
  {
   "cell_type": "code",
   "execution_count": 4,
   "metadata": {},
   "outputs": [
    {
     "name": "stdout",
     "output_type": "stream",
     "text": [
      "Generating encodings...\n"
     ]
    }
   ],
   "source": [
    "embedding = multi_task.generating_encoding(data)"
   ]
  },
  {
   "cell_type": "markdown",
   "metadata": {},
   "source": [
    "# Building and Training Neural Network\n",
    "\n",
    "inputs from \n",
    "\n",
    "    Convoluational Neural Network: capture orthographic features\n",
    "\n",
    "    Bidirectional LSTM: capture word features\n",
    "\n",
    "    Dense Nerwork: capture lexicon features\n",
    "    \n",
    "Multi-task Neural Network\n",
    "\n",
    "    segmentation task: identify whether a token is a named entity or not\n",
    "    \n",
    "    classification task: classify tokens in to named entity classes\n",
    "   "
   ]
  },
  {
   "cell_type": "code",
   "execution_count": 5,
   "metadata": {},
   "outputs": [
    {
     "name": "stdout",
     "output_type": "stream",
     "text": [
      "WARNING:tensorflow:From /anaconda3/lib/python3.7/site-packages/tensorflow/python/ops/resource_variable_ops.py:435: colocate_with (from tensorflow.python.framework.ops) is deprecated and will be removed in a future version.\n",
      "Instructions for updating:\n",
      "Colocations handled automatically by placer.\n",
      "WARNING:tensorflow:From /anaconda3/lib/python3.7/site-packages/tensorflow/python/keras/layers/core.py:143: calling dropout (from tensorflow.python.ops.nn_ops) with keep_prob is deprecated and will be removed in a future version.\n",
      "Instructions for updating:\n",
      "Please use `rate` instead of `keep_prob`. Rate should be set to `rate = 1 - keep_prob`.\n",
      "10\n",
      "__________________________________________________________________________________________________\n",
      "Layer (type)                    Output Shape         Param #     Connected to                     \n",
      "==================================================================================================\n",
      "char_ortho_input (InputLayer)   (None, 20)           0                                            \n",
      "__________________________________________________________________________________________________\n",
      "char_ortho_embed (Embedding)    (None, 20, 30)       150         char_ortho_input[0][0]           \n",
      "__________________________________________________________________________________________________\n",
      "word_twitter_input (InputLayer) (None, 3)            0                                            \n",
      "__________________________________________________________________________________________________\n",
      "word_postag_input (InputLayer)  (None, 3)            0                                            \n",
      "__________________________________________________________________________________________________\n",
      "char_ortho_embed_dropout (Dropo (None, 20, 30)       0           char_ortho_embed[0][0]           \n",
      "__________________________________________________________________________________________________\n",
      "word_twitter_embed (Embedding)  (None, 3, 400)       36400       word_twitter_input[0][0]         \n",
      "__________________________________________________________________________________________________\n",
      "word_postag_embed (Embedding)   (None, 3, 100)       2800        word_postag_input[0][0]          \n",
      "__________________________________________________________________________________________________\n",
      "gazetteers_input (InputLayer)   (None, 3)            0                                            \n",
      "__________________________________________________________________________________________________\n",
      "conv1d (Conv1D)                 (None, 18, 64)       5824        char_ortho_embed_dropout[0][0]   \n",
      "__________________________________________________________________________________________________\n",
      "word_twitter_embed_dropout (Dro (None, 3, 400)       0           word_twitter_embed[0][0]         \n",
      "__________________________________________________________________________________________________\n",
      "word_postag_embed_dropout (Drop (None, 3, 100)       0           word_postag_embed[0][0]          \n",
      "__________________________________________________________________________________________________\n",
      "gazetteers_embed (Embedding)    (None, 3, 6)         115986      gazetteers_input[0][0]           \n",
      "__________________________________________________________________________________________________\n",
      "conv1d_1 (Conv1D)               (None, 16, 64)       12352       conv1d[0][0]                     \n",
      "__________________________________________________________________________________________________\n",
      "concatenate (Concatenate)       (None, 3, 500)       0           word_twitter_embed_dropout[0][0] \n",
      "                                                                 word_postag_embed_dropout[0][0]  \n",
      "__________________________________________________________________________________________________\n",
      "gazetteers_embed_dropout (Dropo (None, 3, 6)         0           gazetteers_embed[0][0]           \n",
      "__________________________________________________________________________________________________\n",
      "global_average_pooling1d (Globa (None, 64)           0           conv1d_1[0][0]                   \n",
      "__________________________________________________________________________________________________\n",
      "word_encoded_blstm (Bidirection (None, 200)          480800      concatenate[0][0]                \n",
      "__________________________________________________________________________________________________\n",
      "flatten (Flatten)               (None, 18)           0           gazetteers_embed_dropout[0][0]   \n",
      "__________________________________________________________________________________________________\n",
      "char_ortho_encoded_dense (Dense (None, 32)           2080        global_average_pooling1d[0][0]   \n",
      "__________________________________________________________________________________________________\n",
      "word_encoded_blstm_dropout (Dro (None, 200)          0           word_encoded_blstm[0][0]         \n",
      "__________________________________________________________________________________________________\n",
      "concat_layer (Concatenate)      (None, 250)          0           flatten[0][0]                    \n",
      "                                                                 char_ortho_encoded_dense[0][0]   \n",
      "                                                                 word_encoded_blstm_dropout[0][0] \n",
      "__________________________________________________________________________________________________\n",
      "common_dense_layer (Dense)      (None, 100)          25100       concat_layer[0][0]               \n",
      "__________________________________________________________________________________________________\n",
      "bin_output (Dense)              (None, 1)            101         common_dense_layer[0][0]         \n",
      "__________________________________________________________________________________________________\n",
      "cat_output (Dense)              (None, 10)           1010        common_dense_layer[0][0]         \n",
      "==================================================================================================\n",
      "Total params: 682,603\n",
      "Trainable params: 527,267\n",
      "Non-trainable params: 155,336\n",
      "__________________________________________________________________________________________________\n",
      "Train on 72 samples, validate on 18 samples\n",
      "WARNING:tensorflow:From /anaconda3/lib/python3.7/site-packages/tensorflow/python/ops/math_ops.py:3066: to_int32 (from tensorflow.python.ops.math_ops) is deprecated and will be removed in a future version.\n",
      "Instructions for updating:\n",
      "Use tf.cast instead.\n",
      "Epoch 1/5\n",
      "72/72 [==============================] - 3s 37ms/sample - loss: 3.0457 - bin_output_loss: 0.6213 - cat_output_loss: 2.4244 - bin_output_fbeta_score: nan - bin_output_acc: 0.7917 - cat_output_fbeta_score: nan - cat_output_acc: 0.0000e+00 - val_loss: 2.9239 - val_bin_output_loss: 0.6223 - val_cat_output_loss: 2.3016 - val_bin_output_fbeta_score: nan - val_bin_output_acc: 0.7778 - val_cat_output_fbeta_score: nan - val_cat_output_acc: 0.0556\n",
      "Epoch 2/5\n",
      "72/72 [==============================] - 0s 500us/sample - loss: 2.9291 - bin_output_loss: 0.6029 - cat_output_loss: 2.3262 - bin_output_fbeta_score: nan - bin_output_acc: 0.8333 - cat_output_fbeta_score: nan - cat_output_acc: 0.0139 - val_loss: 2.8472 - val_bin_output_loss: 0.6160 - val_cat_output_loss: 2.2312 - val_bin_output_fbeta_score: nan - val_bin_output_acc: 0.7778 - val_cat_output_fbeta_score: nan - val_cat_output_acc: 0.3333\n",
      "Epoch 3/5\n",
      "72/72 [==============================] - 0s 479us/sample - loss: 2.7962 - bin_output_loss: 0.5816 - cat_output_loss: 2.2146 - bin_output_fbeta_score: nan - bin_output_acc: 0.8472 - cat_output_fbeta_score: nan - cat_output_acc: 0.1806 - val_loss: 2.7748 - val_bin_output_loss: 0.6102 - val_cat_output_loss: 2.1646 - val_bin_output_fbeta_score: nan - val_bin_output_acc: 0.7778 - val_cat_output_fbeta_score: nan - val_cat_output_acc: 0.5556\n",
      "Epoch 4/5\n",
      "72/72 [==============================] - 0s 503us/sample - loss: 2.6991 - bin_output_loss: 0.5665 - cat_output_loss: 2.1327 - bin_output_fbeta_score: nan - bin_output_acc: 0.8472 - cat_output_fbeta_score: nan - cat_output_acc: 0.2639 - val_loss: 2.7008 - val_bin_output_loss: 0.6039 - val_cat_output_loss: 2.0969 - val_bin_output_fbeta_score: nan - val_bin_output_acc: 0.7778 - val_cat_output_fbeta_score: nan - val_cat_output_acc: 0.6667\n"
     ]
    },
    {
     "name": "stdout",
     "output_type": "stream",
     "text": [
      "Epoch 5/5\n",
      "\r",
      "72/72 [==============================] - 0s 503us/sample - loss: 2.6238 - bin_output_loss: 0.5640 - cat_output_loss: 2.0598 - bin_output_fbeta_score: nan - bin_output_acc: 0.8472 - cat_output_fbeta_score: nan - cat_output_acc: 0.4167 - val_loss: 2.6238 - val_bin_output_loss: 0.5969 - val_cat_output_loss: 2.0269 - val_bin_output_fbeta_score: nan - val_bin_output_acc: 0.7778 - val_cat_output_fbeta_score: nan - val_cat_output_acc: 0.7222\n"
     ]
    }
   ],
   "source": [
    "hist = multi_task.train([data, embedding])"
   ]
  },
  {
   "cell_type": "markdown",
   "metadata": {},
   "source": [
    "# Saving Model\n",
    "\n",
    "The model and weights will be saved in the same directory as data"
   ]
  },
  {
   "cell_type": "code",
   "execution_count": 6,
   "metadata": {},
   "outputs": [],
   "source": [
    "multi_task.save_model('tests/ner_test_input/')"
   ]
  },
  {
   "cell_type": "markdown",
   "metadata": {},
   "source": [
    "# Predicting Entity Tags with Test Data\n",
    "\n",
    "Predictios come from:\n",
    "    \n",
    "    Neural Network Classifier\n",
    "    \n",
    "    Conditional Random Field Classifier:\n",
    "            \n",
    "            Use the weights of common densen neural network as inputs\n",
    "\n",
    "Since CRF classifier always has better performance than NN classifier, this project will store the predictions generated by CRF clasifier."
   ]
  },
  {
   "cell_type": "code",
   "execution_count": 7,
   "metadata": {},
   "outputs": [
    {
     "name": "stdout",
     "output_type": "stream",
     "text": [
      "50/50 [==============================] - 0s 7ms/sample\n",
      "output format: \n",
      "\n",
      "The O O\n",
      "Dixie O O\n",
      "Chicks O O\n",
      "are O O\n",
      "the O O\n"
     ]
    }
   ],
   "source": [
    "decoded_predictions = multi_task.predict([data, embedding])\n",
    "ground_truth = multi_task.convert_ground_truth(data)[0]\n",
    "NN_pre = decoded_predictions[0]\n",
    "#ground_truth = ground_truth\n",
    "test_words = data[2][0]\n",
    "CRF_pre = decoded_predictions[1]\n",
    "\n",
    "file_path = 'tests/ner_test_input/output.txt'\n",
    "file = open(file_path, 'w')\n",
    "for i in range(len(test_words)):\n",
    "    file.write(str(test_words[i])+\" \"+str(ground_truth[i])+\" \"+ str(CRF_pre[i])+'\\n')\n",
    "\n",
    "file.close()\n",
    "print(\"output format: \")\n",
    "file_path = 'tests/ner_test_input/output.txt'\n",
    "file = open(file_path, 'r')\n",
    "print()\n",
    "for line in file.readlines()[:5]:\n",
    "    print(line[:-1])"
   ]
  },
  {
   "cell_type": "markdown",
   "metadata": {},
   "source": [
    "# Evaluating Predictions\n",
    "\n",
    "Compare the predictions of NN classifier and CRF classifier\n",
    "\n",
    "Evaluation metrics:\n",
    "    \n",
    "    Precision\n",
    "    \n",
    "    Recall\n",
    "    \n",
    "    F1-Score\n",
    "    \n",
    "The confusion matrix and results of evaluation will be printed\n",
    "  "
   ]
  },
  {
   "cell_type": "code",
   "execution_count": 8,
   "metadata": {},
   "outputs": [
    {
     "name": "stdout",
     "output_type": "stream",
     "text": [
      "NN Classification Report\n",
      "\n",
      "               precision    recall  f1-score   support\n",
      "\n",
      "   B-CARDINAL       0.00      0.00      0.00         1\n",
      "        B-FAC       0.00      0.00      0.00         1\n",
      "        B-GPE       0.00      0.00      0.00         1\n",
      "B-WORK_OF_ART       0.00      0.00      0.00         3\n",
      "        I-FAC       0.00      0.00      0.00         3\n",
      "I-WORK_OF_ART       0.00      0.00      0.00        14\n",
      "            O       0.54      1.00      0.70        27\n",
      "\n",
      "    micro avg       0.54      0.54      0.54        50\n",
      "    macro avg       0.08      0.14      0.10        50\n",
      " weighted avg       0.29      0.54      0.38        50\n",
      "\n",
      "\n",
      "\n",
      "NN Confusion Matrix\n",
      "\n",
      "[[ 0  0  0  0  0  0  1]\n",
      " [ 0  0  0  0  0  0  1]\n",
      " [ 0  0  0  0  0  0  1]\n",
      " [ 0  0  0  0  0  0  3]\n",
      " [ 0  0  0  0  0  0  3]\n",
      " [ 0  0  0  0  0  0 14]\n",
      " [ 0  0  0  0  0  0 27]]\n",
      "CRF Classification Report\n",
      "\n",
      "               precision    recall  f1-score   support\n",
      "\n",
      "   B-CARDINAL       0.00      0.00      0.00         1\n",
      "        B-FAC       0.00      0.00      0.00         1\n",
      "        B-GPE       0.00      0.00      0.00         1\n",
      "B-WORK_OF_ART       0.00      0.00      0.00         3\n",
      "        I-FAC       0.00      0.00      0.00         3\n",
      "I-WORK_OF_ART       0.00      0.00      0.00        14\n",
      "            O       0.54      1.00      0.70        27\n",
      "\n",
      "    micro avg       0.54      0.54      0.54        50\n",
      "    macro avg       0.08      0.14      0.10        50\n",
      " weighted avg       0.29      0.54      0.38        50\n",
      "\n",
      "\n",
      "\n",
      "CRF Confusion Matrix\n",
      "\n",
      "[[ 0  0  0  0  0  0  1]\n",
      " [ 0  0  0  0  0  0  1]\n",
      " [ 0  0  0  0  0  0  1]\n",
      " [ 0  0  0  0  0  0  3]\n",
      " [ 0  0  0  0  0  0  3]\n",
      " [ 0  0  0  0  0  0 14]\n",
      " [ 0  0  0  0  0  0 27]]\n"
     ]
    },
    {
     "name": "stderr",
     "output_type": "stream",
     "text": [
      "/anaconda3/lib/python3.7/site-packages/sklearn/metrics/classification.py:1143: UndefinedMetricWarning: Precision and F-score are ill-defined and being set to 0.0 in labels with no predicted samples.\n",
      "  'precision', 'predicted', average, warn_for)\n"
     ]
    }
   ],
   "source": [
    "target = multi_task.convert_ground_truth(data)\n",
    "evaluation_result = multi_task.evaluate(decoded_predictions, target)\n"
   ]
  },
  {
   "cell_type": "markdown",
   "metadata": {},
   "source": [
    "# Printing Loss during Training"
   ]
  },
  {
   "cell_type": "code",
   "execution_count": 9,
   "metadata": {},
   "outputs": [
    {
     "data": {
      "image/png": "[encoded data removed]",
      "text/plain": [
       "<Figure size 432x288 with 1 Axes>"
      ]
     },
     "metadata": {
      "needs_background": "light"
     },
     "output_type": "display_data"
    }
   ],
   "source": [
    "train_loss = hist.history[\"loss\"]\n",
    "val_loss = hist.history[\"val_loss\"]\n",
    "plt.plot(range(len(train_loss)), train_loss, color=\"red\", label=\"Train Loss\")\n",
    "plt.plot(range(len(train_loss)), val_loss, color=\"blue\", label=\"Validation Loss\")\n",
    "plt.xlabel(\"epochs\")\n",
    "plt.ylabel(\"loss\")\n",
    "plt.legend(loc=\"best\")\n",
    "plt.show()"
   ]
  },
  {
   "cell_type": "code",
   "execution_count": null,
   "metadata": {},
   "outputs": [],
   "source": []
  },
  {
   "cell_type": "code",
   "execution_count": null,
   "metadata": {},
   "outputs": [],
   "source": []
  }
 ],
 "metadata": {
  "kernelspec": {
   "display_name": "Python 3",
   "language": "python",
   "name": "python3"
  },
  "language_info": {
   "codemirror_mode": {
    "name": "ipython",
    "version": 3
   },
   "file_extension": ".py",
   "mimetype": "text/x-python",
   "name": "python",
   "nbconvert_exporter": "python",
   "pygments_lexer": "ipython3",
   "version": "3.7.1"
  }
 },
 "nbformat": 4,
 "nbformat_minor": 2
}
