{
 "cells": [
  {
   "cell_type": "markdown",
   "metadata": {},
   "source": [
    "# Character-Based Bi-Directional LSTM RNN for Named Entity Recognition"
   ]
  },
  {
   "cell_type": "markdown",
   "metadata": {},
   "source": [
    "## Importing Required Dependencies & Files"
   ]
  },
  {
   "cell_type": "code",
   "execution_count": 1,
   "metadata": {},
   "outputs": [],
   "source": [
    "#Uncomment to install requirements\n",
    "#!pip install keras"
   ]
  },
  {
   "cell_type": "code",
   "execution_count": 2,
   "metadata": {},
   "outputs": [],
   "source": [
    "import sys\n",
    "sys.path.append('../')\n",
    "sys.path.append('../src')"
   ]
  },
  {
   "cell_type": "code",
   "execution_count": 3,
   "metadata": {},
   "outputs": [
    {
     "name": "stderr",
     "output_type": "stream",
     "text": [
      "Using TensorFlow backend.\n"
     ]
    }
   ],
   "source": [
    "from src.main import CharNER"
   ]
  },
  {
   "cell_type": "code",
   "execution_count": 4,
   "metadata": {},
   "outputs": [],
   "source": [
    "charNer_object = CharNER()"
   ]
  },
  {
   "cell_type": "markdown",
   "metadata": {},
   "source": [
    "## Reading Data in Common Format"
   ]
  },
  {
   "cell_type": "code",
   "execution_count": 6,
   "metadata": {},
   "outputs": [
    {
     "name": "stdout",
     "output_type": "stream",
     "text": [
      "Data read successfully\n",
      "Training Data \n",
      "[['Yes', 'UH', '(TOP(S(INTJ*)', 'O', 'bc/cnn/00/cnn_0003', '0', '0', '-', '-', '-', 'Linda_Hamilton', '*', '-'], ['they', 'PRP', '(NP*)', 'O', 'bc/cnn/00/cnn_0003', '0', '1', '-', '-', '-', 'Linda_Hamilton', '*', '(15)'], ['did', 'VBD', '(VP*)', 'O', 'bc/cnn/00/cnn_0003', '0', '2', 'do', '01', '-', 'Linda_Hamilton', '(V*)', '-'], ['/.', '.', '*))', 'O', 'bc/cnn/00/cnn_0003', '0', '3', '-', '-', '-', 'Linda_Hamilton', '*', '-'], [], ['and', 'CC', '(TOP(S*', 'O', 'bc/cnn/00/cnn_0003', '0', '0', '-', '-', '-', 'Linda_Hamilton', '(ARGM-DIS*)', '*', '-'], ['they', 'PRP', '(NP*)', 'O', 'bc/cnn/00/cnn_0003', '0', '1', '-', '-', '-', 'Linda_Hamilton', '(ARG1*)', '*', '(15)'], ['were', 'VBD', '(VP*', 'O', 'bc/cnn/00/cnn_0003', '0', '2', 'be', '01', '2', 'Linda_Hamilton', '(V*)', '*', '-'], ['not', 'RB', '*', 'O', 'bc/cnn/00/cnn_0003', '0', '3', '-', '-', '-', 'Linda_Hamilton', '(ARGM-NEG*)', '*', '-'], ['the', 'DT', '(NP(NP*', 'O', 'bc/cnn/00/cnn_0003', '0', '4', '-', '-', '-', 'Linda_Hamilton', '(ARG2*', '(ARG1*', '-'], ['first', 'JJ', '*', 'B-ORDINAL', 'bc/cnn/00/cnn_0003', '0', '5', '-', '-', '-', 'Linda_Hamilton', '*', '*', '-'], ['company', 'NN', '*)', 'O', 'bc/cnn/00/cnn_0003', '0', '6', 'company', '-', '1', 'Linda_Hamilton', '*', '*)', '-'], ['that', 'WDT', '(SBAR(WHNP*)', 'O', 'bc/cnn/00/cnn_0003', '0', '7', '-', '-', '-', 'Linda_Hamilton', '*', '(R-ARG1*)', '-'], ['approached', 'VBD', '(S(VP*', 'O', 'bc/cnn/00/cnn_0003', '0', '8', 'approach', '01', '2', 'Linda_Hamilton', '*', '(V*)', '-'], ['me', 'PRP', '(NP*))))))', 'O', 'bc/cnn/00/cnn_0003', '0', '9', '-', '-', '-', 'Linda_Hamilton', '*)', '(ARG2*)', '(76)'], ['/.', '.', '*))', 'O', 'bc/cnn/00/cnn_0003', '0', '10', '-', '-', '-', 'Linda_Hamilton', '*', '*', '-'], [], ['but', 'CC', '(TOP(S*', 'O', 'bc/cnn/00/cnn_0003', '0', '0', '-', '-', '-', 'Linda_Hamilton', '*', '*', '-'], ['I', 'PRP', '(S(NP*)', 'O', 'bc/cnn/00/cnn_0003', '0', '1', '-', '-', '-', 'Linda_Hamilton', '*', '(ARG0*)', '(76)'], ['am', 'VBP', '(VP*', 'O', 'bc/cnn/00/cnn_0003', '0', '2', 'be', '03', '-', 'Linda_Hamilton', '(V*)', '*', '-'], ['not', 'RB', '*', 'O', 'bc/cnn/00/cnn_0003', '0', '3', '-', '-', '-', 'Linda_Hamilton', '*', '(ARGM-NEG*)', '-'], ['selling', 'VBG', '(VP*', 'O', 'bc/cnn/00/cnn_0003', '0', '4', 'sell', '01', '1', 'Linda_Hamilton', '*', '(V*)', '-'], ['medicine', 'NN', '(NP*', 'O', 'bc/cnn/00/cnn_0003', '0', '5', 'medicine', '-', '1', 'Linda_Hamilton', '*', '(ARG1*', '-'], ['or', 'CC', '*', 'O', 'bc/cnn/00/cnn_0003', '0', '6', '-', '-', '-', 'Linda_Hamilton', '*', '*', '-'], ['pharmaceuticals', 'NNS', '*))))', 'O', 'bc/cnn/00/cnn_0003', '0', '7', '-', '-', '-', 'Linda_Hamilton', '*', '*)', '-'], ['/.', '.', '*))', 'O', 'bc/cnn/00/cnn_0003', '0', '8', '-', '-', '-', 'Linda_Hamilton', '*', '*', '-'], [], ['I', 'PRP', '(TOP(S(NP*)', 'O', 'bc/cnn/00/cnn_0003', '0', '0', '-', '-', '-', 'Linda_Hamilton', '(ARG1*)', '*', '*', '(76)'], [\"'m\", 'VBP', '(VP*', 'O', 'bc/cnn/00/cnn_0003', '0', '1', 'be', '01', '1', 'Linda_Hamilton', '(V*)', '*', '*', '-'], ['sort', 'RB', '(PP(ADVP*', 'O', 'bc/cnn/00/cnn_0003', '0', '2', '-', '-', '-', 'Linda_Hamilton', '(ARG2*', '*', '*', '-'], ['of', 'RB', '*)', 'O', 'bc/cnn/00/cnn_0003', '0', '3', '-', '-', '-', 'Linda_Hamilton', '*', '*', '*', '-'], ['about', 'IN', '*', 'O', 'bc/cnn/00/cnn_0003', '0', '4', '-', '-', '-', 'Linda_Hamilton', '*', '*', '*', '-'], ['selling', 'VBG', '(S(VP*', 'O', 'bc/cnn/00/cnn_0003', '0', '5', 'sell', '01', '2', 'Linda_Hamilton', '*', '(V*)', '*', '-'], ['a', 'DT', '(NP(NP*', 'O', 'bc/cnn/00/cnn_0003', '0', '6', '-', '-', '-', 'Linda_Hamilton', '*', '(ARG1*', '*', '-'], ['full', 'JJ', '(ADJP*', 'O', 'bc/cnn/00/cnn_0003', '0', '7', '-', '-', '-', 'Linda_Hamilton', '*', '*', '(ARG2*', '-'], ['body', 'NN', '*)', 'O', 'bc/cnn/00/cnn_0003', '0', '8', 'body', '-', '2', 'Linda_Hamilton', '*', '*', '*)', '-'], ['approach', 'NN', '*)', 'O', 'bc/cnn/00/cnn_0003', '0', '9', 'approach', '02', '3', 'Linda_Hamilton', '*', '*', '(V*)', '-'], ['to', 'IN', '(PP*', 'O', 'bc/cnn/00/cnn_0003', '0', '10', '-', '-', '-', 'Linda_Hamilton', '*', '*', '(ARG1*', '-'], ['wellness', 'NN', '(NP*)))))))', 'O', 'bc/cnn/00/cnn_0003', '0', '11', '-', '-', '-', 'Linda_Hamilton', '*)', '*)', '*)', '-'], ['/.', '.', '*))', 'O', 'bc/cnn/00/cnn_0003', '0', '12', '-', '-', '-', 'Linda_Hamilton', '*', '*', '*', '-'], [], ['Um', 'UH', '(TOP(S(INTJ*)', 'O', 'bc/cnn/00/cnn_0003', '0', '0', '-', '-', '-', 'Linda_Hamilton', '(ARGM-DIS*)', '*', '-'], ['there', 'EX', '(NP*)', 'O', 'bc/cnn/00/cnn_0003', '0', '1', '-', '-', '-', 'Linda_Hamilton', '*', '*', '-'], [\"'s\", 'VBZ', '(VP*', 'O', 'bc/cnn/00/cnn_0003', '0', '2', 'be', '02', '3', 'Linda_Hamilton', '(V*)', '*', '-'], ['a', 'DT', '(NP(NP*', 'O', 'bc/cnn/00/cnn_0003', '0', '3', '-', '-', '-', 'Linda_Hamilton', '(ARG1*', '*', '-'], ['big', 'JJ', '*', 'O', 'bc/cnn/00/cnn_0003', '0', '4', '-', '-', '-', 'Linda_Hamilton', '*', '*', '-'], ['gap', 'NN', '*)', 'O', 'bc/cnn/00/cnn_0003', '0', '5', 'gap', '-', '4', 'Linda_Hamilton', '*', '*', '-'], ['between', 'IN', '(PP*', 'O', 'bc/cnn/00/cnn_0003', '0', '6', '-', '-', '-', 'Linda_Hamilton', '*', '*', '-'], ['those', 'DT', '(NP(NP(NP*)', 'O', 'bc/cnn/00/cnn_0003', '0', '7', '-', '-', '-', 'Linda_Hamilton', '*', '(ARG1*)', '-'], ['that', 'WDT', '(SBAR(WHNP*)', 'O', 'bc/cnn/00/cnn_0003', '0', '8', '-', '-', '-', 'Linda_Hamilton', '*', '(R-ARG1*)', '-'], ['are', 'VBP', '(S(VP*', 'O', 'bc/cnn/00/cnn_0003', '0', '9', 'be', '01', '1', 'Linda_Hamilton', '*', '(V*)', '-'], ['mentally', 'RB', '(ADJP*', 'O', 'bc/cnn/00/cnn_0003', '0', '10', '-', '-', '-', 'Linda_Hamilton', '*', '(ARG2*', '-'], ['ill', 'JJ', '*)))))', 'O', 'bc/cnn/00/cnn_0003', '0', '11', '-', '-', '-', 'Linda_Hamilton', '*', '*)', '-'], ['and', 'CC', '*', 'O', 'bc/cnn/00/cnn_0003', '0', '12', '-', '-', '-', 'Linda_Hamilton', '*', '*', '-'], ['the', 'DT', '(NP*', 'O', 'bc/cnn/00/cnn_0003', '0', '13', '-', '-', '-', 'Linda_Hamilton', '*', '*', '-'], ['general', 'JJ', '*', 'O', 'bc/cnn/00/cnn_0003', '0', '14', '-', '-', '-', 'Linda_Hamilton', '*', '*', '-'], ['population', 'NN', '*)))))', 'O', 'bc/cnn/00/cnn_0003', '0', '15', 'population', '-', '2', 'Linda_Hamilton', '*)', '*', '-'], ['/.', '.', '*))', 'O', 'bc/cnn/00/cnn_0003', '0', '16', '-', '-', '-', 'Linda_Hamilton', '*', '*', '-'], [], ['A', 'DT', '(TOP(FRAG(NP*', 'O', 'bc/cnn/00/cnn_0000', '0', '0', '-', '-', '-', 'speaker1', '*', '*', '*', '(38'], ['much', 'RB', '(ADJP*', 'O', 'bc/cnn/00/cnn_0000', '0', '1', '-', '-', '-', 'speaker1', '*', '*', '*', '-'], ['better', 'JJR', '*))', 'O', 'bc/cnn/00/cnn_0000', '0', '2', '-', '-', '-', 'speaker1', '*', '*', '*', '-'], ['looking', 'VBG', '(VP*', 'O', 'bc/cnn/00/cnn_0000', '0', '3', 'look', '01', '1', 'speaker1', '(V*)', '*', '*', '-'], ['News', 'NNP', '(NP*', 'B-WORK_OF_ART', 'bc/cnn/00/cnn_0000', '0', '4', '-', '-', '-', 'speaker1', '(ARG1*', '*', '*', '-'], ['Night', 'NN', '*)', 'I-WORK_OF_ART', 'bc/cnn/00/cnn_0000', '0', '5', 'night', '-', '1', 'speaker1', '*)', '*', '*', '38)'], ['I', 'PRP', '(SBAR(S(NP*)', 'O', 'bc/cnn/00/cnn_0000', '0', '6', '-', '-', '-', 'speaker1', '*', '(ARG0*)', '*', '(51)'], ['might', 'MD', '(VP*', 'O', 'bc/cnn/00/cnn_0000', '0', '7', '-', '-', '-', 'speaker1', '*', '(ARGM-MOD*)', '*', '-'], ['add', 'VB', '(VP*', 'O', 'bc/cnn/00/cnn_0000', '0', '8', 'add', '02', '1', 'speaker1', '*', '(V*)', '*', '-'], ['as', 'IN', '(SBAR*', 'O', 'bc/cnn/00/cnn_0000', '0', '9', '-', '-', '-', 'speaker1', '*', '(ARGM-CAU*', '*', '-'], ['Paula', 'NNP', '(S(NP*', 'B-PERSON', 'bc/cnn/00/cnn_0000', '0', '10', '-', '-', '-', 'speaker1', '*', '*', '(ARG1*', '(133'], ['Zahn', 'NNP', '*)', 'I-PERSON', 'bc/cnn/00/cnn_0000', '0', '11', '-', '-', '-', 'speaker1', '*', '*', '*)', '133)'], ['sits', 'VBZ', '(VP*', 'O', 'bc/cnn/00/cnn_0000', '0', '12', 'sit', '01', '1', 'speaker1', '*', '*', '(V*)', '-'], ['in', 'IN', '(PP*', 'O', 'bc/cnn/00/cnn_0000', '0', '13', '-', '-', '-', 'speaker1', '*', '*', '(ARG2*', '-'], ['for', 'IN', '(PP*', 'O', 'bc/cnn/00/cnn_0000', '0', '14', '-', '-', '-', 'speaker1', '*', '*', '*', '-'], ['Anderson', 'NNP', '(NP*', 'B-PERSON', 'bc/cnn/00/cnn_0000', '0', '15', '-', '-', '-', 'speaker1', '*', '*', '*', '(71|(105)'], ['and', 'CC', '*', 'O', 'bc/cnn/00/cnn_0000', '0', '16', '-', '-', '-', 'speaker1', '*', '*', '*', '-'], ['Aaron', 'NNP', '*)))))))))))', 'B-PERSON', 'bc/cnn/00/cnn_0000', '0', '17', '-', '-', '-', 'speaker1', '*', '*)', '*)', '(124)|71)'], ['/.', '.', '*))', 'O', 'bc/cnn/00/cnn_0000', '0', '18', '-', '-', '-', 'speaker1', '*', '*', '*', '-'], [], ['They', 'PRP', '(TOP(S(NP*)', 'O', 'bc/cnn/00/cnn_0000', '0', '0', '-', '-', '-', 'speaker1', '(71)'], [\"'re\", 'VBP', '(VP*', 'O', 'bc/cnn/00/cnn_0000', '0', '1', 'be', '-', '1', 'speaker1', '-'], ['both', 'DT', '*', 'O', 'bc/cnn/00/cnn_0000', '0', '2', '-', '-', '-', 'speaker1', '-'], ['off', 'RB', '(ADVP*))', 'O', 'bc/cnn/00/cnn_0000', '0', '3', '-', '-', '-', 'speaker1', '-'], ['/-', '.', '*))', 'O', 'bc/cnn/00/cnn_0000', '0', '4', '-', '-', '-', 'speaker1', '-'], [], ['Look', 'VB', '(TOP(S(VP*', 'O', 'bc/cnn/00/cnn_0000', '0', '0', 'look', '-', '1', 'speaker1', '-'], ['at', 'IN', '(PP*', 'O', 'bc/cnn/00/cnn_0000', '0', '1', '-', '-', '-', 'speaker1', '-'], ['that', 'DT', '(NP*)))', 'O', 'bc/cnn/00/cnn_0000', '0', '2', '-', '-', '-', 'speaker1', '(133)'], ['/.', '.', '*))', 'O', 'bc/cnn/00/cnn_0000', '0', '3', '-', '-', '-', 'speaker1', '-']]\n",
      "Testing Data \n",
      "[['Yes', 'UH', '(TOP(S(INTJ*)', 'O', 'bc/cnn/00/cnn_0003', '0', '0', '-', '-', '-', 'Linda_Hamilton', '*', '-'], ['they', 'PRP', '(NP*)', 'O', 'bc/cnn/00/cnn_0003', '0', '1', '-', '-', '-', 'Linda_Hamilton', '*', '(15)'], ['did', 'VBD', '(VP*)', 'O', 'bc/cnn/00/cnn_0003', '0', '2', 'do', '01', '-', 'Linda_Hamilton', '(V*)', '-'], ['/.', '.', '*))', 'O', 'bc/cnn/00/cnn_0003', '0', '3', '-', '-', '-', 'Linda_Hamilton', '*', '-'], [], ['and', 'CC', '(TOP(S*', 'O', 'bc/cnn/00/cnn_0003', '0', '0', '-', '-', '-', 'Linda_Hamilton', '(ARGM-DIS*)', '*', '-'], ['they', 'PRP', '(NP*)', 'O', 'bc/cnn/00/cnn_0003', '0', '1', '-', '-', '-', 'Linda_Hamilton', '(ARG1*)', '*', '(15)'], ['were', 'VBD', '(VP*', 'O', 'bc/cnn/00/cnn_0003', '0', '2', 'be', '01', '2', 'Linda_Hamilton', '(V*)', '*', '-'], ['not', 'RB', '*', 'O', 'bc/cnn/00/cnn_0003', '0', '3', '-', '-', '-', 'Linda_Hamilton', '(ARGM-NEG*)', '*', '-'], ['the', 'DT', '(NP(NP*', 'O', 'bc/cnn/00/cnn_0003', '0', '4', '-', '-', '-', 'Linda_Hamilton', '(ARG2*', '(ARG1*', '-'], ['first', 'JJ', '*', 'B-ORDINAL', 'bc/cnn/00/cnn_0003', '0', '5', '-', '-', '-', 'Linda_Hamilton', '*', '*', '-'], ['company', 'NN', '*)', 'O', 'bc/cnn/00/cnn_0003', '0', '6', 'company', '-', '1', 'Linda_Hamilton', '*', '*)', '-'], ['that', 'WDT', '(SBAR(WHNP*)', 'O', 'bc/cnn/00/cnn_0003', '0', '7', '-', '-', '-', 'Linda_Hamilton', '*', '(R-ARG1*)', '-'], ['approached', 'VBD', '(S(VP*', 'O', 'bc/cnn/00/cnn_0003', '0', '8', 'approach', '01', '2', 'Linda_Hamilton', '*', '(V*)', '-'], ['me', 'PRP', '(NP*))))))', 'O', 'bc/cnn/00/cnn_0003', '0', '9', '-', '-', '-', 'Linda_Hamilton', '*)', '(ARG2*)', '(76)'], ['/.', '.', '*))', 'O', 'bc/cnn/00/cnn_0003', '0', '10', '-', '-', '-', 'Linda_Hamilton', '*', '*', '-'], [], ['but', 'CC', '(TOP(S*', 'O', 'bc/cnn/00/cnn_0003', '0', '0', '-', '-', '-', 'Linda_Hamilton', '*', '*', '-'], ['I', 'PRP', '(S(NP*)', 'O', 'bc/cnn/00/cnn_0003', '0', '1', '-', '-', '-', 'Linda_Hamilton', '*', '(ARG0*)', '(76)'], ['am', 'VBP', '(VP*', 'O', 'bc/cnn/00/cnn_0003', '0', '2', 'be', '03', '-', 'Linda_Hamilton', '(V*)', '*', '-'], ['not', 'RB', '*', 'O', 'bc/cnn/00/cnn_0003', '0', '3', '-', '-', '-', 'Linda_Hamilton', '*', '(ARGM-NEG*)', '-'], ['selling', 'VBG', '(VP*', 'O', 'bc/cnn/00/cnn_0003', '0', '4', 'sell', '01', '1', 'Linda_Hamilton', '*', '(V*)', '-'], ['medicine', 'NN', '(NP*', 'O', 'bc/cnn/00/cnn_0003', '0', '5', 'medicine', '-', '1', 'Linda_Hamilton', '*', '(ARG1*', '-'], ['or', 'CC', '*', 'O', 'bc/cnn/00/cnn_0003', '0', '6', '-', '-', '-', 'Linda_Hamilton', '*', '*', '-'], ['pharmaceuticals', 'NNS', '*))))', 'O', 'bc/cnn/00/cnn_0003', '0', '7', '-', '-', '-', 'Linda_Hamilton', '*', '*)', '-'], ['/.', '.', '*))', 'O', 'bc/cnn/00/cnn_0003', '0', '8', '-', '-', '-', 'Linda_Hamilton', '*', '*', '-'], [], ['I', 'PRP', '(TOP(S(NP*)', 'O', 'bc/cnn/00/cnn_0003', '0', '0', '-', '-', '-', 'Linda_Hamilton', '(ARG1*)', '*', '*', '(76)'], [\"'m\", 'VBP', '(VP*', 'O', 'bc/cnn/00/cnn_0003', '0', '1', 'be', '01', '1', 'Linda_Hamilton', '(V*)', '*', '*', '-'], ['sort', 'RB', '(PP(ADVP*', 'O', 'bc/cnn/00/cnn_0003', '0', '2', '-', '-', '-', 'Linda_Hamilton', '(ARG2*', '*', '*', '-'], ['of', 'RB', '*)', 'O', 'bc/cnn/00/cnn_0003', '0', '3', '-', '-', '-', 'Linda_Hamilton', '*', '*', '*', '-'], ['about', 'IN', '*', 'O', 'bc/cnn/00/cnn_0003', '0', '4', '-', '-', '-', 'Linda_Hamilton', '*', '*', '*', '-'], ['selling', 'VBG', '(S(VP*', 'O', 'bc/cnn/00/cnn_0003', '0', '5', 'sell', '01', '2', 'Linda_Hamilton', '*', '(V*)', '*', '-'], ['a', 'DT', '(NP(NP*', 'O', 'bc/cnn/00/cnn_0003', '0', '6', '-', '-', '-', 'Linda_Hamilton', '*', '(ARG1*', '*', '-'], ['full', 'JJ', '(ADJP*', 'O', 'bc/cnn/00/cnn_0003', '0', '7', '-', '-', '-', 'Linda_Hamilton', '*', '*', '(ARG2*', '-'], ['body', 'NN', '*)', 'O', 'bc/cnn/00/cnn_0003', '0', '8', 'body', '-', '2', 'Linda_Hamilton', '*', '*', '*)', '-'], ['approach', 'NN', '*)', 'O', 'bc/cnn/00/cnn_0003', '0', '9', 'approach', '02', '3', 'Linda_Hamilton', '*', '*', '(V*)', '-'], ['to', 'IN', '(PP*', 'O', 'bc/cnn/00/cnn_0003', '0', '10', '-', '-', '-', 'Linda_Hamilton', '*', '*', '(ARG1*', '-'], ['wellness', 'NN', '(NP*)))))))', 'O', 'bc/cnn/00/cnn_0003', '0', '11', '-', '-', '-', 'Linda_Hamilton', '*)', '*)', '*)', '-'], ['/.', '.', '*))', 'O', 'bc/cnn/00/cnn_0003', '0', '12', '-', '-', '-', 'Linda_Hamilton', '*', '*', '*', '-'], [], ['Um', 'UH', '(TOP(S(INTJ*)', 'O', 'bc/cnn/00/cnn_0003', '0', '0', '-', '-', '-', 'Linda_Hamilton', '(ARGM-DIS*)', '*', '-'], ['there', 'EX', '(NP*)', 'O', 'bc/cnn/00/cnn_0003', '0', '1', '-', '-', '-', 'Linda_Hamilton', '*', '*', '-'], [\"'s\", 'VBZ', '(VP*', 'O', 'bc/cnn/00/cnn_0003', '0', '2', 'be', '02', '3', 'Linda_Hamilton', '(V*)', '*', '-'], ['a', 'DT', '(NP(NP*', 'O', 'bc/cnn/00/cnn_0003', '0', '3', '-', '-', '-', 'Linda_Hamilton', '(ARG1*', '*', '-'], ['big', 'JJ', '*', 'O', 'bc/cnn/00/cnn_0003', '0', '4', '-', '-', '-', 'Linda_Hamilton', '*', '*', '-'], ['gap', 'NN', '*)', 'O', 'bc/cnn/00/cnn_0003', '0', '5', 'gap', '-', '4', 'Linda_Hamilton', '*', '*', '-'], ['between', 'IN', '(PP*', 'O', 'bc/cnn/00/cnn_0003', '0', '6', '-', '-', '-', 'Linda_Hamilton', '*', '*', '-'], ['those', 'DT', '(NP(NP(NP*)', 'O', 'bc/cnn/00/cnn_0003', '0', '7', '-', '-', '-', 'Linda_Hamilton', '*', '(ARG1*)', '-'], ['that', 'WDT', '(SBAR(WHNP*)', 'O', 'bc/cnn/00/cnn_0003', '0', '8', '-', '-', '-', 'Linda_Hamilton', '*', '(R-ARG1*)', '-'], ['are', 'VBP', '(S(VP*', 'O', 'bc/cnn/00/cnn_0003', '0', '9', 'be', '01', '1', 'Linda_Hamilton', '*', '(V*)', '-'], ['mentally', 'RB', '(ADJP*', 'O', 'bc/cnn/00/cnn_0003', '0', '10', '-', '-', '-', 'Linda_Hamilton', '*', '(ARG2*', '-'], ['ill', 'JJ', '*)))))', 'O', 'bc/cnn/00/cnn_0003', '0', '11', '-', '-', '-', 'Linda_Hamilton', '*', '*)', '-'], ['and', 'CC', '*', 'O', 'bc/cnn/00/cnn_0003', '0', '12', '-', '-', '-', 'Linda_Hamilton', '*', '*', '-'], ['the', 'DT', '(NP*', 'O', 'bc/cnn/00/cnn_0003', '0', '13', '-', '-', '-', 'Linda_Hamilton', '*', '*', '-'], ['general', 'JJ', '*', 'O', 'bc/cnn/00/cnn_0003', '0', '14', '-', '-', '-', 'Linda_Hamilton', '*', '*', '-'], ['population', 'NN', '*)))))', 'O', 'bc/cnn/00/cnn_0003', '0', '15', 'population', '-', '2', 'Linda_Hamilton', '*)', '*', '-'], ['/.', '.', '*))', 'O', 'bc/cnn/00/cnn_0003', '0', '16', '-', '-', '-', 'Linda_Hamilton', '*', '*', '-'], [], ['A', 'DT', '(TOP(FRAG(NP*', 'O', 'bc/cnn/00/cnn_0000', '0', '0', '-', '-', '-', 'speaker1', '*', '*', '*', '(38'], ['much', 'RB', '(ADJP*', 'O', 'bc/cnn/00/cnn_0000', '0', '1', '-', '-', '-', 'speaker1', '*', '*', '*', '-'], ['better', 'JJR', '*))', 'O', 'bc/cnn/00/cnn_0000', '0', '2', '-', '-', '-', 'speaker1', '*', '*', '*', '-'], ['looking', 'VBG', '(VP*', 'O', 'bc/cnn/00/cnn_0000', '0', '3', 'look', '01', '1', 'speaker1', '(V*)', '*', '*', '-'], ['News', 'NNP', '(NP*', 'B-WORK_OF_ART', 'bc/cnn/00/cnn_0000', '0', '4', '-', '-', '-', 'speaker1', '(ARG1*', '*', '*', '-'], ['Night', 'NN', '*)', 'I-WORK_OF_ART', 'bc/cnn/00/cnn_0000', '0', '5', 'night', '-', '1', 'speaker1', '*)', '*', '*', '38)'], ['I', 'PRP', '(SBAR(S(NP*)', 'O', 'bc/cnn/00/cnn_0000', '0', '6', '-', '-', '-', 'speaker1', '*', '(ARG0*)', '*', '(51)'], ['might', 'MD', '(VP*', 'O', 'bc/cnn/00/cnn_0000', '0', '7', '-', '-', '-', 'speaker1', '*', '(ARGM-MOD*)', '*', '-'], ['add', 'VB', '(VP*', 'O', 'bc/cnn/00/cnn_0000', '0', '8', 'add', '02', '1', 'speaker1', '*', '(V*)', '*', '-'], ['as', 'IN', '(SBAR*', 'O', 'bc/cnn/00/cnn_0000', '0', '9', '-', '-', '-', 'speaker1', '*', '(ARGM-CAU*', '*', '-'], ['Paula', 'NNP', '(S(NP*', 'B-PERSON', 'bc/cnn/00/cnn_0000', '0', '10', '-', '-', '-', 'speaker1', '*', '*', '(ARG1*', '(133'], ['Zahn', 'NNP', '*)', 'I-PERSON', 'bc/cnn/00/cnn_0000', '0', '11', '-', '-', '-', 'speaker1', '*', '*', '*)', '133)'], ['sits', 'VBZ', '(VP*', 'O', 'bc/cnn/00/cnn_0000', '0', '12', 'sit', '01', '1', 'speaker1', '*', '*', '(V*)', '-'], ['in', 'IN', '(PP*', 'O', 'bc/cnn/00/cnn_0000', '0', '13', '-', '-', '-', 'speaker1', '*', '*', '(ARG2*', '-'], ['for', 'IN', '(PP*', 'O', 'bc/cnn/00/cnn_0000', '0', '14', '-', '-', '-', 'speaker1', '*', '*', '*', '-'], ['Anderson', 'NNP', '(NP*', 'B-PERSON', 'bc/cnn/00/cnn_0000', '0', '15', '-', '-', '-', 'speaker1', '*', '*', '*', '(71|(105)'], ['and', 'CC', '*', 'O', 'bc/cnn/00/cnn_0000', '0', '16', '-', '-', '-', 'speaker1', '*', '*', '*', '-'], ['Aaron', 'NNP', '*)))))))))))', 'B-PERSON', 'bc/cnn/00/cnn_0000', '0', '17', '-', '-', '-', 'speaker1', '*', '*)', '*)', '(124)|71)'], ['/.', '.', '*))', 'O', 'bc/cnn/00/cnn_0000', '0', '18', '-', '-', '-', 'speaker1', '*', '*', '*', '-'], [], ['They', 'PRP', '(TOP(S(NP*)', 'O', 'bc/cnn/00/cnn_0000', '0', '0', '-', '-', '-', 'speaker1', '(71)'], [\"'re\", 'VBP', '(VP*', 'O', 'bc/cnn/00/cnn_0000', '0', '1', 'be', '-', '1', 'speaker1', '-'], ['both', 'DT', '*', 'O', 'bc/cnn/00/cnn_0000', '0', '2', '-', '-', '-', 'speaker1', '-'], ['off', 'RB', '(ADVP*))', 'O', 'bc/cnn/00/cnn_0000', '0', '3', '-', '-', '-', 'speaker1', '-'], ['/-', '.', '*))', 'O', 'bc/cnn/00/cnn_0000', '0', '4', '-', '-', '-', 'speaker1', '-'], [], ['Look', 'VB', '(TOP(S(VP*', 'O', 'bc/cnn/00/cnn_0000', '0', '0', 'look', '-', '1', 'speaker1', '-'], ['at', 'IN', '(PP*', 'O', 'bc/cnn/00/cnn_0000', '0', '1', '-', '-', '-', 'speaker1', '-'], ['that', 'DT', '(NP*)))', 'O', 'bc/cnn/00/cnn_0000', '0', '2', '-', '-', '-', 'speaker1', '(133)'], ['/.', '.', '*))', 'O', 'bc/cnn/00/cnn_0000', '0', '3', '-', '-', '-', 'speaker1', '-']]\n",
      "Dev Data \n",
      "[['Yes', 'UH', '(TOP(S(INTJ*)', 'O', 'bc/cnn/00/cnn_0003', '0', '0', '-', '-', '-', 'Linda_Hamilton', '*', '-'], ['they', 'PRP', '(NP*)', 'O', 'bc/cnn/00/cnn_0003', '0', '1', '-', '-', '-', 'Linda_Hamilton', '*', '(15)'], ['did', 'VBD', '(VP*)', 'O', 'bc/cnn/00/cnn_0003', '0', '2', 'do', '01', '-', 'Linda_Hamilton', '(V*)', '-'], ['/.', '.', '*))', 'O', 'bc/cnn/00/cnn_0003', '0', '3', '-', '-', '-', 'Linda_Hamilton', '*', '-'], [], ['and', 'CC', '(TOP(S*', 'O', 'bc/cnn/00/cnn_0003', '0', '0', '-', '-', '-', 'Linda_Hamilton', '(ARGM-DIS*)', '*', '-'], ['they', 'PRP', '(NP*)', 'O', 'bc/cnn/00/cnn_0003', '0', '1', '-', '-', '-', 'Linda_Hamilton', '(ARG1*)', '*', '(15)'], ['were', 'VBD', '(VP*', 'O', 'bc/cnn/00/cnn_0003', '0', '2', 'be', '01', '2', 'Linda_Hamilton', '(V*)', '*', '-'], ['not', 'RB', '*', 'O', 'bc/cnn/00/cnn_0003', '0', '3', '-', '-', '-', 'Linda_Hamilton', '(ARGM-NEG*)', '*', '-'], ['the', 'DT', '(NP(NP*', 'O', 'bc/cnn/00/cnn_0003', '0', '4', '-', '-', '-', 'Linda_Hamilton', '(ARG2*', '(ARG1*', '-'], ['first', 'JJ', '*', 'B-ORDINAL', 'bc/cnn/00/cnn_0003', '0', '5', '-', '-', '-', 'Linda_Hamilton', '*', '*', '-'], ['company', 'NN', '*)', 'O', 'bc/cnn/00/cnn_0003', '0', '6', 'company', '-', '1', 'Linda_Hamilton', '*', '*)', '-'], ['that', 'WDT', '(SBAR(WHNP*)', 'O', 'bc/cnn/00/cnn_0003', '0', '7', '-', '-', '-', 'Linda_Hamilton', '*', '(R-ARG1*)', '-'], ['approached', 'VBD', '(S(VP*', 'O', 'bc/cnn/00/cnn_0003', '0', '8', 'approach', '01', '2', 'Linda_Hamilton', '*', '(V*)', '-'], ['me', 'PRP', '(NP*))))))', 'O', 'bc/cnn/00/cnn_0003', '0', '9', '-', '-', '-', 'Linda_Hamilton', '*)', '(ARG2*)', '(76)'], ['/.', '.', '*))', 'O', 'bc/cnn/00/cnn_0003', '0', '10', '-', '-', '-', 'Linda_Hamilton', '*', '*', '-'], [], ['but', 'CC', '(TOP(S*', 'O', 'bc/cnn/00/cnn_0003', '0', '0', '-', '-', '-', 'Linda_Hamilton', '*', '*', '-'], ['I', 'PRP', '(S(NP*)', 'O', 'bc/cnn/00/cnn_0003', '0', '1', '-', '-', '-', 'Linda_Hamilton', '*', '(ARG0*)', '(76)'], ['am', 'VBP', '(VP*', 'O', 'bc/cnn/00/cnn_0003', '0', '2', 'be', '03', '-', 'Linda_Hamilton', '(V*)', '*', '-'], ['not', 'RB', '*', 'O', 'bc/cnn/00/cnn_0003', '0', '3', '-', '-', '-', 'Linda_Hamilton', '*', '(ARGM-NEG*)', '-'], ['selling', 'VBG', '(VP*', 'O', 'bc/cnn/00/cnn_0003', '0', '4', 'sell', '01', '1', 'Linda_Hamilton', '*', '(V*)', '-'], ['medicine', 'NN', '(NP*', 'O', 'bc/cnn/00/cnn_0003', '0', '5', 'medicine', '-', '1', 'Linda_Hamilton', '*', '(ARG1*', '-'], ['or', 'CC', '*', 'O', 'bc/cnn/00/cnn_0003', '0', '6', '-', '-', '-', 'Linda_Hamilton', '*', '*', '-'], ['pharmaceuticals', 'NNS', '*))))', 'O', 'bc/cnn/00/cnn_0003', '0', '7', '-', '-', '-', 'Linda_Hamilton', '*', '*)', '-'], ['/.', '.', '*))', 'O', 'bc/cnn/00/cnn_0003', '0', '8', '-', '-', '-', 'Linda_Hamilton', '*', '*', '-'], [], ['I', 'PRP', '(TOP(S(NP*)', 'O', 'bc/cnn/00/cnn_0003', '0', '0', '-', '-', '-', 'Linda_Hamilton', '(ARG1*)', '*', '*', '(76)'], [\"'m\", 'VBP', '(VP*', 'O', 'bc/cnn/00/cnn_0003', '0', '1', 'be', '01', '1', 'Linda_Hamilton', '(V*)', '*', '*', '-'], ['sort', 'RB', '(PP(ADVP*', 'O', 'bc/cnn/00/cnn_0003', '0', '2', '-', '-', '-', 'Linda_Hamilton', '(ARG2*', '*', '*', '-'], ['of', 'RB', '*)', 'O', 'bc/cnn/00/cnn_0003', '0', '3', '-', '-', '-', 'Linda_Hamilton', '*', '*', '*', '-'], ['about', 'IN', '*', 'O', 'bc/cnn/00/cnn_0003', '0', '4', '-', '-', '-', 'Linda_Hamilton', '*', '*', '*', '-'], ['selling', 'VBG', '(S(VP*', 'O', 'bc/cnn/00/cnn_0003', '0', '5', 'sell', '01', '2', 'Linda_Hamilton', '*', '(V*)', '*', '-'], ['a', 'DT', '(NP(NP*', 'O', 'bc/cnn/00/cnn_0003', '0', '6', '-', '-', '-', 'Linda_Hamilton', '*', '(ARG1*', '*', '-'], ['full', 'JJ', '(ADJP*', 'O', 'bc/cnn/00/cnn_0003', '0', '7', '-', '-', '-', 'Linda_Hamilton', '*', '*', '(ARG2*', '-'], ['body', 'NN', '*)', 'O', 'bc/cnn/00/cnn_0003', '0', '8', 'body', '-', '2', 'Linda_Hamilton', '*', '*', '*)', '-'], ['approach', 'NN', '*)', 'O', 'bc/cnn/00/cnn_0003', '0', '9', 'approach', '02', '3', 'Linda_Hamilton', '*', '*', '(V*)', '-'], ['to', 'IN', '(PP*', 'O', 'bc/cnn/00/cnn_0003', '0', '10', '-', '-', '-', 'Linda_Hamilton', '*', '*', '(ARG1*', '-'], ['wellness', 'NN', '(NP*)))))))', 'O', 'bc/cnn/00/cnn_0003', '0', '11', '-', '-', '-', 'Linda_Hamilton', '*)', '*)', '*)', '-'], ['/.', '.', '*))', 'O', 'bc/cnn/00/cnn_0003', '0', '12', '-', '-', '-', 'Linda_Hamilton', '*', '*', '*', '-'], [], ['Um', 'UH', '(TOP(S(INTJ*)', 'O', 'bc/cnn/00/cnn_0003', '0', '0', '-', '-', '-', 'Linda_Hamilton', '(ARGM-DIS*)', '*', '-'], ['there', 'EX', '(NP*)', 'O', 'bc/cnn/00/cnn_0003', '0', '1', '-', '-', '-', 'Linda_Hamilton', '*', '*', '-'], [\"'s\", 'VBZ', '(VP*', 'O', 'bc/cnn/00/cnn_0003', '0', '2', 'be', '02', '3', 'Linda_Hamilton', '(V*)', '*', '-'], ['a', 'DT', '(NP(NP*', 'O', 'bc/cnn/00/cnn_0003', '0', '3', '-', '-', '-', 'Linda_Hamilton', '(ARG1*', '*', '-'], ['big', 'JJ', '*', 'O', 'bc/cnn/00/cnn_0003', '0', '4', '-', '-', '-', 'Linda_Hamilton', '*', '*', '-'], ['gap', 'NN', '*)', 'O', 'bc/cnn/00/cnn_0003', '0', '5', 'gap', '-', '4', 'Linda_Hamilton', '*', '*', '-'], ['between', 'IN', '(PP*', 'O', 'bc/cnn/00/cnn_0003', '0', '6', '-', '-', '-', 'Linda_Hamilton', '*', '*', '-'], ['those', 'DT', '(NP(NP(NP*)', 'O', 'bc/cnn/00/cnn_0003', '0', '7', '-', '-', '-', 'Linda_Hamilton', '*', '(ARG1*)', '-'], ['that', 'WDT', '(SBAR(WHNP*)', 'O', 'bc/cnn/00/cnn_0003', '0', '8', '-', '-', '-', 'Linda_Hamilton', '*', '(R-ARG1*)', '-'], ['are', 'VBP', '(S(VP*', 'O', 'bc/cnn/00/cnn_0003', '0', '9', 'be', '01', '1', 'Linda_Hamilton', '*', '(V*)', '-'], ['mentally', 'RB', '(ADJP*', 'O', 'bc/cnn/00/cnn_0003', '0', '10', '-', '-', '-', 'Linda_Hamilton', '*', '(ARG2*', '-'], ['ill', 'JJ', '*)))))', 'O', 'bc/cnn/00/cnn_0003', '0', '11', '-', '-', '-', 'Linda_Hamilton', '*', '*)', '-'], ['and', 'CC', '*', 'O', 'bc/cnn/00/cnn_0003', '0', '12', '-', '-', '-', 'Linda_Hamilton', '*', '*', '-'], ['the', 'DT', '(NP*', 'O', 'bc/cnn/00/cnn_0003', '0', '13', '-', '-', '-', 'Linda_Hamilton', '*', '*', '-'], ['general', 'JJ', '*', 'O', 'bc/cnn/00/cnn_0003', '0', '14', '-', '-', '-', 'Linda_Hamilton', '*', '*', '-'], ['population', 'NN', '*)))))', 'O', 'bc/cnn/00/cnn_0003', '0', '15', 'population', '-', '2', 'Linda_Hamilton', '*)', '*', '-'], ['/.', '.', '*))', 'O', 'bc/cnn/00/cnn_0003', '0', '16', '-', '-', '-', 'Linda_Hamilton', '*', '*', '-'], [], ['A', 'DT', '(TOP(FRAG(NP*', 'O', 'bc/cnn/00/cnn_0000', '0', '0', '-', '-', '-', 'speaker1', '*', '*', '*', '(38'], ['much', 'RB', '(ADJP*', 'O', 'bc/cnn/00/cnn_0000', '0', '1', '-', '-', '-', 'speaker1', '*', '*', '*', '-'], ['better', 'JJR', '*))', 'O', 'bc/cnn/00/cnn_0000', '0', '2', '-', '-', '-', 'speaker1', '*', '*', '*', '-'], ['looking', 'VBG', '(VP*', 'O', 'bc/cnn/00/cnn_0000', '0', '3', 'look', '01', '1', 'speaker1', '(V*)', '*', '*', '-'], ['News', 'NNP', '(NP*', 'B-WORK_OF_ART', 'bc/cnn/00/cnn_0000', '0', '4', '-', '-', '-', 'speaker1', '(ARG1*', '*', '*', '-'], ['Night', 'NN', '*)', 'I-WORK_OF_ART', 'bc/cnn/00/cnn_0000', '0', '5', 'night', '-', '1', 'speaker1', '*)', '*', '*', '38)'], ['I', 'PRP', '(SBAR(S(NP*)', 'O', 'bc/cnn/00/cnn_0000', '0', '6', '-', '-', '-', 'speaker1', '*', '(ARG0*)', '*', '(51)'], ['might', 'MD', '(VP*', 'O', 'bc/cnn/00/cnn_0000', '0', '7', '-', '-', '-', 'speaker1', '*', '(ARGM-MOD*)', '*', '-'], ['add', 'VB', '(VP*', 'O', 'bc/cnn/00/cnn_0000', '0', '8', 'add', '02', '1', 'speaker1', '*', '(V*)', '*', '-'], ['as', 'IN', '(SBAR*', 'O', 'bc/cnn/00/cnn_0000', '0', '9', '-', '-', '-', 'speaker1', '*', '(ARGM-CAU*', '*', '-'], ['Paula', 'NNP', '(S(NP*', 'B-PERSON', 'bc/cnn/00/cnn_0000', '0', '10', '-', '-', '-', 'speaker1', '*', '*', '(ARG1*', '(133'], ['Zahn', 'NNP', '*)', 'I-PERSON', 'bc/cnn/00/cnn_0000', '0', '11', '-', '-', '-', 'speaker1', '*', '*', '*)', '133)'], ['sits', 'VBZ', '(VP*', 'O', 'bc/cnn/00/cnn_0000', '0', '12', 'sit', '01', '1', 'speaker1', '*', '*', '(V*)', '-'], ['in', 'IN', '(PP*', 'O', 'bc/cnn/00/cnn_0000', '0', '13', '-', '-', '-', 'speaker1', '*', '*', '(ARG2*', '-'], ['for', 'IN', '(PP*', 'O', 'bc/cnn/00/cnn_0000', '0', '14', '-', '-', '-', 'speaker1', '*', '*', '*', '-'], ['Anderson', 'NNP', '(NP*', 'B-PERSON', 'bc/cnn/00/cnn_0000', '0', '15', '-', '-', '-', 'speaker1', '*', '*', '*', '(71|(105)'], ['and', 'CC', '*', 'O', 'bc/cnn/00/cnn_0000', '0', '16', '-', '-', '-', 'speaker1', '*', '*', '*', '-'], ['Aaron', 'NNP', '*)))))))))))', 'B-PERSON', 'bc/cnn/00/cnn_0000', '0', '17', '-', '-', '-', 'speaker1', '*', '*)', '*)', '(124)|71)'], ['/.', '.', '*))', 'O', 'bc/cnn/00/cnn_0000', '0', '18', '-', '-', '-', 'speaker1', '*', '*', '*', '-'], [], ['They', 'PRP', '(TOP(S(NP*)', 'O', 'bc/cnn/00/cnn_0000', '0', '0', '-', '-', '-', 'speaker1', '(71)'], [\"'re\", 'VBP', '(VP*', 'O', 'bc/cnn/00/cnn_0000', '0', '1', 'be', '-', '1', 'speaker1', '-'], ['both', 'DT', '*', 'O', 'bc/cnn/00/cnn_0000', '0', '2', '-', '-', '-', 'speaker1', '-'], ['off', 'RB', '(ADVP*))', 'O', 'bc/cnn/00/cnn_0000', '0', '3', '-', '-', '-', 'speaker1', '-'], ['/-', '.', '*))', 'O', 'bc/cnn/00/cnn_0000', '0', '4', '-', '-', '-', 'speaker1', '-'], [], ['Look', 'VB', '(TOP(S(VP*', 'O', 'bc/cnn/00/cnn_0000', '0', '0', 'look', '-', '1', 'speaker1', '-'], ['at', 'IN', '(PP*', 'O', 'bc/cnn/00/cnn_0000', '0', '1', '-', '-', '-', 'speaker1', '-'], ['that', 'DT', '(NP*)))', 'O', 'bc/cnn/00/cnn_0000', '0', '2', '-', '-', '-', 'speaker1', '(133)'], ['/.', '.', '*))', 'O', 'bc/cnn/00/cnn_0000', '0', '3', '-', '-', '-', 'speaker1', '-']]\n"
     ]
    }
   ],
   "source": [
    "file_Dict = dict()\n",
    "file_Dict['train'] = \"../data/sample_common_input.txt\"\n",
    "file_Dict['test'] =\"../data/sample_common_input.txt\"\n",
    "file_Dict['dev'] = \"../data/sample_common_input.txt\"\n",
    "\n",
    "data_dict= charNer_object.read_dataset(file_Dict,'conll3')\n",
    "\n",
    "print(\"Training Data \")\n",
    "print(data_dict['train'])\n",
    "\n",
    "print(\"Testing Data \")\n",
    "print(data_dict['test'])\n",
    "\n",
    "print(\"Dev Data \")\n",
    "print(data_dict['dev'])"
   ]
  },
  {
   "cell_type": "markdown",
   "metadata": {},
   "source": [
    "## Training Model"
   ]
  },
  {
   "cell_type": "code",
   "execution_count": 7,
   "metadata": {},
   "outputs": [
    {
     "name": "stdout",
     "output_type": "stream",
     "text": [
      "WARNING:tensorflow:From /Library/Frameworks/Python.framework/Versions/3.7/lib/python3.7/site-packages/tensorflow/python/framework/op_def_library.py:263: colocate_with (from tensorflow.python.framework.ops) is deprecated and will be removed in a future version.\n",
      "Instructions for updating:\n",
      "Colocations handled automatically by placer.\n",
      "WARNING:tensorflow:From /Library/Frameworks/Python.framework/Versions/3.7/lib/python3.7/site-packages/keras/backend/tensorflow_backend.py:3445: calling dropout (from tensorflow.python.ops.nn_ops) with keep_prob is deprecated and will be removed in a future version.\n",
      "Instructions for updating:\n",
      "Please use `rate` instead of `keep_prob`. Rate should be set to `rate = 1 - keep_prob`.\n",
      "Input Dropout Rate:- 0.3\n",
      "Output Dropout Rate:- 0.5\n",
      "Recurrent Stack Depth:- 5\n",
      "Batch Size:- 32\n",
      "Max Epochs:- 10\n",
      "Learning Rate:- 0.001\n",
      "Embed Size:- 256\n",
      "Number of LSTM units:- 128\n",
      "Early Stopping:- 2\n",
      "Training the model\n",
      "WARNING:tensorflow:From /Library/Frameworks/Python.framework/Versions/3.7/lib/python3.7/site-packages/tensorflow/python/ops/math_ops.py:3066: to_int32 (from tensorflow.python.ops.math_ops) is deprecated and will be removed in a future version.\n",
      "Instructions for updating:\n",
      "Use tf.cast instead.\n",
      "Train on 7 samples, validate on 7 samples\n",
      "Epoch 1/10\n",
      "7/7 [==============================] - 10s 1s/step - loss: 1.5580 - categorical_accuracy: 0.1100 - non_null_label_accuracy: 0.0927 - val_loss: 1.5131 - val_categorical_accuracy: 0.7084 - val_non_null_label_accuracy: 0.8850\n",
      "\n",
      "Epoch 00001: val_loss improved from inf to 1.51312, saving model to ../model/model.weights.hdf5\n",
      "Epoch 2/10\n",
      "7/7 [==============================] - 1s 174ms/step - loss: 1.5140 - categorical_accuracy: 0.7084 - non_null_label_accuracy: 0.8850 - val_loss: 1.3733 - val_categorical_accuracy: 0.7084 - val_non_null_label_accuracy: 0.8850\n",
      "\n",
      "Epoch 00002: val_loss improved from 1.51312 to 1.37331, saving model to ../model/model.weights.hdf5\n",
      "Epoch 3/10\n",
      "7/7 [==============================] - 1s 186ms/step - loss: 1.3735 - categorical_accuracy: 0.7084 - non_null_label_accuracy: 0.8850 - val_loss: 0.9890 - val_categorical_accuracy: 0.7084 - val_non_null_label_accuracy: 0.8850\n",
      "\n",
      "Epoch 00003: val_loss improved from 1.37331 to 0.98902, saving model to ../model/model.weights.hdf5\n",
      "Epoch 4/10\n",
      "7/7 [==============================] - 1s 196ms/step - loss: 0.9903 - categorical_accuracy: 0.7084 - non_null_label_accuracy: 0.8850 - val_loss: 0.5618 - val_categorical_accuracy: 0.7084 - val_non_null_label_accuracy: 0.8850\n",
      "\n",
      "Epoch 00004: val_loss improved from 0.98902 to 0.56183, saving model to ../model/model.weights.hdf5\n",
      "Epoch 5/10\n",
      "7/7 [==============================] - 2s 238ms/step - loss: 0.5771 - categorical_accuracy: 0.7084 - non_null_label_accuracy: 0.8850 - val_loss: 0.6214 - val_categorical_accuracy: 0.7084 - val_non_null_label_accuracy: 0.8850\n",
      "\n",
      "Epoch 00005: val_loss did not improve from 0.56183\n",
      "Epoch 6/10\n",
      "7/7 [==============================] - 2s 289ms/step - loss: 0.6314 - categorical_accuracy: 0.7084 - non_null_label_accuracy: 0.8850 - val_loss: 0.5748 - val_categorical_accuracy: 0.7084 - val_non_null_label_accuracy: 0.8850\n",
      "\n",
      "Epoch 00006: val_loss did not improve from 0.56183\n",
      "Epoch 7/10\n",
      "7/7 [==============================] - 2s 217ms/step - loss: 0.5806 - categorical_accuracy: 0.7084 - non_null_label_accuracy: 0.8850 - val_loss: 0.4850 - val_categorical_accuracy: 0.7084 - val_non_null_label_accuracy: 0.8850\n",
      "\n",
      "Epoch 00007: val_loss improved from 0.56183 to 0.48496, saving model to ../model/model.weights.hdf5\n",
      "Epoch 8/10\n",
      "7/7 [==============================] - 1s 155ms/step - loss: 0.4675 - categorical_accuracy: 0.7084 - non_null_label_accuracy: 0.8850 - val_loss: 0.4435 - val_categorical_accuracy: 0.7084 - val_non_null_label_accuracy: 0.8850\n",
      "\n",
      "Epoch 00008: val_loss improved from 0.48496 to 0.44348, saving model to ../model/model.weights.hdf5\n",
      "Epoch 9/10\n",
      "7/7 [==============================] - 1s 134ms/step - loss: 0.4496 - categorical_accuracy: 0.7084 - non_null_label_accuracy: 0.8850 - val_loss: 0.4610 - val_categorical_accuracy: 0.7084 - val_non_null_label_accuracy: 0.8850\n",
      "\n",
      "Epoch 00009: val_loss did not improve from 0.44348\n",
      "Epoch 10/10\n",
      "7/7 [==============================] - 1s 124ms/step - loss: 0.4975 - categorical_accuracy: 0.7084 - non_null_label_accuracy: 0.8850 - val_loss: 0.4387 - val_categorical_accuracy: 0.7084 - val_non_null_label_accuracy: 0.8850\n",
      "\n",
      "Epoch 00010: val_loss improved from 0.44348 to 0.43871, saving model to ../model/model.weights.hdf5\n",
      "Saved model in model folder\n"
     ]
    }
   ],
   "source": [
    "\"\"\"\n",
    "Compulsory paramter:\n",
    "checkpoint_dir\n",
    "Optional parameters can be provided in .train()\n",
    "Usage: .train(input_dropout = 0.3,output_dropout=0.5)\n",
    "Parameters : \n",
    "input_dropout\n",
    "output_dropout\n",
    "recurrent_stack_depth\n",
    "batch_size\n",
    "max_epochs\n",
    "learning_rate\n",
    "embed_size\n",
    "num_lstm_units\n",
    "early_stopping\n",
    "\n",
    "Training model\n",
    ".train model calls .save_model inside to save model in the given checkpoint_dir\n",
    "\"\"\"\n",
    "charNer_object.train(data_dict,checkpoint_dir=\"../model\")"
   ]
  },
  {
   "cell_type": "markdown",
   "metadata": {},
   "source": [
    "## Evaluating the Model"
   ]
  },
  {
   "cell_type": "code",
   "execution_count": 9,
   "metadata": {},
   "outputs": [
    {
     "name": "stdout",
     "output_type": "stream",
     "text": [
      "Loading model for predicting\n",
      "Loading the model from ../model\n",
      "Model loaded successfully\n",
      "Accuracy: 0.914634\n"
     ]
    },
    {
     "data": {
      "text/plain": [
       "(0.8365556216537775, 0.9146341463414634, 0.8738542799440734)"
      ]
     },
     "execution_count": 9,
     "metadata": {},
     "output_type": "execute_result"
    }
   ],
   "source": [
    "\"\"\"\n",
    "Evaluation uses .predict function to predict named entities of test file. .predict function can be used independently \n",
    "also. Required parameter for .predict is the model_dir , where the model is saved.\n",
    "\n",
    ".eval method uses .load_model() internally \n",
    "\"\"\"\n",
    "\n",
    "ground_truths = charNer_object.convert_ground_truth(data_dict)\n",
    "predicted_values,output_file_format = charNer_object.predict(data_dict['test'],model_dir =\"../model\")\n",
    "charNer_object.evaluate(predicted_values,ground_truths)"
   ]
  },
  {
   "cell_type": "markdown",
   "metadata": {},
   "source": [
    "## Predicting Using Model"
   ]
  },
  {
   "cell_type": "code",
   "execution_count": null,
   "metadata": {},
   "outputs": [],
   "source": [
    "\"\"\"\n",
    ".predict() function uses .load_model internally \n",
    "\"\"\"\n",
    "predicted_values,output_file_format = charNer_object.predict(data_dict['test'],model_dir =\"../model\")\n",
    "print(predicted_values)"
   ]
  },
  {
   "cell_type": "markdown",
   "metadata": {},
   "source": [
    "## Saving Model"
   ]
  },
  {
   "cell_type": "code",
   "execution_count": null,
   "metadata": {},
   "outputs": [],
   "source": [
    "charNer_object.save_model(checkpoint_dir =\"../model\")"
   ]
  },
  {
   "cell_type": "markdown",
   "metadata": {},
   "source": [
    "## Loading Model"
   ]
  },
  {
   "cell_type": "code",
   "execution_count": 8,
   "metadata": {},
   "outputs": [
    {
     "name": "stdout",
     "output_type": "stream",
     "text": [
      "Loading the model from ../model\n",
      "Model loaded successfully\n",
      "<keras.engine.sequential.Sequential object at 0x137785cc0>\n"
     ]
    }
   ],
   "source": [
    "model = charNer_object.load_model(\"../model\")\n",
    "print(model)"
   ]
  }
 ],
 "metadata": {
  "kernelspec": {
   "display_name": "Python 3",
   "language": "python",
   "name": "python3"
  },
  "language_info": {
   "codemirror_mode": {
    "name": "ipython",
    "version": 3
   },
   "file_extension": ".py",
   "mimetype": "text/x-python",
   "name": "python",
   "nbconvert_exporter": "python",
   "pygments_lexer": "ipython3",
   "version": "3.7.2"
  }
 },
 "nbformat": 4,
 "nbformat_minor": 2
}
