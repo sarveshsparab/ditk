{
 "cells": [
  {
   "cell_type": "code",
   "execution_count": 1,
   "metadata": {},
   "outputs": [],
   "source": [
    "from TestRelationExtraction import TestRelationExtraction\n",
    "tr=TestRelationExtraction()"
   ]
  },
  {
   "cell_type": "code",
   "execution_count": 2,
   "metadata": {},
   "outputs": [
    {
     "name": "stdout",
     "output_type": "stream",
     "text": [
      "['0\\t0\\tcholestyramine\\tfluvastatin\\teffect\\tAlthough this effect was noted even when cholestyramine was given 4 hours prior to fluvastatin, this regimen did not result in diminished efficacy.\\t###END### ', '0\\t0\\tconfiguration\\telements\\tComponent-Whole(e2,e1)\\tThe system as described above has its greatest application in an arrayed configuration of antenna elements.\\t###END### ', '0\\t0\\tBill Gates\\tMicrosoft\\tfounder\\tBill Gates is the founder of Microsoft.\\t###END### ']\n",
      "Start loading testing data.\n",
      "====================\n",
      "\n",
      "Evaluating...\n",
      "\n",
      "WARNING:tensorflow:From c:\\users\\dell\\appdata\\local\\programs\\python\\python37\\lib\\site-packages\\tensorflow\\python\\training\\saver.py:1266: checkpoint_exists (from tensorflow.python.training.checkpoint_management) is deprecated and will be removed in a future version.\n",
      "Instructions for updating:\n",
      "Use standard file APIs to check for files with this prefix.\n",
      "INFO:tensorflow:Restoring parameters from C:\\Users\\Dell\\AppData\\Local\\Programs\\Python\\Python37\\Scripts\\csci548\\ResidualCNN\\runs\\model_output\\checkpoints\\model-7\n",
      "Predicted relation is /location/neighborhood/neighborhood_of\n",
      "Although this effect was noted even when cholestyramine was given 4 hours prior to fluvastatin, this regimen did not result in diminished efficacy.\tcholestyramine\tfluvastatin\teffect\t/location/neighborhood/neighborhood_of\n",
      "\n",
      "Predicted relation is /location/fr_region/capital\n",
      "The system as described above has its greatest application in an arrayed configuration of antenna elements.\tconfiguration\telements\tComponent-Whole(e2,e1)\t/location/fr_region/capital\n",
      "\n",
      "Predicted relation is NA\n",
      "founder Bill Gates is the founder of Microsoft.\tBill\tGates\tMicrosoft\tNA\n",
      "\n"
     ]
    }
   ],
   "source": [
    "tr.setUp()"
   ]
  },
  {
   "cell_type": "code",
   "execution_count": 3,
   "metadata": {},
   "outputs": [],
   "source": [
    "tr.test_outputformat()"
   ]
  }
 ],
 "metadata": {
  "kernelspec": {
   "display_name": "Python 3",
   "language": "python",
   "name": "python3"
  },
  "language_info": {
   "codemirror_mode": {
    "name": "ipython",
    "version": 3
   },
   "file_extension": ".py",
   "mimetype": "text/x-python",
   "name": "python",
   "nbconvert_exporter": "python",
   "pygments_lexer": "ipython3",
   "version": "3.7.3"
  }
 },
 "nbformat": 4,
 "nbformat_minor": 2
}
