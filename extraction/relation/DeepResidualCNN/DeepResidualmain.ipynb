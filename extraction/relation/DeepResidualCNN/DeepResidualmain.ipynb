{
 "cells": [
  {
   "cell_type": "markdown",
   "metadata": {},
   "source": [
    "# Implementation of Deep Residual Learning for Weakly-Supervised Relation Extraction "
   ]
  },
  {
   "cell_type": "markdown",
   "metadata": {},
   "source": [
    "## Importing the main file and create an object"
   ]
  },
  {
   "cell_type": "code",
   "execution_count": 1,
   "metadata": {},
   "outputs": [],
   "source": [
    "#importing the main file\n",
    "from DeepResidualLearning import DeepResidualLearning\n",
    "deepcnn=DeepResidualLearning()"
   ]
  },
  {
   "cell_type": "markdown",
   "metadata": {},
   "source": [
    "Input format:\n",
    "\n",
    "sentence e1 e1_type e1_start_pos e1_end_pos e2 e2_type e2_start_pos e2_end_pos relation (separated by tab)"
   ]
  },
  {
   "cell_type": "code",
   "execution_count": 2,
   "metadata": {},
   "outputs": [
    {
     "name": "stdout",
     "output_type": "stream",
     "text": [
      "Although this effect was noted even when cholestyramine was given 4 hours prior to fluvastatin, this regimen did not result in diminished efficacy.\tcholestyramine\tdrug\t41\t54\tfluvastatin\tdrug\t83\t93\teffect\n",
      "The system as described above has its greatest application in an arrayed configuration of antenna elements.\tconfiguration\tNull\t73\t85\telements\tNull\t98\t106\tComponent-Whole(e2,e1)\n",
      "Bill Gates is the founder of Microsoft.\tBill Gates\tPerson\t0\t9\tMicrosoft\torganiztion\t29\t37\tfounder\n"
     ]
    }
   ],
   "source": [
    "#imports the training file and prints it\n",
    "training_data_file=\"relation_extraction_test_input.txt\"\n",
    "lines = [line.strip() for line in open(training_data_file)]\n",
    "for line in lines:\n",
    "    print(line)"
   ]
  },
  {
   "cell_type": "markdown",
   "metadata": {},
   "source": [
    "## Creating a data object out of the training file"
   ]
  },
  {
   "cell_type": "markdown",
   "metadata": {},
   "source": [
    "Reads the dataset from the file specified.\n",
    "A dataobject is created, which is a list of the sentences, containing the sentence, entities and relations separated by tabs."
   ]
  },
  {
   "cell_type": "code",
   "execution_count": 3,
   "metadata": {},
   "outputs": [
    {
     "name": "stdout",
     "output_type": "stream",
     "text": [
      "['0\\t0\\tcholestyramine\\tfluvastatin\\teffect\\tAlthough this effect was noted even when cholestyramine was given 4 hours prior to fluvastatin, this regimen did not result in diminished efficacy.\\t###END### ', '0\\t0\\tconfiguration\\telements\\tComponent-Whole(e2,e1)\\tThe system as described above has its greatest application in an arrayed configuration of antenna elements.\\t###END### ', '0\\t0\\tBill Gates\\tMicrosoft\\tfounder\\tBill Gates is the founder of Microsoft.\\t###END### ']\n"
     ]
    }
   ],
   "source": [
    "training_data=deepcnn.read_dataset(training_data_file)"
   ]
  },
  {
   "cell_type": "markdown",
   "metadata": {},
   "source": [
    "## Passing the data object to the training function"
   ]
  },
  {
   "cell_type": "markdown",
   "metadata": {},
   "source": [
    "### Description-\n",
    "Trains the model based on the dataobject specified. The user can specify hyperparameters in kwargs. \n",
    "The default hyperparameters are given below.\n",
    "The optional parameters can be provided using the parameter name followed by a '=' sign and the value.\n",
    "\n",
    "\n",
    "### Optional parameters-\n",
    "| Parameter | Description | Default Value |\n",
    "| --- | --- | --- |\n",
    "| embedding_dim | Dimensionality of character embedding | 50 |\n",
    "| sequence_length | Sequence length | 100 |\n",
    "| filter_sizes | Comma-separated filter sizes | 3 |\n",
    "| num_filters | Number of filters per filter size | 128 |\n",
    "| dropout_keep_prob | Dropout keep probability | 0.8 |\n",
    "| l2_reg_lambda | L2 regularizaion lambda | 0.0 |\n",
    "| batch_size | Batch Size | 64 |\n",
    "| num_epochs | Number of training epochs | 200 |\n",
    "| evaluate_every | Evaluate model on dev set after this many steps | 1000 |\n",
    "| checkpoint_every | Save model after this many steps | 100 |\n",
    "| allow_soft_placement | Allow device soft device placement | True |\n",
    "| log_device_placement | Log placement of ops on devices | False |\n",
    "| model_path | Specifies where the model is saved inside the runs folder | model_checkpoint |"
   ]
  },
  {
   "cell_type": "code",
   "execution_count": 4,
   "metadata": {},
   "outputs": [
    {
     "name": "stdout",
     "output_type": "stream",
     "text": [
      "Model is training..\n",
      "relations {'NA': 0, 'effect': 1, 'Component-Whole(e2,e1)': 2, 'founder': 3}\n",
      "Start loading training data.\n",
      "====================\n",
      "Start loading testing data.\n",
      "====================\n",
      "Finish randomize data\n",
      "Start Training\n",
      "WARNING:tensorflow:From c:\\users\\dell\\appdata\\local\\programs\\python\\python37\\lib\\site-packages\\tensorflow\\python\\framework\\op_def_library.py:263: colocate_with (from tensorflow.python.framework.ops) is deprecated and will be removed in a future version.\n",
      "Instructions for updating:\n",
      "Colocations handled automatically by placer.\n",
      "\n",
      "WARNING: The TensorFlow contrib module will not be included in TensorFlow 2.0.\n",
      "For more information, please see:\n",
      "  * https://github.com/tensorflow/community/blob/master/rfcs/20180907-contrib-sunset.md\n",
      "  * https://github.com/tensorflow/addons\n",
      "If you depend on functionality not listed there, please file an issue.\n",
      "\n",
      "WARNING:tensorflow:From C:\\Users\\Dell\\AppData\\Local\\Programs\\Python\\Python37\\Scripts\\csci548\\ResidualCNN\\Cnn.py:72: calling dropout (from tensorflow.python.ops.nn_ops) with keep_prob is deprecated and will be removed in a future version.\n",
      "Instructions for updating:\n",
      "Please use `rate` instead of `keep_prob`. Rate should be set to `rate = 1 - keep_prob`.\n",
      "WARNING:tensorflow:From C:\\Users\\Dell\\AppData\\Local\\Programs\\Python\\Python37\\Scripts\\csci548\\ResidualCNN\\Cnn.py:100: softmax_cross_entropy_with_logits (from tensorflow.python.ops.nn_ops) is deprecated and will be removed in a future version.\n",
      "Instructions for updating:\n",
      "\n",
      "Future major versions of TensorFlow will allow gradients to flow\n",
      "into the labels input on backprop by default.\n",
      "\n",
      "See `tf.nn.softmax_cross_entropy_with_logits_v2`.\n",
      "\n",
      "WARNING:tensorflow:From c:\\users\\dell\\appdata\\local\\programs\\python\\python37\\lib\\site-packages\\tensorflow\\python\\ops\\array_grad.py:425: to_int32 (from tensorflow.python.ops.math_ops) is deprecated and will be removed in a future version.\n",
      "Instructions for updating:\n",
      "Use tf.cast instead.\n",
      "Writing to C:\\Users\\Dell\\AppData\\Local\\Programs\\Python\\Python37\\Scripts\\csci548\\ResidualCNN\\runs\\model_output\n",
      "\n",
      "Initialize variables.\n",
      "Batch data\n",
      "Predicted relation is /location/neighborhood/neighborhood_of\n",
      "Predicted relation is /location/fr_region/capital\n",
      "Predicted relation is NA\n",
      "Correct: 1\n",
      "Total: 3\n",
      "Accuracy: 0.3333333333333333\n",
      "Precision: 1.0  Recall: 0.5\n",
      "2019-04-30T01:12:42.101469: step 1, loss 2.42783, acc 0.333333\n",
      "Saved model checkpoint to C:\\Users\\Dell\\AppData\\Local\\Programs\\Python\\Python37\\Scripts\\csci548\\ResidualCNN\\runs\\model_output\\checkpoints\\model-1\n",
      "\n",
      "2019-04-30T01:12:42.642120: step 2, loss 1.6167, acc 0.333333\n",
      "Saved model checkpoint to C:\\Users\\Dell\\AppData\\Local\\Programs\\Python\\Python37\\Scripts\\csci548\\ResidualCNN\\runs\\model_output\\checkpoints\\model-2\n",
      "\n",
      "2019-04-30T01:12:43.047423: step 3, loss 1.27597, acc 0.333333\n",
      "Saved model checkpoint to C:\\Users\\Dell\\AppData\\Local\\Programs\\Python\\Python37\\Scripts\\csci548\\ResidualCNN\\runs\\model_output\\checkpoints\\model-3\n",
      "\n",
      "2019-04-30T01:12:43.646970: step 4, loss 1.12903, acc 0.333333\n",
      "Saved model checkpoint to C:\\Users\\Dell\\AppData\\Local\\Programs\\Python\\Python37\\Scripts\\csci548\\ResidualCNN\\runs\\model_output\\checkpoints\\model-4\n",
      "\n",
      "2019-04-30T01:12:44.252836: step 5, loss 1.44658, acc 0.333333\n",
      "Saved model checkpoint to C:\\Users\\Dell\\AppData\\Local\\Programs\\Python\\Python37\\Scripts\\csci548\\ResidualCNN\\runs\\model_output\\checkpoints\\model-5\n",
      "\n",
      "2019-04-30T01:12:44.836831: step 6, loss 1.87942, acc 0.333333\n",
      "WARNING:tensorflow:From c:\\users\\dell\\appdata\\local\\programs\\python\\python37\\lib\\site-packages\\tensorflow\\python\\training\\saver.py:966: remove_checkpoint (from tensorflow.python.training.checkpoint_management) is deprecated and will be removed in a future version.\n",
      "Instructions for updating:\n",
      "Use standard file APIs to delete files with this prefix.\n",
      "Saved model checkpoint to C:\\Users\\Dell\\AppData\\Local\\Programs\\Python\\Python37\\Scripts\\csci548\\ResidualCNN\\runs\\model_output\\checkpoints\\model-6\n",
      "\n",
      "2019-04-30T01:12:45.372059: step 7, loss 1.06528, acc 0.666667\n",
      "Saved model checkpoint to C:\\Users\\Dell\\AppData\\Local\\Programs\\Python\\Python37\\Scripts\\csci548\\ResidualCNN\\runs\\model_output\\checkpoints\\model-7\n",
      "\n"
     ]
    }
   ],
   "source": [
    "import warnings\n",
    "warnings.filterwarnings('ignore')\n",
    "deepcnn.train(training_data,model_path=\"model_output\", num_epochs=7)"
   ]
  },
  {
   "cell_type": "markdown",
   "metadata": {},
   "source": [
    "## Evaluating the model"
   ]
  },
  {
   "cell_type": "markdown",
   "metadata": {},
   "source": [
    "### Description-\n",
    "Evaluates the model based on the dataobject specified. The user can specify hyperparameters in kwargs. \n",
    "The default hyperparameters are given below.\n",
    "The optional parameters can be provided using the parameter name followed by a '=' sign and the value.\n",
    "\n",
    "### Optional parameters:-\n",
    "| Parameter | Description | Default Value |\n",
    "| --- | --- | --- |\n",
    "| embedding_dim | Dimensionality of character embedding | 50 |\n",
    "| sequence_length | Sequence length | 100 |\n",
    "| filter_sizes | Comma-separated filter sizes | 3 |\n",
    "| num_filters | Number of filters per filter size | 128 |\n",
    "| dropout_keep_prob | Dropout keep probability | 0.8 |\n",
    "| l2_reg_lambda | L2 regularizaion lambda | 0.0 |\n",
    "| batch_size | Batch Size | 64 |\n",
    "| num_epochs | Number of training epochs | 200 |\n",
    "| evaluate_every | Evaluate model on dev set after this many steps | 1000 |\n",
    "| checkpoint_every | Save model after this many steps | 100 |\n",
    "| allow_soft_placement | Allow device soft device placement | True |\n",
    "| log_device_placement | Log placement of ops on devices | False |\n",
    "| model_path | Specifies where the model is saved inside the runs folder | runs/model_checkpoint/checkpoints/ |"
   ]
  },
  {
   "cell_type": "code",
   "execution_count": 5,
   "metadata": {},
   "outputs": [
    {
     "name": "stdout",
     "output_type": "stream",
     "text": [
      "Start loading testing data.\n",
      "====================\n",
      "\n",
      "Evaluating...\n",
      "\n",
      "WARNING:tensorflow:From c:\\users\\dell\\appdata\\local\\programs\\python\\python37\\lib\\site-packages\\tensorflow\\python\\training\\saver.py:1266: checkpoint_exists (from tensorflow.python.training.checkpoint_management) is deprecated and will be removed in a future version.\n",
      "Instructions for updating:\n",
      "Use standard file APIs to check for files with this prefix.\n",
      "INFO:tensorflow:Restoring parameters from C:\\Users\\Dell\\AppData\\Local\\Programs\\Python\\Python37\\Scripts\\csci548\\ResidualCNN\\runs\\model_output\\checkpoints\\model-7\n",
      "Predicted relation is /location/neighborhood/neighborhood_of\n",
      "Predicted relation is /location/fr_region/capital\n",
      "Predicted relation is NA\n",
      "Correct: 1\n",
      "Total: 3\n",
      "Accuracy: 0.3333333333333333\n",
      "Precision: 1.0  Recall: 0.5\n"
     ]
    }
   ],
   "source": [
    "deepcnn.evaluate(training_data,model_path=\"runs/model_output/checkpoints\",num_epochs=6)"
   ]
  },
  {
   "cell_type": "markdown",
   "metadata": {},
   "source": [
    "## Predicting an output "
   ]
  },
  {
   "cell_type": "markdown",
   "metadata": {},
   "source": [
    "### Description-\n",
    "Predicts output for the dataobject specified. The user can specify hyperparameters in kwargs. \n",
    "The default hyperparameters are given below.\n",
    "The optional parameters can be provided using the parameter name followed by a '=' sign and the value.\n",
    "If the user wants to predict a new file, read_dataset should be called first to create a data object and then pass to the predict function.\n",
    "\n",
    "### Optional parameters-\n",
    "| Parameter | Description | Default Value |\n",
    "| --- | --- | --- |\n",
    "| embedding_dim | Dimensionality of character embedding | 50 |\n",
    "| sequence_length | Sequence length | 100 |\n",
    "| filter_sizes | Comma-separated filter sizes | 3 |\n",
    "| num_filters | Number of filters per filter size | 128 |\n",
    "| dropout_keep_prob | Dropout keep probability | 0.8 |\n",
    "| l2_reg_lambda | L2 regularizaion lambda | 0.0 |\n",
    "| batch_size | Batch Size | 64 |\n",
    "| num_epochs | Number of training epochs | 200 |\n",
    "| evaluate_every | Evaluate model on dev set after this many steps | 1000 |\n",
    "| checkpoint_every | Save model after this many steps | 100 |\n",
    "| allow_soft_placement | Allow device soft device placement | True |\n",
    "| log_device_placement | Log placement of ops on devices | False |\n",
    "| model_path | Specifies where the model is saved inside the runs folder | runs/model_checkpoint/checkpoints/ |\n",
    "\n",
    "### Output format-\n",
    "sentence e1 e2 predicted_relation ground_relation"
   ]
  },
  {
   "cell_type": "code",
   "execution_count": 4,
   "metadata": {},
   "outputs": [
    {
     "name": "stdout",
     "output_type": "stream",
     "text": [
      "Start loading testing data.\n",
      "====================\n",
      "\n",
      "Evaluating...\n",
      "\n",
      "WARNING:tensorflow:From c:\\users\\dell\\appdata\\local\\programs\\python\\python37\\lib\\site-packages\\tensorflow\\python\\training\\saver.py:1266: checkpoint_exists (from tensorflow.python.training.checkpoint_management) is deprecated and will be removed in a future version.\n",
      "Instructions for updating:\n",
      "Use standard file APIs to check for files with this prefix.\n",
      "INFO:tensorflow:Restoring parameters from C:\\Users\\Dell\\AppData\\Local\\Programs\\Python\\Python37\\Scripts\\csci548\\ResidualCNN\\runs\\model_output\\checkpoints\\model-7\n",
      "Predicted relation is /location/neighborhood/neighborhood_of\n",
      "Although this effect was noted even when cholestyramine was given 4 hours prior to fluvastatin, this regimen did not result in diminished efficacy.\tcholestyramine\tfluvastatin\teffect\t/location/neighborhood/neighborhood_of\n",
      "\n",
      "Predicted relation is /location/fr_region/capital\n",
      "The system as described above has its greatest application in an arrayed configuration of antenna elements.\tconfiguration\telements\tComponent-Whole(e2,e1)\t/location/fr_region/capital\n",
      "\n",
      "Predicted relation is NA\n",
      "founder Bill Gates is the founder of Microsoft.\tBill\tGates\tMicrosoft\tNA\n",
      "\n"
     ]
    }
   ],
   "source": [
    "outputfile=deepcnn.predict(training_data,model_path=\"runs/model_output/checkpoints\")"
   ]
  },
  {
   "cell_type": "markdown",
   "metadata": {},
   "source": [
    "## Saving the Model "
   ]
  },
  {
   "cell_type": "markdown",
   "metadata": {},
   "source": [
    "Saves the model in the user specified path.\n",
    "It will throw an error if the model is not yet created."
   ]
  },
  {
   "cell_type": "code",
   "execution_count": 7,
   "metadata": {},
   "outputs": [
    {
     "name": "stdout",
     "output_type": "stream",
     "text": [
      "Saved model to runs/model_output3/checkpoints\n"
     ]
    }
   ],
   "source": [
    "#model_path is a mandatory parameter and should specify the path where the model should be saved.\n",
    "deepcnn.save_model(model_path=\"runs/model_output3/checkpoints\")"
   ]
  },
  {
   "cell_type": "markdown",
   "metadata": {},
   "source": [
    "## Loading the saved model "
   ]
  },
  {
   "cell_type": "markdown",
   "metadata": {},
   "source": [
    "Loads the model from the path specified. Returns objects."
   ]
  },
  {
   "cell_type": "code",
   "execution_count": 8,
   "metadata": {},
   "outputs": [
    {
     "name": "stdout",
     "output_type": "stream",
     "text": [
      "INFO:tensorflow:Restoring parameters from C:\\Users\\Dell\\AppData\\Local\\Programs\\Python\\Python37\\Scripts\\csci548\\ResidualCNN\\runs\\model_output\\checkpoints\\model-7\n",
      "<tensorflow.python.framework.ops.Graph object at 0x0000023CB153EAC8> <tensorflow.python.client.session.Session object at 0x0000023CB153E4E0>\n"
     ]
    }
   ],
   "source": [
    "#loads the saved model,can take the model_path \n",
    "#gives two objects, the session object and the graph object\n",
    "deepcnn.load_model(model_path=\"runs/model_output3/checkpoints\")"
   ]
  },
  {
   "cell_type": "code",
   "execution_count": null,
   "metadata": {},
   "outputs": [],
   "source": []
  }
 ],
 "metadata": {
  "kernelspec": {
   "display_name": "Python 3",
   "language": "python",
   "name": "python3"
  },
  "language_info": {
   "codemirror_mode": {
    "name": "ipython",
    "version": 3
   },
   "file_extension": ".py",
   "mimetype": "text/x-python",
   "name": "python",
   "nbconvert_exporter": "python",
   "pygments_lexer": "ipython3",
   "version": "3.7.3"
  }
 },
 "nbformat": 4,
 "nbformat_minor": 2
}
