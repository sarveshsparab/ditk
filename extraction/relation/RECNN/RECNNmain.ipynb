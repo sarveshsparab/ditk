{
 "cells": [
  {
   "cell_type": "markdown",
   "metadata": {},
   "source": [
    "# Implementation of Relation Extraction: Perspective from Convolutional Neural Networks"
   ]
  },
  {
   "cell_type": "markdown",
   "metadata": {},
   "source": [
    "## Import the main file and create an object"
   ]
  },
  {
   "cell_type": "code",
   "execution_count": 9,
   "metadata": {},
   "outputs": [],
   "source": [
    "#importing the main file\n",
    "from RelationExtractionCNN import RelationExtractionCNN\n",
    "import warnings\n",
    "warnings.filterwarnings('ignore')\n",
    "relationextraction=RelationExtractionCNN()"
   ]
  },
  {
   "cell_type": "markdown",
   "metadata": {},
   "source": [
    "Input format:\n",
    "\n",
    "sentence e1 e1_type e1_start_pos e1_end_pos e2 e2_type e2_start_pos e2_end_pos relation (separated by tab)"
   ]
  },
  {
   "cell_type": "code",
   "execution_count": 10,
   "metadata": {},
   "outputs": [
    {
     "name": "stdout",
     "output_type": "stream",
     "text": [
      "Although this effect was noted even when cholestyramine was given 4 hours prior to fluvastatin, this regimen did not result in diminished efficacy.\tcholestyramine\tdrug\t41\t54\tfluvastatin\tdrug\t83\t93\teffect\n",
      "The system as described above has its greatest application in an arrayed configuration of antenna elements.\tconfiguration\tNull\t73\t85\telements\tNull\t98\t106\tComponent-Whole(e2,e1)\n",
      "Bill Gates is the founder of Microsoft.\tBill Gates\tPerson\t0\t9\tMicrosoft\torganization\t29\t37\tfounder\n"
     ]
    }
   ],
   "source": [
    "#imports the training file and prints it\n",
    "training_data_file=\"relation_extraction_test_input.txt\"\n",
    "lines = [line.strip() for line in open(training_data_file)]\n",
    "for line in lines:\n",
    "    print(line)"
   ]
  },
  {
   "cell_type": "markdown",
   "metadata": {},
   "source": [
    "##  Creating a data object out of the training file"
   ]
  },
  {
   "cell_type": "markdown",
   "metadata": {},
   "source": [
    "Reads the dataset from the file specified.\n",
    "A dataobject is created, which is a list of the sentences, containing the sentence, entities and relations separated by tabs."
   ]
  },
  {
   "cell_type": "code",
   "execution_count": 11,
   "metadata": {},
   "outputs": [
    {
     "name": "stdout",
     "output_type": "stream",
     "text": [
      "[[1, 'Although this effect was noted even when <e1>cholestyramine</e1>e was given 4 hours prior to <e2>fluvastatin</e2>n, this regimen did not result in diminished efficacy.', 'cholestyramine', 41, 54, 'fluvastatin', 83, 93, 'effect'], [2, 'The system as described above has its greatest application in an arrayed <e1>configuration</e1>n of antenna <e2>elements</e2>.', 'configuration', 73, 85, 'elements', 98, 106, 'Component-Whole(e2,e1)'], [3, '<e1>Bill Gates</e1>s is the founder of <e2>Microsoft</e2>t.', 'Bill Gates', 0, 9, 'Microsoft', 29, 37, 'founder']]\n"
     ]
    }
   ],
   "source": [
    "#reading the dataset and creating a dataobject out of it\n",
    "#The dataobject is a list of the sentences, containing the sentence, entities and relations separated by tabs.\n",
    "training_data_file=\"relation_extraction_test_input.txt\"\n",
    "training_data=relationextraction.read_dataset(training_data_file)\n",
    "print(training_data)"
   ]
  },
  {
   "cell_type": "markdown",
   "metadata": {},
   "source": [
    "## Passing the data object to the training function"
   ]
  },
  {
   "cell_type": "markdown",
   "metadata": {},
   "source": [
    "### Description-\n",
    "Trains the model based on the dataobject specified. The user can specify hyperparameters in kwargs. \n",
    "The default hyperparameters are given below.\n",
    "The optional parameters can be provided using the parameter name followed by a '=' sign and the value.\n",
    "\n",
    "\n",
    "### Optional parameters-\n",
    "| Parameter | Description | Default Value |\n",
    "| --- | --- | --- |\n",
    "| text_embedding_dim | Dimensionality of word embedding | 300 |\n",
    "| pos_embedding_dim | Dimensionality of relative position embedding | 50 |\n",
    "| sequence_length | Sequence length | 100 |\n",
    "| filter_sizes | Comma-separated filter sizes | 2,3,4,5 |\n",
    "| num_filters | Number of filters per filter size | 128 |\n",
    "| dropout_keep_prob | Dropout keep probability | 0.5 |\n",
    "| l2_reg_lambda | L2 regularizaion lambda | 1e-5 |\n",
    "| batch_size | Batch Size | 20 |\n",
    "| num_epochs | Number of training epochs | 100 |\n",
    "| evaluate_every | Evaluate model on dev set after this many steps | 100 |\n",
    "| num_checkpoints | Number of checkpoints to store | 5 |\n",
    "| allow_soft_placement | Allow device soft device placement | True |\n",
    "| log_device_placement | Log placement of ops on devices | False |\n",
    "| gpu_allow_growth | Allow gpu memory growth | True |\n",
    "| model_path | Specifies where the model is saved inside the runs folder | model_checkpoint |\n",
    "| dev_sample_percentage | Percentage of the training data to use for validation | 0.1 |\n",
    "| max_sentence_length | Max sentence length in data | 90 |\n",
    "| embedding_path | Path of pre-trained word embeddings (word2vec) | None |\n",
    "| learning_rate | Which learning rate to start with | 1.0 |\n",
    "| decay_rate | Decay rate for learning rate | 0.9 |"
   ]
  },
  {
   "cell_type": "code",
   "execution_count": 4,
   "metadata": {},
   "outputs": [
    {
     "name": "stdout",
     "output_type": "stream",
     "text": [
      "Model is training..\n",
      "max sentence length = 90\n",
      "\n",
      "\n",
      "WARNING: The TensorFlow contrib module will not be included in TensorFlow 2.0.\n",
      "For more information, please see:\n",
      "  * https://github.com/tensorflow/community/blob/master/rfcs/20180907-contrib-sunset.md\n",
      "  * https://github.com/tensorflow/addons\n",
      "If you depend on functionality not listed there, please file an issue.\n",
      "\n",
      "WARNING:tensorflow:From C:\\Users\\Dell\\AppData\\Local\\Programs\\Python\\Python37\\Scripts\\csci548\\CNN\\train.py:44: VocabularyProcessor.__init__ (from tensorflow.contrib.learn.python.learn.preprocessing.text) is deprecated and will be removed in a future version.\n",
      "Instructions for updating:\n",
      "Please use tensorflow/transform or tf.data.\n",
      "WARNING:tensorflow:From c:\\users\\dell\\appdata\\local\\programs\\python\\python37\\lib\\site-packages\\tensorflow\\contrib\\learn\\python\\learn\\preprocessing\\text.py:154: CategoricalVocabulary.__init__ (from tensorflow.contrib.learn.python.learn.preprocessing.categorical_vocabulary) is deprecated and will be removed in a future version.\n",
      "Instructions for updating:\n",
      "Please use tensorflow/transform or tf.data.\n",
      "WARNING:tensorflow:From c:\\users\\dell\\appdata\\local\\programs\\python\\python37\\lib\\site-packages\\tensorflow\\contrib\\learn\\python\\learn\\preprocessing\\text.py:170: tokenizer (from tensorflow.contrib.learn.python.learn.preprocessing.text) is deprecated and will be removed in a future version.\n",
      "Instructions for updating:\n",
      "Please use tensorflow/transform or tf.data.\n",
      "Text Vocabulary Size: 50\n",
      "x = (3, 90)\n",
      "y = (3, 3)\n",
      "\n",
      "Position Vocabulary Size: 41\n",
      "position_1 = (3, 90)\n",
      "position_2 = (3, 90)\n",
      "\n",
      "Train/Dev split: 1/2\n",
      "\n",
      "WARNING:tensorflow:From c:\\users\\dell\\appdata\\local\\programs\\python\\python37\\lib\\site-packages\\tensorflow\\python\\framework\\op_def_library.py:263: colocate_with (from tensorflow.python.framework.ops) is deprecated and will be removed in a future version.\n",
      "Instructions for updating:\n",
      "Colocations handled automatically by placer.\n",
      "WARNING:tensorflow:From C:\\Users\\Dell\\AppData\\Local\\Programs\\Python\\Python37\\Scripts\\csci548\\CNN\\text_cnn.py:42: conv2d (from tensorflow.python.layers.convolutional) is deprecated and will be removed in a future version.\n",
      "Instructions for updating:\n",
      "Use keras.layers.conv2d instead.\n",
      "WARNING:tensorflow:From C:\\Users\\Dell\\AppData\\Local\\Programs\\Python\\Python37\\Scripts\\csci548\\CNN\\text_cnn.py:55: calling dropout (from tensorflow.python.ops.nn_ops) with keep_prob is deprecated and will be removed in a future version.\n",
      "Instructions for updating:\n",
      "Please use `rate` instead of `keep_prob`. Rate should be set to `rate = 1 - keep_prob`.\n",
      "WARNING:tensorflow:From C:\\Users\\Dell\\AppData\\Local\\Programs\\Python\\Python37\\Scripts\\csci548\\CNN\\text_cnn.py:59: dense (from tensorflow.python.layers.core) is deprecated and will be removed in a future version.\n",
      "Instructions for updating:\n",
      "Use keras.layers.dense instead.\n",
      "WARNING:tensorflow:From c:\\users\\dell\\appdata\\local\\programs\\python\\python37\\lib\\site-packages\\tensorflow\\python\\ops\\array_grad.py:425: to_int32 (from tensorflow.python.ops.math_ops) is deprecated and will be removed in a future version.\n",
      "Instructions for updating:\n",
      "Use tf.cast instead.\n",
      "Writing to C:\\Users\\Dell\\AppData\\Local\\Programs\\Python\\Python37\\Scripts\\csci548\\CNN\\runs\\model_checkpoint\n",
      "\n",
      "[(array([ 1,  2,  3,  4,  5,  6,  7,  8,  9, 10, 11,  4, 12, 13, 14, 15, 16,\n",
      "       17, 18, 19, 20,  2, 21, 22, 23, 24, 25, 26, 27,  0,  0,  0,  0,  0,\n",
      "        0,  0,  0,  0,  0,  0,  0,  0,  0,  0,  0,  0,  0,  0,  0,  0,  0,\n",
      "        0,  0,  0,  0,  0,  0,  0,  0,  0,  0,  0,  0,  0,  0,  0,  0,  0,\n",
      "        0,  0,  0,  0,  0,  0,  0,  0,  0,  0,  0,  0,  0,  0,  0,  0,  0,\n",
      "        0,  0,  0,  0,  0], dtype=int64), array([ 1,  2,  3,  4,  5,  6,  7,  8,  9, 10, 11, 12, 13, 14, 15, 16, 17,\n",
      "       18, 19, 20, 21, 22, 23, 24, 25, 26, 27, 28, 29,  0,  0,  0,  0,  0,\n",
      "        0,  0,  0,  0,  0,  0,  0,  0,  0,  0,  0,  0,  0,  0,  0,  0,  0,\n",
      "        0,  0,  0,  0,  0,  0,  0,  0,  0,  0,  0,  0,  0,  0,  0,  0,  0,\n",
      "        0,  0,  0,  0,  0,  0,  0,  0,  0,  0,  0,  0,  0,  0,  0,  0,  0,\n",
      "        0,  0,  0,  0,  0], dtype=int64), array([35, 36, 37, 38, 39, 30, 31, 32, 33, 34,  1,  2,  3,  4,  5,  6,  7,\n",
      "        8,  9, 10, 11, 12, 13, 14, 15, 16, 17, 18, 19,  0,  0,  0,  0,  0,\n",
      "        0,  0,  0,  0,  0,  0,  0,  0,  0,  0,  0,  0,  0,  0,  0,  0,  0,\n",
      "        0,  0,  0,  0,  0,  0,  0,  0,  0,  0,  0,  0,  0,  0,  0,  0,  0,\n",
      "        0,  0,  0,  0,  0,  0,  0,  0,  0,  0,  0,  0,  0,  0,  0,  0,  0,\n",
      "        0,  0,  0,  0,  0], dtype=int64), array([1, 0, 0], dtype=uint8))]\n",
      "2019-04-30T21:43:12.736263: step 10, loss 0.00776837, acc 1\n",
      "\n",
      "Evaluation:\n",
      "2019-04-30T21:43:12.815635: step 10, loss 1.87405, acc 0\n",
      "[UNOFFICIAL] (2*9+1)-Way Macro-Average F1 Score (excluding Other): 0\n",
      "\n",
      "Saved model checkpoint to C:\\Users\\Dell\\AppData\\Local\\Programs\\Python\\Python37\\Scripts\\csci548\\CNN\\runs\\model_checkpoint\\checkpoints\\model-0-10\n",
      "\n",
      "2019-04-30T21:43:13.694802: step 20, loss 0.00343542, acc 1\n",
      "\n",
      "Evaluation:\n",
      "2019-04-30T21:43:13.705084: step 20, loss 2.01423, acc 0\n",
      "[UNOFFICIAL] (2*9+1)-Way Macro-Average F1 Score (excluding Other): 0\n",
      "\n",
      "2019-04-30T21:43:13.974591: step 30, loss 0.00289021, acc 1\n",
      "\n",
      "Evaluation:\n",
      "2019-04-30T21:43:13.986023: step 30, loss 2.08941, acc 0\n",
      "[UNOFFICIAL] (2*9+1)-Way Macro-Average F1 Score (excluding Other): 0\n",
      "\n",
      "2019-04-30T21:43:14.264280: step 40, loss 0.00217853, acc 1\n",
      "\n",
      "Evaluation:\n",
      "2019-04-30T21:43:14.278244: step 40, loss 2.18405, acc 0\n",
      "[UNOFFICIAL] (2*9+1)-Way Macro-Average F1 Score (excluding Other): 0\n",
      "\n",
      "2019-04-30T21:43:14.563480: step 50, loss 0.0023373, acc 1\n",
      "\n",
      "Evaluation:\n",
      "2019-04-30T21:43:14.575631: step 50, loss 2.25819, acc 0\n",
      "[UNOFFICIAL] (2*9+1)-Way Macro-Average F1 Score (excluding Other): 0\n",
      "\n",
      "2019-04-30T21:43:14.841735: step 60, loss 0.00215252, acc 1\n",
      "\n",
      "Evaluation:\n",
      "2019-04-30T21:43:14.852830: step 60, loss 2.31822, acc 0\n",
      "[UNOFFICIAL] (2*9+1)-Way Macro-Average F1 Score (excluding Other): 0\n",
      "\n",
      "2019-04-30T21:43:15.128966: step 70, loss 0.00245715, acc 1\n",
      "\n",
      "Evaluation:\n",
      "2019-04-30T21:43:15.138940: step 70, loss 2.38165, acc 0\n",
      "[UNOFFICIAL] (2*9+1)-Way Macro-Average F1 Score (excluding Other): 0\n",
      "\n",
      "2019-04-30T21:43:15.409696: step 80, loss 0.0020665, acc 1\n",
      "\n",
      "Evaluation:\n",
      "2019-04-30T21:43:15.422978: step 80, loss 2.44621, acc 0\n",
      "[UNOFFICIAL] (2*9+1)-Way Macro-Average F1 Score (excluding Other): 0\n",
      "\n",
      "2019-04-30T21:43:15.700439: step 90, loss 0.00191436, acc 1\n",
      "\n",
      "Evaluation:\n",
      "2019-04-30T21:43:15.711091: step 90, loss 2.47642, acc 0\n",
      "[UNOFFICIAL] (2*9+1)-Way Macro-Average F1 Score (excluding Other): 0\n",
      "\n",
      "2019-04-30T21:43:15.972714: step 100, loss 0.00188818, acc 1\n",
      "\n",
      "Evaluation:\n",
      "2019-04-30T21:43:15.986673: step 100, loss 2.49631, acc 0\n",
      "[UNOFFICIAL] (2*9+1)-Way Macro-Average F1 Score (excluding Other): 0\n",
      "\n"
     ]
    }
   ],
   "source": [
    "relationextraction.train(training_data,model_path=\"model_checkpoint\")"
   ]
  },
  {
   "cell_type": "markdown",
   "metadata": {},
   "source": [
    "## Evaluating the model "
   ]
  },
  {
   "cell_type": "markdown",
   "metadata": {},
   "source": [
    "### Description-\n",
    "Evaluates the model based on the dataobject specified. The user can specify hyperparameters in kwargs. \n",
    "The default hyperparameters are given below.\n",
    "The optional parameters can be provided using the parameter name followed by a '=' sign and the value.\n",
    "\n",
    "### Optional parameters:-\n",
    "| Parameter | Description | Default Value |\n",
    "| --- | --- | --- |\n",
    "| text_embedding_dim | Dimensionality of word embedding | 300 |\n",
    "| pos_embedding_dim | Dimensionality of relative position embedding | 50 |\n",
    "| sequence_length | Sequence length | 100 |\n",
    "| filter_sizes | Comma-separated filter sizes | 2,3,4,5 |\n",
    "| num_filters | Number of filters per filter size | 128 |\n",
    "| dropout_keep_prob | Dropout keep probability | 0.5 |\n",
    "| l2_reg_lambda | L2 regularizaion lambda | 1e-5 |\n",
    "| batch_size | Batch Size | 20 |\n",
    "| num_epochs | Number of training epochs | 100 |\n",
    "| evaluate_every | Evaluate model on dev set after this many steps | 100 |\n",
    "| num_checkpoints | Number of checkpoints to store | 5 |\n",
    "| allow_soft_placement | Allow device soft device placement | True |\n",
    "| log_device_placement | Log placement of ops on devices | False |\n",
    "| gpu_allow_growth | Allow gpu memory growth | True |\n",
    "| dev_sample_percentage | Percentage of the training data to use for validation | 0.1 |\n",
    "| max_sentence_length | Max sentence length in data | 90 |\n",
    "| embedding_path | Path of pre-trained word embeddings (word2vec) | None |\n",
    "| learning_rate | Which learning rate to start with | 1.0 |\n",
    "| model_path | Specifies where the model is saved inside the runs folder | runs/model_checkpoint/checkpoints/ |"
   ]
  },
  {
   "cell_type": "code",
   "execution_count": 5,
   "metadata": {},
   "outputs": [
    {
     "name": "stdout",
     "output_type": "stream",
     "text": [
      "max sentence length = 90\n",
      "\n",
      "WARNING:tensorflow:From c:\\users\\dell\\appdata\\local\\programs\\python\\python37\\lib\\site-packages\\tensorflow\\python\\training\\saver.py:1266: checkpoint_exists (from tensorflow.python.training.checkpoint_management) is deprecated and will be removed in a future version.\n",
      "Instructions for updating:\n",
      "Use standard file APIs to check for files with this prefix.\n",
      "INFO:tensorflow:Restoring parameters from C:\\Users\\Dell\\AppData\\Local\\Programs\\Python\\Python37\\Scripts\\csci548\\CNN\\runs\\model_checkpoint\\checkpoints\\model-0-10\n",
      "\n"
     ]
    }
   ],
   "source": [
    "#should specify the data object you want to evaluate on\n",
    "#takes the same hyperparameters as the train function expect the model_path specifies where the model has been saved.\n",
    "#The default value is model_checkpoint\n",
    "#evaluates on the data object given by the variable training_data\n",
    "#optionally you can also provide the saved model path\n",
    "#the default path will be runs/checkpoints/model_checkpoint\n",
    "import warnings\n",
    "warnings.filterwarnings('ignore')\n",
    "relationextraction.evaluate(training_data,model_path=\"runs/model_checkpoint/checkpoints/\")"
   ]
  },
  {
   "cell_type": "markdown",
   "metadata": {},
   "source": [
    "## Predicting the output "
   ]
  },
  {
   "cell_type": "markdown",
   "metadata": {},
   "source": [
    "### Description-\n",
    "Predicts output for the dataobject specified. The user can specify hyperparameters in kwargs. \n",
    "The default hyperparameters are given below.\n",
    "The optional parameters can be provided using the parameter name followed by a '=' sign and the value.\n",
    "If the user wants to predict a new file, read_dataset should be called first to create a data object and then pass to the predict function.\n",
    "\n",
    "### Optional parameters-\n",
    "| Parameter | Description | Default Value |\n",
    "| --- | --- | --- |\n",
    "| embedding_dim | Dimensionality of character embedding | 50 |\n",
    "| sequence_length | Sequence length | 100 |\n",
    "| filter_sizes | Comma-separated filter sizes | 3 |\n",
    "| num_filters | Number of filters per filter size | 128 |\n",
    "| dropout_keep_prob | Dropout keep probability | 0.8 |\n",
    "| l2_reg_lambda | L2 regularizaion lambda | 0.0 |\n",
    "| batch_size | Batch Size | 64 |\n",
    "| num_epochs | Number of training epochs | 200 |\n",
    "| evaluate_every | Evaluate model on dev set after this many steps | 1000 |\n",
    "| checkpoint_every | Save model after this many steps | 100 |\n",
    "| allow_soft_placement | Allow device soft device placement | True |\n",
    "| log_device_placement | Log placement of ops on devices | False |\n",
    "| model_path | Specifies where the model is saved inside the runs folder | runs/model_checkpoint/checkpoints/ |\n",
    "\n",
    "### Output format-\n",
    "sentence e1 e2 predicted_relation ground_relation"
   ]
  },
  {
   "cell_type": "code",
   "execution_count": 6,
   "metadata": {},
   "outputs": [
    {
     "name": "stdout",
     "output_type": "stream",
     "text": [
      "max sentence length = 90\n",
      "\n",
      "INFO:tensorflow:Restoring parameters from C:\\Users\\Dell\\AppData\\Local\\Programs\\Python\\Python37\\Scripts\\csci548\\CNN\\runs\\model_checkpoint\\checkpoints\\model-0-10\n",
      "Although this effect was noted even when cholestyraminee was given 4 hours prior to fluvastatinn, this regimen did not result in diminished efficacy.\tcholestyramine\tNull\t41\t55\tfluvastatin\tNull\t84\t95\n",
      "The system as described above has its greatest application in an arrayed configurationn of antenna elements.\tconfiguration\tNull\t73\t86\telements\tNull\t99\t107\n",
      "Bill Gatess is the founder of Microsoftt.\tBill Gates\tNull\t0\t10\tMicrosoft\tNull\t30\t39\n",
      "Predicted Relation is effect\n",
      "Although this effect was noted even when cholestyraminee was given 4 hours prior to fluvastatinn, this regimen did not result in diminished efficacy. \t cholestyramine \t fluvastatin \t effect \t effect\n",
      "Predicted Relation is effect\n",
      "The system as described above has its greatest application in an arrayed configurationn of antenna elements. \t configuration \t elements \t effect \t Component-Whole(e2,e1)\n",
      "Predicted Relation is effect\n",
      "Bill Gatess is the founder of Microsoftt. \t Bill Gates \t Microsoft \t effect \t founder\n"
     ]
    }
   ],
   "source": [
    "#predicts on the data object given by the variable training_data\n",
    "#optionally you can also provide the saved model path\n",
    "#the default path will be runs/model_checkpoint/checkpoints\n",
    "outputfile=relationextraction.predict(training_data,model_path=\"runs/model_checkpoint/checkpoints/\",output_file=\"predicted_output.txt\")"
   ]
  },
  {
   "cell_type": "markdown",
   "metadata": {},
   "source": [
    "## Saving the model"
   ]
  },
  {
   "cell_type": "code",
   "execution_count": 12,
   "metadata": {},
   "outputs": [
    {
     "name": "stdout",
     "output_type": "stream",
     "text": [
      "Saved model to runs/model_output1/checkpoints\n"
     ]
    }
   ],
   "source": [
    "#saves the model in the specified path\n",
    "#model_path is a mandatory parameter and should specify the path where the model should be saved.\n",
    "relationextraction.save_model(model_path=\"runs/model_output1/checkpoints\")"
   ]
  },
  {
   "cell_type": "markdown",
   "metadata": {},
   "source": [
    "## Loading the model "
   ]
  },
  {
   "cell_type": "code",
   "execution_count": 13,
   "metadata": {},
   "outputs": [
    {
     "name": "stdout",
     "output_type": "stream",
     "text": [
      "INFO:tensorflow:Restoring parameters from C:\\Users\\Dell\\AppData\\Local\\Programs\\Python\\Python37\\Scripts\\csci548\\CNN\\runs\\model_checkpoint\\checkpoints\\model-0-10\n",
      "<tensorflow.python.framework.ops.Graph object at 0x000002814E797748> <tensorflow.python.client.session.Session object at 0x0000028150190358>\n"
     ]
    }
   ],
   "source": [
    "#loads the saved model,can take the model_path \n",
    "#gives two objects, the session object and the graph object\n",
    "relationextraction.load_model()"
   ]
  },
  {
   "cell_type": "code",
   "execution_count": null,
   "metadata": {},
   "outputs": [],
   "source": []
  },
  {
   "cell_type": "code",
   "execution_count": null,
   "metadata": {},
   "outputs": [],
   "source": []
  }
 ],
 "metadata": {
  "kernelspec": {
   "display_name": "Python 3",
   "language": "python",
   "name": "python3"
  },
  "language_info": {
   "codemirror_mode": {
    "name": "ipython",
    "version": 3
   },
   "file_extension": ".py",
   "mimetype": "text/x-python",
   "name": "python",
   "nbconvert_exporter": "python",
   "pygments_lexer": "ipython3",
   "version": "3.7.3"
  }
 },
 "nbformat": 4,
 "nbformat_minor": 2
}
