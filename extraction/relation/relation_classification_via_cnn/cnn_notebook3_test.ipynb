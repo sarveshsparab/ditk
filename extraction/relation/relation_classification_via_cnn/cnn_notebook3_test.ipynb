{
 "cells": [
  {
   "cell_type": "code",
   "execution_count": 1,
   "metadata": {},
   "outputs": [],
   "source": [
    "import os\n",
    "import cnn_model"
   ]
  },
  {
   "cell_type": "markdown",
   "metadata": {},
   "source": [
    "# Benchmark 3: NYT dataset\n",
    "(For training data, only a sample of size 10000 is used)"
   ]
  },
  {
   "cell_type": "code",
   "execution_count": 2,
   "metadata": {},
   "outputs": [],
   "source": [
    "dir_path = os.getcwd()\n",
    "dir_path = dir_path.replace(os.sep, '/')\n",
    "\n",
    "model3 = cnn_model.CNNModel()\n",
    "model3.read_dataset(dir_path+'/benchmark3')"
   ]
  },
  {
   "cell_type": "markdown",
   "metadata": {},
   "source": [
    "## Use trained model to predict testing data"
   ]
  },
  {
   "cell_type": "code",
   "execution_count": 3,
   "metadata": {},
   "outputs": [
    {
     "name": "stdout",
     "output_type": "stream",
     "text": [
      "================================================================================\n",
      "INFO:tensorflow:Restoring parameters from D:/workspace/ditk/extraction/relation/relation_classification_via_cnn/model3/cnn-200-50/model.ckpt-560\n",
      "gov. tim pawlenty of minnesota ordered the state health department this month to monitor day-to-day operations at the minneapolis veterans home after state inspectors found that three men had died there in the previous month because of neglect or medical errors .\ttim pawlenty\tminnesota\t/people/person/place_lived\t/people/person/place_lived\n",
      "\n"
     ]
    }
   ],
   "source": [
    "output_file_path = model3.predict(dir_path+'/benchmark3', trained_model=dir_path+'/model3')\n",
    "\n",
    "with open(output_file_path, 'r') as output_file:\n",
    "    lines = output_file.readlines()\n",
    "    print(lines[0])"
   ]
  },
  {
   "cell_type": "markdown",
   "metadata": {},
   "source": [
    "## Evaluation\n",
    "Computation of marco-averaged precision, recall and F1"
   ]
  },
  {
   "cell_type": "code",
   "execution_count": 4,
   "metadata": {},
   "outputs": [
    {
     "name": "stdout",
     "output_type": "stream",
     "text": [
      "Precision: 0.1256887392654812\n",
      "Recall: 0.34622009569377993\n",
      "F1: 0.17575484587785317\n"
     ]
    }
   ],
   "source": [
    "precision3, recall3, f13 = model3.evaluate(dir_path+'/benchmark3')\n",
    "print(\"Precision: \"+str(precision3))\n",
    "print(\"Recall: \"+str(recall3))\n",
    "print(\"F1: \"+str(f13))"
   ]
  },
  {
   "cell_type": "code",
   "execution_count": null,
   "metadata": {},
   "outputs": [],
   "source": []
  }
 ],
 "metadata": {
  "kernelspec": {
   "display_name": "Python 3",
   "language": "python",
   "name": "python3"
  },
  "language_info": {
   "codemirror_mode": {
    "name": "ipython",
    "version": 3
   },
   "file_extension": ".py",
   "mimetype": "text/x-python",
   "name": "python",
   "nbconvert_exporter": "python",
   "pygments_lexer": "ipython3",
   "version": "3.5.4"
  }
 },
 "nbformat": 4,
 "nbformat_minor": 2
}
