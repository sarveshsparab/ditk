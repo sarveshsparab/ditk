{
 "cells": [
  {
   "cell_type": "code",
   "execution_count": 1,
   "metadata": {},
   "outputs": [],
   "source": [
    "import os\n",
    "import cnn_model"
   ]
  },
  {
   "cell_type": "markdown",
   "metadata": {},
   "source": [
    "# Benchmark 1: DDI2013"
   ]
  },
  {
   "cell_type": "code",
   "execution_count": 2,
   "metadata": {},
   "outputs": [],
   "source": [
    "dir_path = os.getcwd()\n",
    "dir_path = dir_path.replace(os.sep, '/')\n",
    "\n",
    "model1 = cnn_model.CNNModel()\n",
    "model1.read_dataset(dir_path+'/benchmark1')"
   ]
  },
  {
   "cell_type": "markdown",
   "metadata": {},
   "source": [
    "## Use trained model to predict testing data"
   ]
  },
  {
   "cell_type": "code",
   "execution_count": 3,
   "metadata": {},
   "outputs": [
    {
     "name": "stdout",
     "output_type": "stream",
     "text": [
      "================================================================================\n",
      "INFO:tensorflow:Restoring parameters from D:/workspace/ditk/extraction/relation/relation_classification_via_cnn/model1/cnn-200-50/model.ckpt-80\n",
      "in the present study, we tested whether the highly specific metabotropic glutamate receptor 5 antagonist, 3-[(2-methyl-1,3-thiazol-4-yl) ethynyl] pyridine, reduces dopaminergic and noradrenergic neuronal loss in monkeys rendered parkinsonian by chronic treatment with low doses of 1-methyl-4-phenyl-1,2,3,6-tetrahydropyridine.\t3-[(2-methyl-1,3-thiazol-4-yl) ethynyl] pyridine\t1-methyl-4-phenyl-1,2,3,6-tetrahydropyridine\tfalse\tfalse\n",
      "\n"
     ]
    }
   ],
   "source": [
    "output_file_path = model1.predict(dir_path+'/benchmark1', trained_model=dir_path+'/model1')\n",
    "\n",
    "with open(output_file_path, 'r') as output_file:\n",
    "    lines = output_file.readlines()\n",
    "    print(lines[0])"
   ]
  },
  {
   "cell_type": "markdown",
   "metadata": {},
   "source": [
    "## Evaluation\n",
    "Computation of marco-averaged precision, recall and F1"
   ]
  },
  {
   "cell_type": "code",
   "execution_count": 4,
   "metadata": {},
   "outputs": [
    {
     "name": "stdout",
     "output_type": "stream",
     "text": [
      "Precision: 0.5259194395796848\n",
      "Recall: 0.20428216115789155\n",
      "F1: 0.18977242089488053\n"
     ]
    }
   ],
   "source": [
    "precision1, recall1, f11 = model1.evaluate(dir_path+'/benchmark1')\n",
    "print(\"Precision: \"+str(precision1))\n",
    "print(\"Recall: \"+str(recall1))\n",
    "print(\"F1: \"+str(f11))"
   ]
  },
  {
   "cell_type": "code",
   "execution_count": null,
   "metadata": {},
   "outputs": [],
   "source": []
  }
 ],
 "metadata": {
  "kernelspec": {
   "display_name": "Python 3",
   "language": "python",
   "name": "python3"
  },
  "language_info": {
   "codemirror_mode": {
    "name": "ipython",
    "version": 3
   },
   "file_extension": ".py",
   "mimetype": "text/x-python",
   "name": "python",
   "nbconvert_exporter": "python",
   "pygments_lexer": "ipython3",
   "version": "3.5.4"
  }
 },
 "nbformat": 4,
 "nbformat_minor": 2
}
