{
 "cells": [
  {
   "cell_type": "code",
   "execution_count": 1,
   "metadata": {},
   "outputs": [],
   "source": [
    "import os\n",
    "import cnn_model"
   ]
  },
  {
   "cell_type": "markdown",
   "metadata": {},
   "source": [
    "# Benchmark 2: SemEval2010 Task8"
   ]
  },
  {
   "cell_type": "code",
   "execution_count": 2,
   "metadata": {},
   "outputs": [],
   "source": [
    "dir_path = os.getcwd()\n",
    "dir_path = dir_path.replace(os.sep, '/')\n",
    "\n",
    "model2 = cnn_model.CNNModel()\n",
    "model2.read_dataset(dir_path+'/benchmark2')"
   ]
  },
  {
   "cell_type": "markdown",
   "metadata": {},
   "source": [
    "## Use trained model to predict testing data"
   ]
  },
  {
   "cell_type": "code",
   "execution_count": 3,
   "metadata": {},
   "outputs": [
    {
     "name": "stdout",
     "output_type": "stream",
     "text": [
      "================================================================================\n",
      "INFO:tensorflow:Restoring parameters from D:/workspace/ditk/extraction/relation/relation_classification_via_cnn/model2/cnn-200-50/model.ckpt-5120\n",
      "the most common audits were about waste and recycling.\taudits\twaste\tMessage-Topic(e1,e2)\tmessage-topic(e1,e2)\n",
      "\n"
     ]
    }
   ],
   "source": [
    "output_file_path = model2.predict(dir_path+'/benchmark2', trained_model=dir_path+'/model2')\n",
    "\n",
    "with open(output_file_path, 'r') as output_file:\n",
    "    lines = output_file.readlines()\n",
    "    print(lines[0])"
   ]
  },
  {
   "cell_type": "markdown",
   "metadata": {},
   "source": [
    "## Evaluation\n",
    "Computation of marco-averaged precision, recall and F1"
   ]
  },
  {
   "cell_type": "code",
   "execution_count": 4,
   "metadata": {},
   "outputs": [
    {
     "name": "stdout",
     "output_type": "stream",
     "text": [
      "Precision: 0.7332828213343476\n",
      "Recall: 0.7331225110131899\n",
      "F1: 0.731151302407014\n"
     ]
    }
   ],
   "source": [
    "precision2, recall2, f12 = model2.evaluate(dir_path+'/benchmark2')\n",
    "print(\"Precision: \"+str(precision2))\n",
    "print(\"Recall: \"+str(recall2))\n",
    "print(\"F1: \"+str(f12))"
   ]
  },
  {
   "cell_type": "code",
   "execution_count": null,
   "metadata": {},
   "outputs": [],
   "source": []
  }
 ],
 "metadata": {
  "kernelspec": {
   "display_name": "Python 3",
   "language": "python",
   "name": "python3"
  },
  "language_info": {
   "codemirror_mode": {
    "name": "ipython",
    "version": 3
   },
   "file_extension": ".py",
   "mimetype": "text/x-python",
   "name": "python",
   "nbconvert_exporter": "python",
   "pygments_lexer": "ipython3",
   "version": "3.5.4"
  }
 },
 "nbformat": 4,
 "nbformat_minor": 2
}
