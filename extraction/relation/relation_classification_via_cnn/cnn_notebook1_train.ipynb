{
 "cells": [
  {
   "cell_type": "code",
   "execution_count": 1,
   "metadata": {},
   "outputs": [],
   "source": [
    "import os\n",
    "import cnn_model"
   ]
  },
  {
   "cell_type": "markdown",
   "metadata": {},
   "source": [
    "# Benchmark 1: DDI2013"
   ]
  },
  {
   "cell_type": "code",
   "execution_count": 2,
   "metadata": {},
   "outputs": [
    {
     "name": "stdout",
     "output_type": "stream",
     "text": [
      "['DDI_util.py', 'relation_extraction_input_test.txt', 'relation_extraction_input_train.txt']\n"
     ]
    }
   ],
   "source": [
    "dir_path = os.getcwd()\n",
    "dir_path = dir_path.replace(os.sep, '/')\n",
    "for (dirpath, dirnames, filenames) in os.walk(dir_path+'/benchmark1'):\n",
    "    print(filenames)\n",
    "    break"
   ]
  },
  {
   "cell_type": "markdown",
   "metadata": {},
   "source": [
    "## Preprocess training and testing data"
   ]
  },
  {
   "cell_type": "code",
   "execution_count": 3,
   "metadata": {},
   "outputs": [
    {
     "name": "stdout",
     "output_type": "stream",
     "text": [
      "['DDI_util.py', 'embed50.senna.npy', 'relations.txt', 'relation_extraction_input_test.txt', 'relation_extraction_input_train.txt', 'senna_words.lst', 'test.cln', 'train.cln']\n"
     ]
    }
   ],
   "source": [
    "model1 = cnn_model.CNNModel()\n",
    "model1.data_preprocess(dir_path+'/benchmark1')\n",
    "model1.read_dataset(dir_path+'/benchmark1')\n",
    "\n",
    "for (dirpath, dirnames, filenames) in os.walk(dir_path+'/benchmark1'):\n",
    "    print(filenames)\n",
    "    break"
   ]
  },
  {
   "cell_type": "markdown",
   "metadata": {},
   "source": [
    "## Train the model with training data"
   ]
  },
  {
   "cell_type": "code",
   "execution_count": 4,
   "metadata": {},
   "outputs": [
    {
     "name": "stdout",
     "output_type": "stream",
     "text": [
      "================================================================================\n",
      "Epoch 1, loss 2.77, acc 0.72 0.8311, time 9.19\n",
      "Epoch 2, loss 2.21, acc 0.72 0.8285, time 79.05\n",
      "Epoch 3, loss 0.32, acc 0.97 0.7990, time 62.62\n",
      "Epoch 4, loss 0.26, acc 0.94 0.7400, time 65.81\n",
      "Epoch 5, loss 1.55, acc 0.63 0.7440, time 62.91\n",
      "Epoch 6, loss 0.77, acc 0.86 0.7546, time 50.48\n",
      "Epoch 7, loss 0.49, acc 0.89 0.8120, time 44.81\n",
      "Epoch 8, loss 0.58, acc 0.89 0.7976, time 50.21\n",
      "Epoch 9, loss 1.01, acc 0.82 0.7939, time 56.73\n",
      "Epoch 10, loss 0.35, acc 0.93 0.7458, time 58.95\n",
      "Epoch 11, loss 0.17, acc 0.96 0.6698, time 58.85\n",
      "Epoch 12, loss 0.32, acc 0.91 0.7558, time 77.09\n",
      "Epoch 13, loss 0.19, acc 0.98 0.7307, time 82.16\n",
      "Epoch 14, loss 0.41, acc 0.90 0.8189, time 52.99\n",
      "Epoch 15, loss 0.08, acc 0.98 0.7809, time 54.91\n",
      "Epoch 16, loss 0.94, acc 0.66 0.7489, time 54.97\n",
      "Epoch 17, loss 0.69, acc 0.74 0.7658, time 53.37\n",
      "Epoch 18, loss 0.09, acc 1.00 0.7147, time 40.41\n",
      "Epoch 19, loss 0.79, acc 0.77 0.7800, time 34.02\n",
      "Epoch 20, loss 0.52, acc 0.82 0.7416, time 52.27\n",
      "Epoch 21, loss 0.27, acc 0.92 0.8160, time 44.36\n",
      "Epoch 22, loss 0.07, acc 1.00 0.7639, time 48.69\n",
      "Epoch 23, loss 0.10, acc 0.99 0.7010, time 51.65\n",
      "Epoch 24, loss 0.72, acc 0.74 0.7763, time 53.70\n",
      "Epoch 25, loss 0.51, acc 0.86 0.7734, time 47.56\n",
      "Epoch 26, loss 0.46, acc 0.80 0.7896, time 43.58\n",
      "Epoch 27, loss 0.58, acc 0.79 0.7601, time 54.37\n",
      "Epoch 28, loss 0.41, acc 0.88 0.8028, time 48.28\n",
      "Epoch 29, loss 0.70, acc 0.79 0.7802, time 46.24\n",
      "Epoch 30, loss 0.06, acc 1.00 0.6962, time 49.60\n",
      "Epoch 31, loss 0.34, acc 0.88 0.7841, time 52.94\n",
      "Epoch 32, loss 0.41, acc 0.85 0.7828, time 46.18\n",
      "Epoch 33, loss 0.79, acc 0.71 0.8051, time 59.27\n",
      "Epoch 34, loss 0.52, acc 0.83 0.7950, time 64.48\n",
      "Epoch 35, loss 0.55, acc 0.80 0.7700, time 61.10\n",
      "Epoch 36, loss 0.41, acc 0.88 0.8021, time 78.93\n",
      "Epoch 37, loss 0.47, acc 0.82 0.7169, time 77.15\n",
      "Epoch 38, loss 0.45, acc 0.87 0.7875, time 64.57\n",
      "Epoch 39, loss 0.30, acc 0.90 0.7758, time 59.47\n",
      "Epoch 40, loss 0.27, acc 0.92 0.7984, time 61.70\n",
      "Epoch 41, loss 0.07, acc 0.99 0.8063, time 56.78\n",
      "Epoch 42, loss 0.21, acc 0.96 0.7597, time 61.40\n",
      "Done training, best_step: 80, best_acc: 0.8311\n",
      "duration: 0.65 hours\n"
     ]
    },
    {
     "data": {
      "text/plain": [
       "'D:/workspace/ditk/extraction/relation/relation_classification_via_cnn/model1'"
      ]
     },
     "execution_count": 4,
     "metadata": {},
     "output_type": "execute_result"
    }
   ],
   "source": [
    "model1.train(dir_path+'/benchmark1', dir_path+'/model1')"
   ]
  },
  {
   "cell_type": "code",
   "execution_count": null,
   "metadata": {},
   "outputs": [],
   "source": []
  }
 ],
 "metadata": {
  "kernelspec": {
   "display_name": "Python 3",
   "language": "python",
   "name": "python3"
  },
  "language_info": {
   "codemirror_mode": {
    "name": "ipython",
    "version": 3
   },
   "file_extension": ".py",
   "mimetype": "text/x-python",
   "name": "python",
   "nbconvert_exporter": "python",
   "pygments_lexer": "ipython3",
   "version": "3.5.4"
  }
 },
 "nbformat": 4,
 "nbformat_minor": 2
}
