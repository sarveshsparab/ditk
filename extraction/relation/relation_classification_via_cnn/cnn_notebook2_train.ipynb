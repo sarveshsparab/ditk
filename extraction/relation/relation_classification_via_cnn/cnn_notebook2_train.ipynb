{
 "cells": [
  {
   "cell_type": "code",
   "execution_count": 1,
   "metadata": {},
   "outputs": [],
   "source": [
    "import os\n",
    "import cnn_model"
   ]
  },
  {
   "cell_type": "markdown",
   "metadata": {},
   "source": [
    "# Benchmark 2: SemEval2010 Task8"
   ]
  },
  {
   "cell_type": "code",
   "execution_count": 2,
   "metadata": {},
   "outputs": [],
   "source": [
    "dir_path = os.getcwd()\n",
    "dir_path = dir_path.replace(os.sep, '/')\n",
    "\n",
    "model2 = cnn_model.CNNModel()\n",
    "model2.read_dataset(dir_path+'/benchmark2')"
   ]
  },
  {
   "cell_type": "markdown",
   "metadata": {},
   "source": [
    "## Train the model with training data"
   ]
  },
  {
   "cell_type": "code",
   "execution_count": 3,
   "metadata": {},
   "outputs": [
    {
     "name": "stdout",
     "output_type": "stream",
     "text": [
      "================================================================================\n",
      "Epoch 1, loss 5.72, acc 0.23 0.2479, time 11.69\n",
      "Epoch 2, loss 5.38, acc 0.17 0.4091, time 17.76\n",
      "Epoch 3, loss 3.21, acc 0.40 0.4894, time 18.09\n",
      "Epoch 4, loss 3.14, acc 0.38 0.5505, time 18.45\n",
      "Epoch 5, loss 2.61, acc 0.38 0.5689, time 18.39\n",
      "Epoch 6, loss 2.35, acc 0.39 0.6000, time 18.62\n",
      "Epoch 7, loss 2.08, acc 0.46 0.6162, time 18.61\n",
      "Epoch 8, loss 1.98, acc 0.49 0.6279, time 18.53\n",
      "Epoch 9, loss 1.88, acc 0.50 0.6428, time 19.12\n",
      "Epoch 10, loss 1.87, acc 0.45 0.6569, time 19.49\n",
      "Epoch 11, loss 1.71, acc 0.52 0.6640, time 19.86\n",
      "Epoch 12, loss 1.28, acc 0.67 0.6705, time 19.21\n",
      "Epoch 13, loss 1.51, acc 0.55 0.6800, time 19.02\n",
      "Epoch 14, loss 1.48, acc 0.53 0.6856, time 19.14\n",
      "Epoch 15, loss 1.41, acc 0.59 0.6874, time 18.57\n",
      "Epoch 16, loss 1.17, acc 0.70 0.6935, time 18.60\n",
      "Epoch 17, loss 1.45, acc 0.54 0.6933, time 18.94\n",
      "Epoch 18, loss 1.34, acc 0.66 0.6984, time 18.60\n",
      "Epoch 19, loss 1.40, acc 0.54 0.6988, time 19.03\n",
      "Epoch 20, loss 1.07, acc 0.69 0.7053, time 18.77\n",
      "Epoch 21, loss 1.29, acc 0.64 0.7088, time 18.47\n",
      "Epoch 22, loss 0.85, acc 0.74 0.7178, time 18.50\n",
      "Epoch 23, loss 1.17, acc 0.71 0.7178, time 18.46\n",
      "Epoch 24, loss 1.13, acc 0.70 0.7195, time 20.01\n",
      "Epoch 25, loss 1.15, acc 0.62 0.7203, time 18.54\n",
      "Epoch 26, loss 1.11, acc 0.64 0.7235, time 18.48\n",
      "Epoch 27, loss 0.92, acc 0.76 0.7225, time 18.95\n",
      "Epoch 28, loss 1.07, acc 0.68 0.7308, time 18.69\n",
      "Epoch 29, loss 1.08, acc 0.70 0.7296, time 20.54\n",
      "Epoch 30, loss 1.01, acc 0.68 0.7310, time 20.79\n",
      "Epoch 31, loss 1.05, acc 0.66 0.7319, time 23.46\n",
      "Epoch 32, loss 0.96, acc 0.70 0.7387, time 23.35\n",
      "Epoch 33, loss 0.84, acc 0.74 0.7368, time 22.37\n",
      "Epoch 34, loss 0.89, acc 0.76 0.7436, time 21.58\n",
      "Epoch 35, loss 0.86, acc 0.77 0.7451, time 24.70\n",
      "Epoch 36, loss 0.84, acc 0.78 0.7436, time 21.18\n",
      "Epoch 37, loss 0.91, acc 0.74 0.7461, time 21.38\n",
      "Epoch 38, loss 0.79, acc 0.82 0.7421, time 20.98\n",
      "Epoch 39, loss 0.68, acc 0.83 0.7456, time 19.49\n",
      "Epoch 40, loss 0.62, acc 0.85 0.7440, time 19.57\n",
      "Epoch 41, loss 0.76, acc 0.78 0.7558, time 21.09\n",
      "Epoch 42, loss 0.76, acc 0.82 0.7534, time 19.53\n",
      "Epoch 43, loss 0.89, acc 0.74 0.7606, time 19.81\n",
      "Epoch 44, loss 0.81, acc 0.73 0.7634, time 22.24\n",
      "Epoch 45, loss 0.80, acc 0.77 0.7585, time 20.99\n",
      "Epoch 46, loss 0.56, acc 0.90 0.7601, time 18.61\n",
      "Epoch 47, loss 0.62, acc 0.87 0.7609, time 19.63\n",
      "Epoch 48, loss 0.70, acc 0.80 0.7589, time 18.69\n",
      "Epoch 49, loss 0.55, acc 0.88 0.7653, time 18.59\n",
      "Epoch 50, loss 0.65, acc 0.86 0.7617, time 20.54\n",
      "Epoch 51, loss 0.68, acc 0.82 0.7616, time 18.39\n",
      "Epoch 52, loss 0.43, acc 0.92 0.7610, time 18.59\n",
      "Epoch 53, loss 0.58, acc 0.85 0.7620, time 18.33\n",
      "Epoch 54, loss 0.58, acc 0.85 0.7642, time 18.56\n",
      "Epoch 55, loss 0.61, acc 0.84 0.7616, time 18.15\n",
      "Epoch 56, loss 0.50, acc 0.84 0.7623, time 18.18\n",
      "Epoch 57, loss 0.54, acc 0.87 0.7628, time 18.28\n",
      "Epoch 58, loss 0.43, acc 0.90 0.7617, time 18.31\n",
      "Epoch 59, loss 0.52, acc 0.92 0.7632, time 18.53\n",
      "Epoch 60, loss 0.59, acc 0.86 0.7630, time 18.59\n",
      "Epoch 61, loss 0.45, acc 0.92 0.7669, time 18.34\n",
      "Epoch 62, loss 0.51, acc 0.91 0.7628, time 18.47\n",
      "Epoch 63, loss 0.40, acc 0.91 0.7689, time 18.14\n",
      "Epoch 64, loss 0.52, acc 0.86 0.7695, time 19.92\n",
      "Epoch 65, loss 0.49, acc 0.88 0.7691, time 19.30\n",
      "Epoch 66, loss 0.37, acc 0.91 0.7679, time 20.33\n",
      "Epoch 67, loss 0.55, acc 0.85 0.7673, time 19.95\n",
      "Epoch 68, loss 0.51, acc 0.88 0.7672, time 18.44\n",
      "Done training, best_step: 5120, best_acc: 0.7695\n",
      "duration: 0.37 hours\n"
     ]
    },
    {
     "data": {
      "text/plain": [
       "'D:/workspace/ditk/extraction/relation/relation_classification_via_cnn/model2'"
      ]
     },
     "execution_count": 3,
     "metadata": {},
     "output_type": "execute_result"
    }
   ],
   "source": [
    "model2.train(dir_path+'/benchmark2', dir_path+'/model2')"
   ]
  },
  {
   "cell_type": "code",
   "execution_count": null,
   "metadata": {},
   "outputs": [],
   "source": []
  }
 ],
 "metadata": {
  "kernelspec": {
   "display_name": "Python 3",
   "language": "python",
   "name": "python3"
  },
  "language_info": {
   "codemirror_mode": {
    "name": "ipython",
    "version": 3
   },
   "file_extension": ".py",
   "mimetype": "text/x-python",
   "name": "python",
   "nbconvert_exporter": "python",
   "pygments_lexer": "ipython3",
   "version": "3.5.4"
  }
 },
 "nbformat": 4,
 "nbformat_minor": 2
}
