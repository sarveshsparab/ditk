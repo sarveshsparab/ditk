{
 "cells": [
  {
   "cell_type": "code",
   "execution_count": 1,
   "metadata": {},
   "outputs": [],
   "source": [
    "from relation.RelationExtractionImpl.src.RelationExtraction_impl import DDIExtractionImpl"
   ]
  },
  {
   "cell_type": "code",
   "execution_count": 2,
   "metadata": {},
   "outputs": [
    {
     "name": "stdout",
     "output_type": "stream",
     "text": [
      "WARNING:tensorflow:From C:\\ProgramData\\Anaconda3\\lib\\site-packages\\tensorflow\\python\\framework\\op_def_library.py:263: colocate_with (from tensorflow.python.framework.ops) is deprecated and will be removed in a future version.\n",
      "Instructions for updating:\n",
      "Colocations handled automatically by placer.\n",
      "\n",
      "WARNING: The TensorFlow contrib module will not be included in TensorFlow 2.0.\n",
      "For more information, please see:\n",
      "  * https://github.com/tensorflow/community/blob/master/rfcs/20180907-contrib-sunset.md\n",
      "  * https://github.com/tensorflow/addons\n",
      "If you depend on functionality not listed there, please file an issue.\n",
      "\n",
      "WARNING:tensorflow:From C:\\Users\\Samhitha Rao\\PycharmProjects\\548DDI\\relation\\RelationExtractionImpl\\src\\joint_lstm.py:40: LSTMCell.__init__ (from tensorflow.python.ops.rnn_cell_impl) is deprecated and will be removed in a future version.\n",
      "Instructions for updating:\n",
      "This class is equivalent as tf.keras.layers.LSTMCell, and will be replaced by that in Tensorflow 2.0.\n",
      "WARNING:tensorflow:From C:\\Users\\Samhitha Rao\\PycharmProjects\\548DDI\\relation\\RelationExtractionImpl\\src\\joint_lstm.py:47: bidirectional_dynamic_rnn (from tensorflow.python.ops.rnn) is deprecated and will be removed in a future version.\n",
      "Instructions for updating:\n",
      "Please use `keras.layers.Bidirectional(keras.layers.RNN(cell))`, which is equivalent to this API\n",
      "WARNING:tensorflow:From C:\\ProgramData\\Anaconda3\\lib\\site-packages\\tensorflow\\python\\ops\\rnn.py:443: dynamic_rnn (from tensorflow.python.ops.rnn) is deprecated and will be removed in a future version.\n",
      "Instructions for updating:\n",
      "Please use `keras.layers.RNN(cell)`, which is equivalent to this API\n",
      "WARNING:tensorflow:From C:\\ProgramData\\Anaconda3\\lib\\site-packages\\tensorflow\\python\\ops\\rnn.py:626: to_int32 (from tensorflow.python.ops.math_ops) is deprecated and will be removed in a future version.\n",
      "Instructions for updating:\n",
      "Use tf.cast instead.\n",
      "WARNING:tensorflow:From C:\\Users\\Samhitha Rao\\PycharmProjects\\548DDI\\relation\\RelationExtractionImpl\\src\\joint_lstm.py:95: calling dropout (from tensorflow.python.ops.nn_ops) with keep_prob is deprecated and will be removed in a future version.\n",
      "Instructions for updating:\n",
      "Please use `rate` instead of `keep_prob`. Rate should be set to `rate = 1 - keep_prob`.\n",
      "WARNING:tensorflow:From C:\\Users\\Samhitha Rao\\PycharmProjects\\548DDI\\relation\\RelationExtractionImpl\\src\\joint_lstm.py:106: softmax_cross_entropy_with_logits (from tensorflow.python.ops.nn_ops) is deprecated and will be removed in a future version.\n",
      "Instructions for updating:\n",
      "\n",
      "Future major versions of TensorFlow will allow gradients to flow\n",
      "into the labels input on backprop by default.\n",
      "\n",
      "See `tf.nn.softmax_cross_entropy_with_logits_v2`.\n",
      "\n"
     ]
    }
   ],
   "source": [
    "obj=DDIExtractionImpl()\n",
    "#create a dict with \"train\",\"dev\",\"test\" as keys and input file paths as values\n",
    "input = {\"train\": \"relation_extraction_test_input.txt\",\n",
    "        \"dev\": \"relation_extraction_test_input.txt\",\n",
    "        \"test\": \"relation_extraction_test_input.txt\"}\n",
    "#train the model on the input files\n",
    "obj.train(input)"
   ]
  },
  {
   "cell_type": "code",
   "execution_count": 3,
   "metadata": {},
   "outputs": [
    {
     "name": "stdout",
     "output_type": "stream",
     "text": [
      "[['although this effect was noted even when druga was given dg hours prior to drugb , this regimen did not result in diminished efficacy', 'the system as described above has its greatest application in an arrayed druga of antenna drugb', 'druga is the founder of drugb'], [2, 1, 1], array([2, 3, 1], dtype=int64)]\n"
     ]
    }
   ],
   "source": [
    "predictions=obj.predict()\n",
    "print(predictions)\n",
    "#gives tuple with first element being all sentences in test file, second element being true relation label dict value, third\n",
    "#element being predicted label dict values, these dict values are required for evaluate.\n",
    "#In addition this method writes a \"relation_extraction_output.txt\" with format \n",
    "#[sentence,entity1,entity2,predicted relation,true relation] entity 1 and entity 2 are marked null for this implementation as\n",
    "# the interacting drugs will be marked with DRUGA and DRUGB in the sentence itself."
   ]
  },
  {
   "cell_type": "code",
   "execution_count": 4,
   "metadata": {},
   "outputs": [
    {
     "name": "stdout",
     "output_type": "stream",
     "text": [
      "[0.6666666666666666, 0.6666666666666666, 0.6666666666666666]\n"
     ]
    }
   ],
   "source": [
    "#send 2nd and 3rd element of the tuple obtained from predict() in that order to evaluate \n",
    "scores = obj.evaluate(predictions[1], predictions[2])\n",
    "print(scores) #[precision,recall,f1]"
   ]
  }
 ],
 "metadata": {
  "kernelspec": {
   "display_name": "Python 3",
   "language": "python",
   "name": "python3"
  },
  "language_info": {
   "codemirror_mode": {
    "name": "ipython",
    "version": 3
   },
   "file_extension": ".py",
   "mimetype": "text/x-python",
   "name": "python",
   "nbconvert_exporter": "python",
   "pygments_lexer": "ipython3",
   "version": "3.7.3"
  }
 },
 "nbformat": 4,
 "nbformat_minor": 2
}
