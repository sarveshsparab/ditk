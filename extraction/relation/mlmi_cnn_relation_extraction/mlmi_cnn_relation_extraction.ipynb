{
 "cells": [
  {
   "cell_type": "code",
   "execution_count": 24,
   "metadata": {},
   "outputs": [],
   "source": [
    "import mlmi_cnn_relation_extraction as mlmi"
   ]
  },
  {
   "cell_type": "code",
   "execution_count": 25,
   "metadata": {},
   "outputs": [],
   "source": [
    "data_path = 'data/NYT/NYT_20.txt'"
   ]
  },
  {
   "cell_type": "code",
   "execution_count": 26,
   "metadata": {},
   "outputs": [],
   "source": [
    "model = mlmi.MLMI_CNN_Model()"
   ]
  },
  {
   "cell_type": "code",
   "execution_count": 27,
   "metadata": {},
   "outputs": [
    {
     "data": {
      "text/plain": [
       "'mlmi_datasets'"
      ]
     },
     "execution_count": 27,
     "metadata": {},
     "output_type": "execute_result"
    }
   ],
   "source": [
    "model_data_path = model.read_dataset(data_path)\n",
    "model_data_path"
   ]
  },
  {
   "cell_type": "code",
   "execution_count": 28,
   "metadata": {},
   "outputs": [
    {
     "name": "stdout",
     "output_type": "stream",
     "text": [
      "Creating vocabulary mlmi_datasets/vocab.txt from data mlmi_datasets/source.txt\n",
      "Vectorizing data in mlmi_datasets/source.txt\n",
      "Reading pretrained word vectors from file ...\n",
      "Loading word2vec model ...\n",
      "\n",
      "Generated embeddings with shape (383, 300)\n"
     ]
    }
   ],
   "source": [
    "model.data_preprocess(model_data_path)"
   ]
  },
  {
   "cell_type": "code",
   "execution_count": 29,
   "metadata": {},
   "outputs": [
    {
     "name": "stdout",
     "output_type": "stream",
     "text": [
      "Loading data...\n",
      "\t20 examples found.\n",
      "Splitting data...\n",
      "\t13 for train, 7 for test\n",
      "Parameters:\n",
      "          batch_size 100\n",
      "            emb_size 300\n",
      "          num_kernel 100\n",
      "          min_window 3\n",
      "          max_window 5\n",
      "          vocab_size 384\n",
      "         num_classes 8\n",
      "            sent_len 102\n",
      "              l2_reg 0.0001\n",
      "           attention False\n",
      "         multi_label True\n",
      "            data_dir '/Users/zyz/Documents/E/4th/548/homework/project/project2-mlmi/try2to3/data'\n",
      "           train_dir '/Users/zyz/Documents/E/4th/548/homework/project/project2-mlmi/try2to3/train'\n",
      "          train_size 100000\n",
      "          num_epochs 10\n",
      "        use_pretrain True\n",
      "           optimizer 'adam'\n",
      "             init_lr 0.001\n",
      "            lr_decay 0.95\n",
      "      tolerance_step 500\n",
      "             dropout 0.5\n",
      "            log_step 10\n",
      "        summary_step 50\n",
      "     checkpoint_step 100\n",
      "\n",
      "Start training (save checkpoints in /Users/zyz/Documents/E/4th/548/homework/project/project2-mlmi/try2to3/train/1556677160)\n",
      "\n",
      "2019-04-30 19:19:22.464443: step 10/10, f1 = 0.8333, auc = nan, loss = 0.0839 (124.1 examples/sec; 0.105 sec/batch), lr: 0.001000\n"
     ]
    }
   ],
   "source": [
    "train_dir = model.train(model_data_path)"
   ]
  },
  {
   "cell_type": "code",
   "execution_count": 30,
   "metadata": {},
   "outputs": [
    {
     "name": "stdout",
     "output_type": "stream",
     "text": [
      "Loading data...\n",
      "\t20 examples found.\n",
      "Splitting data...\n",
      "\t13 for train, 7 for test\n",
      "\n",
      "Start evaluation on test set ...\n",
      "\n"
     ]
    }
   ],
   "source": [
    "output_path = model.predict(model_data_path,trained_model = train_dir)"
   ]
  },
  {
   "cell_type": "code",
   "execution_count": 31,
   "metadata": {},
   "outputs": [
    {
     "data": {
      "text/plain": [
       "'mlmi_datasets/system_results.txt'"
      ]
     },
     "execution_count": 31,
     "metadata": {},
     "output_type": "execute_result"
    }
   ],
   "source": [
    "output_path"
   ]
  },
  {
   "cell_type": "code",
   "execution_count": 32,
   "metadata": {},
   "outputs": [
    {
     "name": "stdout",
     "output_type": "stream",
     "text": [
      "2019-04-30 19:19:27.603392:  p = nan, r = 0.0000, f1 = nan\n"
     ]
    },
    {
     "data": {
      "text/plain": [
       "[nan, 0.0, [nan]]"
      ]
     },
     "execution_count": 32,
     "metadata": {},
     "output_type": "execute_result"
    }
   ],
   "source": [
    "model.evaluate(train_dir)"
   ]
  },
  {
   "cell_type": "code",
   "execution_count": null,
   "metadata": {},
   "outputs": [],
   "source": []
  }
 ],
 "metadata": {
  "kernelspec": {
   "display_name": "Python 3",
   "language": "python",
   "name": "python3"
  },
  "language_info": {
   "codemirror_mode": {
    "name": "ipython",
    "version": 3
   },
   "file_extension": ".py",
   "mimetype": "text/x-python",
   "name": "python",
   "nbconvert_exporter": "python",
   "pygments_lexer": "ipython3",
   "version": "3.6.4"
  }
 },
 "nbformat": 4,
 "nbformat_minor": 2
}
