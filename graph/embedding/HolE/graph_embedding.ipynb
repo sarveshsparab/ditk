{
 "cells": [
  {
   "cell_type": "markdown",
   "metadata": {},
   "source": [
    "# Holographic Embeddings of Knowledge Graph\n",
    "This model generates embeddings of entities and relations in a knowledge graph with pairwise ranking loss"
   ]
  },
  {
   "cell_type": "code",
   "execution_count": 2,
   "metadata": {},
   "outputs": [],
   "source": [
    "from __future__ import print_function\n",
    "from base import Experiment\n",
    "\n",
    "import logging\n",
    "from skge import sample\n",
    "from skge import HolE\n",
    "from skge.base import StochasticTrainer, PairwiseStochasticTrainer\n",
    "from base import cosin_distance\n",
    "import numpy as np\n",
    "from base import FilteredRankingEval,ranking_scores,ranking_hits,pre_process_data\n",
    "from skge.util import ccorr\n",
    "import pickle\n",
    "import timeit\n",
    "import matplotlib.pyplot as plt\n",
    "from Holographic_Embedding import HolE_Embedding, HolEEval\n",
    "import numpy as np\n",
    "\n",
    "logging.basicConfig(level=logging.DEBUG)\n",
    "\n",
    "log = logging.getLogger('EX-KG')\n"
   ]
  },
  {
   "cell_type": "markdown",
   "metadata": {},
   "source": [
    "# Loading Data\n",
    "\n",
    "Given the data path, the data will be converted.\n",
    "\n",
    "- train: data for training\n",
    "\n",
    "- valid: data for validation\n",
    "\n",
    "- test: data for testing\n",
    "\n",
    "- entities: dictionary stroing relations between entity ids and entities\n",
    "\n",
    "- relations: dictionary storing relations between relation ids and relations"
   ]
  },
  {
   "cell_type": "code",
   "execution_count": 3,
   "metadata": {},
   "outputs": [],
   "source": [
    "example = HolE_Embedding()\n",
    "fileName = ['data/WN18/train.txt', 'data/WN18/valid.txt', 'data/WN18/test.txt']\n",
    "example.input_file = fileName\n",
    "prefix = ''\n",
    "if fileName[0].rfind('/') >= 0:\n",
    "    prefix = fileName[0][:fileName[0].rfind('/')] + '/'\n",
    "example.output_file = prefix + 'output.txt'\n",
    "\n",
    "example.train, example.valid, example.test, example.entities, example.relations = example.read_dataset()"
   ]
  },
  {
   "cell_type": "markdown",
   "metadata": {},
   "source": [
    "# Settings\n",
    "\n",
    "evaluator : Holographic Embedding Evaluaiton model, use pairwise ranking loss to update with associative memory\n",
    "\n",
    "margin: Margin for loss function, if similarity between a positive and a negative example is greater than margin, it is a violation, 0.2\n",
    "\n",
    "lr: Learning rate, 0.1\n",
    "\n",
    "me: The maximum epoches: 5\n",
    "\n",
    "ne: The number of negative instances the models tries to generate for each positive instance: 1\n",
    "\n",
    "nb: The number of batches: 50\n",
    "\n",
    "test_all: Evaluate Test set after each x epochs: 5\n",
    "\n",
    "afs: Activation function: sigmoid\n",
    "\n",
    "ncomp: Dimension of each embedding vector: 300"
   ]
  },
  {
   "cell_type": "markdown",
   "metadata": {},
   "source": [
    "# Building Evaluator, Model, and Trainer\n",
    "\n",
    "# Training the Model and Generating Embeddings\n",
    "\n",
    "The epoch, execution time and number of violations will be printed during training\n",
    "\n",
    "Violation: the numeber of negative instances that are close to positive instances, difference between their activation function outputs is less than the defined margin."
   ]
  },
  {
   "cell_type": "code",
   "execution_count": 4,
   "metadata": {},
   "outputs": [
    {
     "name": "stderr",
     "output_type": "stream",
     "text": [
      "INFO:EX-KG:Fitting model HolE with trainer PairwiseStochasticTrainer\n",
      "INFO:EX-KG:[  1] time = 28s, violations = 216820\n",
      "INFO:EX-KG:[  2] time = 16s, violations = 84439\n",
      "INFO:EX-KG:[  3] time = 12s, violations = 40180\n",
      "INFO:EX-KG:[  4] time = 11s, violations = 25724\n",
      "INFO:EX-KG:[  5] time = 10s, violations = 18777\n",
      "DEBUG:EX-KG:FMRR valid = 1006.673123, best = 1000000.000000\n",
      "INFO:EX-KG:[  5] time = 373s, violations = 18777\n",
      "DEBUG:EX-KG:FMRR valid = 1006.673123, best = 1006.673123\n"
     ]
    }
   ],
   "source": [
    "[embedding_vector, model, ev_test] = example.learn_embeddings()"
   ]
  },
  {
   "cell_type": "markdown",
   "metadata": {},
   "source": [
    "# Saving Embeddings"
   ]
  },
  {
   "cell_type": "code",
   "execution_count": 5,
   "metadata": {},
   "outputs": [
    {
     "name": "stdout",
     "output_type": "stream",
     "text": [
      "0\n",
      "[-0.04100875 -0.00700551 -0.0111604   0.06573371  0.00241421 -0.0560459\n",
      " -0.06505495 -0.12279784  0.08778003  0.10722331 -0.0041038  -0.09441672\n",
      " -0.02858488 -0.00754178  0.17159011  0.15690541  0.08834875  0.05108197\n",
      " -0.00639358  0.08770879  0.01697101 -0.08326885 -0.02126091 -0.03209237\n",
      "  0.00974679  0.02557857  0.0696245  -0.01819768 -0.02253713 -0.1412152\n",
      "  0.0350013   0.00309914  0.05776609 -0.05487634 -0.13118874 -0.11380952\n",
      " -0.034026   -0.09087033  0.01439053  0.05169777  0.05134972 -0.0322808\n",
      " -0.01361544  0.00993792  0.1291119   0.07129353 -0.0016742  -0.05006641\n",
      " -0.07787545 -0.06045609  0.01686473 -0.04393624  0.01610761 -0.08905419\n",
      " -0.05843089 -0.10803511  0.08691467  0.03381053  0.01983609 -0.05061037\n",
      " -0.06664968  0.05154633  0.07047081 -0.05055067  0.0241964  -0.04280385\n",
      " -0.03082456  0.0741201   0.10864919  0.05913226  0.03204919  0.0306235\n",
      "  0.05307181  0.0136236   0.06016472 -0.0441248  -0.15008133 -0.09731735\n",
      "  0.08134456 -0.03235199 -0.01046687 -0.05770456 -0.00620761 -0.03080523\n",
      "  0.07150365  0.0476626  -0.0251598   0.03881038 -0.15244477  0.00267547\n",
      " -0.09257549 -0.00075926  0.00601245 -0.00186364  0.02177631 -0.02949609\n",
      "  0.02163875 -0.03948986 -0.01519859 -0.03090127  0.03750075  0.04426671\n",
      " -0.02774377 -0.01827131 -0.05095754 -0.11431924  0.03917189  0.02396085\n",
      "  0.01281352  0.00031848  0.02003156  0.01167403  0.00150788  0.11472169\n",
      "  0.06695204  0.01430742  0.02544992  0.07816545  0.00736697 -0.01641173\n",
      "  0.03160347 -0.03927329  0.04500531 -0.02021012  0.01144726  0.0076479\n",
      "  0.00234882  0.00808098  0.14567691 -0.04777387  0.00699338 -0.06339206\n",
      " -0.01448219  0.05043341 -0.02289718 -0.14716129 -0.07016373 -0.01136713\n",
      "  0.05764983  0.09658996 -0.03890312 -0.03605837 -0.06438704  0.10498612\n",
      "  0.04957102  0.03596191 -0.07290225 -0.0772685   0.01274287 -0.04409203\n",
      "  0.0580072   0.0220724   0.05586226  0.08442177  0.09983031  0.06676663\n",
      " -0.04891608 -0.01322272 -0.08326443  0.04125534  0.02271629 -0.06244446\n",
      " -0.05152756  0.04205932 -0.06007923  0.09171345 -0.06831753 -0.01420609\n",
      "  0.05012498  0.03115355 -0.03969146 -0.00821963 -0.0568165   0.08351902\n",
      " -0.03498129  0.07741718  0.02554323 -0.03801997 -0.02320812  0.06798778\n",
      "  0.04721751  0.03923623  0.0177555  -0.00221783 -0.00031312 -0.02432461\n",
      " -0.02805114  0.03150659 -0.05249325  0.08959938 -0.09690386 -0.08620175\n",
      " -0.05830721 -0.04881794  0.08271202  0.09314801 -0.08329723  0.03997443\n",
      " -0.05690479 -0.00506727  0.0640899   0.00259481  0.01363891  0.07046943\n",
      " -0.02783681  0.04753817 -0.02019173  0.03140143  0.10131743 -0.03444543\n",
      " -0.03058448  0.09240723  0.01856133 -0.02434767 -0.00132673 -0.05303915\n",
      "  0.02881401  0.06415972 -0.02840568 -0.00802768 -0.06953679  0.02727908\n",
      "  0.02304824  0.02542522  0.0701062  -0.04747678 -0.00825146 -0.02456674\n",
      " -0.0315826   0.14811087 -0.04189962  0.00845972  0.01064666 -0.03053415\n",
      "  0.07678985 -0.03507896 -0.02347308 -0.02683699  0.0851387  -0.05219841\n",
      " -0.00554328 -0.03134475 -0.02468235 -0.00239453 -0.03871093  0.06047363\n",
      " -0.07651053  0.01404215 -0.02895115  0.00927655  0.04983407 -0.03922107\n",
      " -0.05638347 -0.00735092 -0.01374466  0.08167299  0.07540971 -0.04306657\n",
      "  0.05991871 -0.0371864  -0.03802372  0.03545888 -0.03443186 -0.00672358\n",
      "  0.06663841 -0.05929921  0.07495648  0.05080211 -0.07224827  0.00877786\n",
      " -0.02615633  0.03094456 -0.02323222  0.0710939  -0.02533204 -0.01219214\n",
      " -0.03429896  0.09082222  0.0192528   0.00291045  0.06635092 -0.0219072\n",
      " -0.05071711  0.00247206 -0.01531483 -0.02749186 -0.06721505 -0.00182682\n",
      "  0.06883307 -0.02820278  0.10423814 -0.01831212 -0.01960396 -0.02304977\n",
      " -0.04292971 -0.00603447 -0.04452942 -0.04164107 -0.02302391 -0.0524767 ]\n"
     ]
    }
   ],
   "source": [
    "c1 = open(example.output_file, \"w\")\n",
    "\n",
    "for i in range(len(model.E)):\n",
    "    c1.write(str(example.entities[i]) + \" \" + str(np.array(model.E[i])) + '\\n')\n",
    "for i in range(len(model.R)):\n",
    "    c1.write(str(example.relations[i]) + \" \" + str(np.array(model.R[i])) + '\\n')\n",
    "c1.close()\n",
    "\n",
    "print(example.entities[0])\n",
    "print(example.model.E[0])"
   ]
  },
  {
   "cell_type": "markdown",
   "metadata": {},
   "source": [
    "# Saving Model"
   ]
  },
  {
   "cell_type": "code",
   "execution_count": 6,
   "metadata": {},
   "outputs": [],
   "source": [
    "example.save_model('data/WN18/')"
   ]
  },
  {
   "cell_type": "markdown",
   "metadata": {},
   "source": [
    "# Evaluating Embeddings\n",
    "\n",
    "The evaluation metrics here are \n",
    "\n",
    "    overall cosine similarity between the precited entities and the target entities' embeddings generated by the model.\n",
    "    \n",
    "    overall MR (Mean Rank) of all predictions\n",
    "    \n",
    "    overall Hits@1, Hits@3 and Hits@10 of all predictinos"
   ]
  },
  {
   "cell_type": "code",
   "execution_count": 7,
   "metadata": {},
   "outputs": [
    {
     "name": "stdout",
     "output_type": "stream",
     "text": [
      "cosine similarity: 0.3257791901231025\n",
      "\n",
      "MR: 997.8860899237254\n",
      "\n",
      "Hits@1: 53.09112806101967\n",
      "\n",
      "Hits@3: 61.15014050582096\n",
      "\n",
      "Hits@10: 68.47651545564031\n",
      "\n"
     ]
    }
   ],
   "source": [
    "result = example.evaluate(fileName, model, ev_test)\n",
    "\n",
    "print(\"cosine similarity: \"+ str(result['cosine similarity'])+'\\n')\n",
    "print(\"MR: \" + str(result['MR']) + '\\n')\n",
    "print(\"Hits@1: \" + str(result['Hits']['1']) + '\\n')\n",
    "\n",
    "print(\"Hits@3: \" + str(result['Hits']['3']) + '\\n')\n",
    "print(\"Hits@10: \" + str(result['Hits']['10']) + '\\n')"
   ]
  },
  {
   "cell_type": "code",
   "execution_count": null,
   "metadata": {},
   "outputs": [],
   "source": []
  }
 ],
 "metadata": {
  "kernelspec": {
   "display_name": "Python 3",
   "language": "python",
   "name": "python3"
  },
  "language_info": {
   "codemirror_mode": {
    "name": "ipython",
    "version": 3
   },
   "file_extension": ".py",
   "mimetype": "text/x-python",
   "name": "python",
   "nbconvert_exporter": "python",
   "pygments_lexer": "ipython3",
   "version": "3.7.1"
  }
 },
 "nbformat": 4,
 "nbformat_minor": 2
}
