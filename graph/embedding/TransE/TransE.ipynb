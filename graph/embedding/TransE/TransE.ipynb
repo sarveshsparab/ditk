{
 "cells": [
  {
   "cell_type": "markdown",
   "metadata": {},
   "source": [
    "# TransE"
   ]
  },
  {
   "cell_type": "markdown",
   "metadata": {},
   "source": [
    "- Simple description of TransE and this notebook"
   ]
  },
  {
   "cell_type": "markdown",
   "metadata": {},
   "source": [
    "## 1. Import the nessecery libarary and files"
   ]
  },
  {
   "cell_type": "code",
   "execution_count": 1,
   "metadata": {},
   "outputs": [],
   "source": [
    "import sys\n",
    "import os\n",
    "import tensorflow as tf\n",
    "from graph_embedding_transE import MyTransE\n",
    "\n",
    "import warnings\n",
    "warnings.filterwarnings('ignore')"
   ]
  },
  {
   "cell_type": "markdown",
   "metadata": {},
   "source": [
    "## 2. Set up import variables"
   ]
  },
  {
   "cell_type": "code",
   "execution_count": 2,
   "metadata": {},
   "outputs": [],
   "source": [
    "input_folder = './data/WN18/'\n",
    "output_folder = './output'\n",
    "\n",
    "graph_embedding = MyTransE()"
   ]
  },
  {
   "cell_type": "markdown",
   "metadata": {},
   "source": [
    "## 3. Read the data"
   ]
  },
  {
   "cell_type": "code",
   "execution_count": 4,
   "metadata": {},
   "outputs": [
    {
     "name": "stdout",
     "output_type": "stream",
     "text": [
      "-----Loading entity dict-----\n",
      "#entity: 40943\n",
      "-----Loading relation dict-----\n",
      "#relation: 18\n",
      "-----Loading training triples-----\n",
      "#training triple: 141442\n",
      "-----Loading validation triples-----\n",
      "#validation triple: 5000\n",
      "-----Loading test triples------\n",
      "#test triple: 5000\n"
     ]
    }
   ],
   "source": [
    "train, validation, test = graph_embedding.read_dataset(input_folder)"
   ]
  },
  {
   "cell_type": "markdown",
   "metadata": {},
   "source": [
    "#### 3.1.Visualize the data"
   ]
  },
  {
   "cell_type": "code",
   "execution_count": 5,
   "metadata": {},
   "outputs": [
    {
     "name": "stdout",
     "output_type": "stream",
     "text": [
      "Train: \n",
      "[(27536, 33729, 10), (25546, 10838, 5), (1213, 38780, 6), (4207, 6437, 2), (27541, 34437, 2)]\n",
      "Validation: \n",
      "[(18394, 30466, 5), (4484, 32979, 2), (9388, 13671, 9), (26213, 3112, 1), (21878, 36397, 5)]\n",
      "Test: \n",
      "[(7951, 38768, 8), (20391, 18987, 14), (13820, 25808, 10), (16395, 29310, 3), (11866, 20457, 1)]\n"
     ]
    }
   ],
   "source": [
    "print(\"Train: \")\n",
    "print(train[:5])\n",
    "print(\"Validation: \")\n",
    "print(validation[:5])\n",
    "print(\"Test: \")\n",
    "print(test[:5])"
   ]
  },
  {
   "cell_type": "markdown",
   "metadata": {},
   "source": [
    "## 4. Embeded the training data"
   ]
  },
  {
   "cell_type": "code",
   "execution_count": 6,
   "metadata": {},
   "outputs": [
    {
     "name": "stdout",
     "output_type": "stream",
     "text": [
      "WARNING:tensorflow:From /home/sandie/.local/lib/python3.6/site-packages/tensorflow/python/framework/op_def_library.py:263: colocate_with (from tensorflow.python.framework.ops) is deprecated and will be removed in a future version.\n",
      "Instructions for updating:\n",
      "Colocations handled automatically by placer.\n",
      "WARNING:tensorflow:From /home/sandie/USC/CSCI-548/Paper1-TransE/Code/TransE-master/TransE-master/src/model.py:51: calling l2_normalize (from tensorflow.python.ops.nn_impl) with dim is deprecated and will be removed in a future version.\n",
      "Instructions for updating:\n",
      "dim is deprecated, use axis instead\n",
      "WARNING:tensorflow:From /home/sandie/.local/lib/python3.6/site-packages/tensorflow/python/ops/math_ops.py:3066: to_int32 (from tensorflow.python.ops.math_ops) is deprecated and will be removed in a future version.\n",
      "Instructions for updating:\n",
      "Use tf.cast instead.\n",
      "-----Initializing tf graph-----\n",
      "-----Initialization accomplished-----\n",
      "-----Check norm-----\n",
      "entity norm: [1.         0.99999994 1.         ... 1.         1.         1.        ] relation norm: [1.         0.99999994 0.99999994 1.         0.99999994 0.99999994\n",
      " 1.         1.         0.99999994 0.99999994 1.         1.\n",
      " 0.99999994 1.         1.         1.         0.99999994 1.        ]\n",
      "==============================[EPOCH 0]==============================\n",
      "-----Start training-----\n",
      "-----Constructing training batches-----\n",
      "[39.726s] #triple: 141442/141442 triple_avg_loss: 1.020449\n",
      "epoch loss: 150033.685\n",
      "cost time: 39.726s\n",
      "-----Finish training-----\n",
      "-----Check norm-----\n",
      "entity norm: [1.         0.99999994 0.99999994 ... 1.         0.9999999  0.99999994] relation norm: [1.0000001  1.         1.         1.         0.99999994 0.99999994\n",
      " 1.         1.         1.         1.         0.9999999  1.\n",
      " 0.99999994 1.0000001  0.99999994 1.         0.99999994 0.99999994]\n",
      "==============================[EPOCH 1]==============================\n",
      "-----Start training-----\n",
      "-----Constructing training batches-----\n",
      "[39.241s] #triple: 141442/141442 triple_avg_loss: 0.810729\n",
      "epoch loss: 132378.187\n",
      "cost time: 39.242s\n",
      "-----Finish training-----\n",
      "-----Check norm-----\n",
      "entity norm: [0.99999994 1.         1.         ... 1.         1.         0.99999994] relation norm: [0.99999994 0.99999994 0.99999994 0.99999994 1.         1.\n",
      " 1.0000001  0.99999994 1.         1.         0.99999994 0.99999994\n",
      " 1.         0.99999994 0.9999999  0.99999994 0.9999999  1.        ]\n",
      "==============================[EPOCH 2]==============================\n",
      "-----Start training-----\n",
      "-----Constructing training batches-----\n",
      "[38.041s] #triple: 141442/141442 triple_avg_loss: 0.701110\n",
      "epoch loss: 104767.794\n",
      "cost time: 38.041s\n",
      "-----Finish training-----\n",
      "-----Check norm-----\n",
      "entity norm: [0.99999994 1.         1.         ... 1.         1.         0.99999994] relation norm: [0.9999999  1.         0.99999994 1.0000001  0.99999994 1.0000001\n",
      " 0.99999994 1.         0.99999994 1.         1.0000001  0.9999998\n",
      " 1.         1.         1.         1.         1.         1.        ]\n"
     ]
    }
   ],
   "source": [
    "embedding_vector, n_entity, n_relation = graph_embedding.learn_embeddings(300, 1.0, 4800, 3)"
   ]
  },
  {
   "cell_type": "markdown",
   "metadata": {},
   "source": [
    "#### 4.1. Total number of embededed items\n"
   ]
  },
  {
   "cell_type": "code",
   "execution_count": 7,
   "metadata": {},
   "outputs": [
    {
     "name": "stdout",
     "output_type": "stream",
     "text": [
      "Number of entities embeded: \n",
      "40943\n",
      "Number of relations embeded: \n",
      "18\n",
      "\n",
      "Number of all items embeded: \n",
      "40961\n",
      "Total embedding shape: \n",
      "(40961, 300)\n"
     ]
    }
   ],
   "source": [
    "print(\"Number of entities embeded: \")\n",
    "print(n_entity)\n",
    "print(\"Number of relations embeded: \")\n",
    "print(n_relation)\n",
    "print(\"\\nNumber of all items embeded: \")\n",
    "print(n_relation + n_entity)\n",
    "print(\"Total embedding shape: \")\n",
    "print(embedding_vector.shape)"
   ]
  },
  {
   "cell_type": "markdown",
   "metadata": {},
   "source": [
    "#### 4.2.Visualize the embeddings"
   ]
  },
  {
   "cell_type": "code",
   "execution_count": 8,
   "metadata": {
    "scrolled": false
   },
   "outputs": [
    {
     "name": "stdout",
     "output_type": "stream",
     "text": [
      "Example of entity embedding:\n",
      "5451384\n",
      "[ 0.01967962  0.0105549   0.08325198 -0.01052781 -0.00675232 -0.0366524\n",
      "  0.01345667  0.09752098  0.07644064 -0.07198326 -0.05074378 -0.00421396\n",
      " -0.02430242 -0.00397506  0.03472748 -0.05670462  0.00467028 -0.08401629\n",
      " -0.03630257  0.02181584 -0.04517686 -0.0630487  -0.08493591 -0.00424508\n",
      "  0.00117084  0.04234031 -0.00583587  0.05982396  0.08157018 -0.03691281\n",
      " -0.07147059  0.09631097 -0.05928604  0.01936732 -0.05880186 -0.03053894\n",
      "  0.04761003 -0.0197375  -0.03713382 -0.06901289  0.03348764 -0.06625143\n",
      " -0.07135198  0.05038544  0.0548447   0.04679889 -0.07099385 -0.08467524\n",
      " -0.09993178  0.07670282  0.05552563 -0.00907341  0.02145213 -0.09473643\n",
      " -0.01489065  0.08492562  0.00811629  0.05982855 -0.06005735 -0.06288414\n",
      " -0.07649767  0.02989609  0.06573126 -0.07117648 -0.09071427 -0.0103987\n",
      " -0.09512734  0.04731678  0.01072446 -0.0918815   0.01724586  0.05573203\n",
      " -0.02676378  0.07590335  0.05747997  0.07401402  0.00562878  0.00852833\n",
      " -0.0408533   0.04506473  0.0647636  -0.00915159 -0.08927026  0.07410116\n",
      " -0.00235871 -0.00513003  0.05686782 -0.08799299  0.09481937 -0.02692751\n",
      "  0.08684565  0.10005562 -0.08615099 -0.03864478  0.05506154  0.07505092\n",
      "  0.05069187 -0.08530164  0.06862467 -0.03974556 -0.03689783  0.05649826\n",
      "  0.03578662 -0.02618871  0.07833505 -0.03103791  0.00958295 -0.05200741\n",
      "  0.07448997  0.07807428 -0.02907431  0.00788537  0.02026045 -0.05169545\n",
      "  0.02383552 -0.03735053  0.02733414 -0.01347953  0.08615886 -0.03433914\n",
      "  0.06516014 -0.0263332  -0.07034291 -0.00969687  0.01412485 -0.04966748\n",
      " -0.01867412  0.0371545   0.00412365 -0.08767947  0.06326757 -0.02260366\n",
      "  0.01005239  0.05427317  0.07975728 -0.01081501  0.06659763 -0.03521423\n",
      "  0.02288435 -0.03411867  0.01096801  0.07814206  0.02807555 -0.07877175\n",
      " -0.08993078  0.03896758  0.00957318 -0.03443342  0.03943443  0.07272568\n",
      " -0.04721965  0.09984041  0.06326654 -0.02302727 -0.06058956  0.03362577\n",
      "  0.04010233  0.0781096  -0.02419812 -0.06049354 -0.03714619  0.05347957\n",
      "  0.05072281  0.04555032  0.03507819 -0.06775828 -0.08736989  0.01691406\n",
      "  0.08042394 -0.08588319  0.09417372 -0.03611199 -0.04386679 -0.05736597\n",
      " -0.04879966 -0.08982722  0.09108076 -0.06206241 -0.08950529 -0.00062301\n",
      "  0.02792325  0.05084863 -0.07048285  0.000289    0.05431649 -0.04611826\n",
      "  0.05301641  0.05768579 -0.01871237 -0.05366943 -0.08273581  0.00128556\n",
      " -0.09117261  0.08993303  0.03023874  0.01499589  0.08616327  0.02993627\n",
      "  0.07314652  0.08702033  0.03799555 -0.05889989 -0.03208857  0.00213278\n",
      " -0.01950114 -0.0400059  -0.033605   -0.01759907  0.09338718 -0.0594164\n",
      "  0.09505881  0.06884764  0.06685482 -0.02617301 -0.014659    0.07729147\n",
      "  0.02038947 -0.05078214 -0.06452516  0.04985716  0.07203484 -0.08487596\n",
      "  0.0119134  -0.00506665  0.05277436  0.05312059  0.05466748 -0.04291352\n",
      "  0.06167127  0.03545106  0.0261051   0.06471743  0.00853673  0.05834608\n",
      " -0.01328667 -0.07272152  0.09025995 -0.02679957  0.03318049 -0.07094257\n",
      "  0.08079089  0.08596799  0.04621138 -0.09760283  0.00035927 -0.01554709\n",
      "  0.0493178   0.05826707  0.02836269  0.02760983  0.0777285  -0.02833821\n",
      "  0.00902294  0.09040996 -0.01033427  0.09385964 -0.02717212 -0.09197413\n",
      "  0.03179638  0.00323876  0.04727328  0.09289512  0.01980407 -0.09333133\n",
      "  0.03389246 -0.04963264  0.06201281  0.08984478  0.09098282  0.04149898\n",
      "  0.04325705 -0.07800347  0.07703045 -0.06517806  0.09141026  0.04800266\n",
      " -0.07734018  0.07841817 -0.0318086   0.03489691  0.08442352  0.00465741\n",
      " -0.09012634 -0.08777884 -0.09152639  0.0898809   0.04352012  0.00820806\n",
      "  0.09311707  0.07821303 -0.081787    0.04645618  0.03158023 -0.04747402\n",
      " -0.09034046 -0.0346125   0.07846095  0.01804682  0.01095814  0.07492036]\n"
     ]
    }
   ],
   "source": [
    "print(\"Example of entity embedding:\")\n",
    "print(list(graph_embedding.kg.entity_dict.keys())[0])\n",
    "print(graph_embedding.graph_embedded_entity[0])"
   ]
  },
  {
   "cell_type": "code",
   "execution_count": 9,
   "metadata": {
    "scrolled": false
   },
   "outputs": [
    {
     "name": "stdout",
     "output_type": "stream",
     "text": [
      "Example of relation embedding:\n",
      "_member_of_domain_topic\n",
      "[ 3.0241188e-02  2.9301191e-02 -2.1056730e-02  4.8805483e-02\n",
      "  6.8355270e-02 -1.2704988e-02  7.9154037e-02  3.0097871e-03\n",
      "  5.8535807e-02  6.2550165e-02 -4.3197677e-02  5.5226687e-02\n",
      "  6.7782313e-02 -2.7352937e-02  3.3338267e-02  3.1018879e-03\n",
      " -6.5540411e-02 -1.5090723e-02 -9.0107091e-02 -6.4483277e-02\n",
      "  6.3000940e-02 -6.7823857e-02 -5.2389678e-02 -2.1577438e-02\n",
      " -6.8983488e-02 -5.7598524e-02  6.0994409e-02  5.5253029e-02\n",
      "  4.1571319e-02 -2.4098786e-02  1.8843412e-02  5.5352457e-02\n",
      "  7.2959162e-02  2.4459152e-02 -3.3330498e-03  2.9346587e-02\n",
      " -1.3055077e-02  9.7318418e-02  9.6857674e-02 -1.6474589e-03\n",
      "  8.5333839e-02  8.4913813e-02  9.5802911e-02  4.3181855e-02\n",
      "  1.3841412e-02 -4.6394639e-02 -7.9351947e-02 -4.6432227e-02\n",
      "  1.2838029e-02  9.2281990e-02  8.9671850e-02 -2.4121463e-02\n",
      "  5.0705370e-02 -1.3986449e-02  7.5665385e-02  4.1531563e-02\n",
      "  5.1984169e-02  6.1470468e-02  8.5798524e-02  8.9065015e-02\n",
      " -9.1358326e-02 -8.2789958e-02  3.4064889e-02  7.6517970e-03\n",
      " -9.1470584e-02  2.4272934e-02 -5.8146089e-02 -2.7589809e-02\n",
      " -9.9532798e-02 -4.5867819e-02  7.7564597e-02 -1.4757334e-02\n",
      "  6.8808213e-02 -7.2683126e-02 -3.3794807e-03 -4.8582766e-02\n",
      "  3.8556743e-02  5.1602494e-02  9.6669622e-02 -6.1877057e-02\n",
      " -7.2320886e-02 -8.6094707e-02 -1.5681660e-02 -8.3796844e-02\n",
      " -5.0457507e-02 -5.0659899e-02 -9.1513537e-02 -8.7314114e-02\n",
      "  5.1920686e-02 -6.6621780e-02 -4.8499957e-02 -5.2015837e-02\n",
      " -4.6910722e-02 -9.8625720e-02  2.8903163e-03  8.7297715e-02\n",
      "  6.9415897e-02 -4.7872212e-02 -3.8988814e-02 -8.4026054e-02\n",
      " -4.7244370e-02  3.7363026e-02 -4.9926482e-02  4.4966158e-02\n",
      " -6.0565632e-02 -6.0129177e-02  5.8504276e-02 -9.3894184e-02\n",
      "  2.6293710e-02 -4.0917728e-02 -1.0189048e-01 -7.9178147e-02\n",
      " -6.1845733e-03 -5.1136047e-02 -8.3303005e-02 -7.1110852e-02\n",
      " -8.7556578e-03 -7.1168095e-02  2.7887223e-02  5.6198683e-02\n",
      "  2.0353360e-02  3.4111723e-02 -6.8127781e-02  7.9271868e-02\n",
      " -3.1832267e-02 -9.8848324e-03 -2.6025830e-02 -6.7613408e-02\n",
      "  2.2230009e-03 -3.8780801e-02  7.9292886e-02  5.1197562e-02\n",
      "  1.6798025e-02 -2.8256526e-02  4.0326856e-02  5.8136368e-04\n",
      " -6.7745529e-02  4.0675592e-02  6.5499195e-04  4.7212362e-02\n",
      "  7.5832821e-02  3.5258494e-02  1.3856177e-02  1.0630343e-02\n",
      " -2.6111662e-02  3.1527400e-02  5.3442404e-02 -6.5430015e-02\n",
      "  2.9326605e-03 -7.6431721e-02 -2.6117099e-02  8.4801286e-02\n",
      " -9.9353135e-02  8.6672008e-02  6.6518135e-02  8.6686566e-02\n",
      " -4.9392134e-03  7.9573870e-02 -2.3805803e-02  1.4872523e-02\n",
      " -9.7554222e-02  3.4844503e-02 -9.4487518e-02 -7.7710114e-02\n",
      " -4.5037502e-03  7.7911325e-02  2.9566374e-03 -2.7526887e-02\n",
      "  6.1117388e-02  5.5514388e-02  7.8798514e-03 -4.8023712e-02\n",
      "  8.1278525e-02 -3.0949077e-02  1.1074586e-03 -7.7292519e-03\n",
      "  6.9172166e-02 -9.1099843e-02 -7.4971572e-02  1.3470683e-02\n",
      "  4.7297195e-02  1.0142402e-02  7.8988932e-02 -2.0096027e-03\n",
      " -7.3532559e-02 -1.5365317e-02  1.2618319e-02 -6.0892191e-02\n",
      " -7.0668042e-02 -5.1891923e-02  6.8538271e-02  8.7807953e-02\n",
      " -2.6210116e-02  4.3981463e-02 -4.6527114e-02 -9.0038843e-02\n",
      " -1.4239058e-03 -4.4753350e-02 -6.1301891e-02 -5.4769576e-02\n",
      " -1.8762961e-02 -1.0293960e-02 -1.7647116e-02  4.4947695e-02\n",
      "  4.6503942e-02  9.6954934e-02  4.0601745e-02  8.6316019e-02\n",
      " -5.9946537e-02 -4.5452092e-02  4.7454104e-02 -2.5964338e-02\n",
      " -8.9988811e-03  5.5425931e-02 -5.1610727e-02  5.7009507e-02\n",
      " -2.5446706e-03 -2.5081322e-02 -5.3451046e-02 -7.1309723e-02\n",
      " -4.2225149e-02  1.3974839e-02 -6.5211132e-02  4.9971808e-02\n",
      "  9.9889645e-03 -8.9167155e-02 -8.5890912e-02  3.1966716e-02\n",
      "  5.3738885e-02  7.5218067e-02  6.0714810e-04 -3.4348536e-02\n",
      "  5.6985973e-06  1.2997751e-02 -7.4890204e-02 -9.5952190e-02\n",
      "  5.2966341e-02 -6.6071413e-02  9.6532315e-02 -4.7417387e-02\n",
      "  1.0667905e-01 -8.4030576e-02  7.1540825e-02 -9.4424531e-02\n",
      "  3.8886189e-02 -3.3916708e-02 -3.7852760e-02  7.1632884e-02\n",
      "  3.7651278e-02  2.8599655e-02 -2.8772080e-02  2.5207320e-02\n",
      " -9.9667244e-02 -5.5628046e-02  7.2035573e-02  2.3153085e-04\n",
      " -7.7646166e-02  5.1169150e-02 -7.5932682e-02  7.5987503e-02\n",
      "  2.3336623e-02  7.0863754e-02  3.7558038e-02  3.8269650e-02\n",
      " -8.9036524e-02 -4.6175603e-02 -2.8093241e-02 -5.2398730e-02\n",
      " -3.2860616e-03 -7.1290205e-04  6.4480670e-02 -4.5769904e-02\n",
      "  7.6157656e-03 -7.1160056e-02  6.6567294e-02  1.0432794e-01\n",
      "  1.0484112e-02 -5.0287891e-02 -5.9951480e-02  5.6199268e-02\n",
      " -4.6554608e-03 -6.5194443e-02  1.5868090e-02 -7.2953686e-02\n",
      " -8.8412315e-02 -8.1695579e-02  4.0531941e-02 -4.2198744e-02\n",
      "  4.8591007e-02 -4.4795793e-02  7.7237360e-02  5.6071036e-02\n",
      " -3.0344955e-03  5.1434275e-02 -3.0225798e-02  2.2188840e-02\n",
      " -6.3781696e-03 -7.6012090e-02  1.0451603e-01 -1.0717526e-01]\n"
     ]
    }
   ],
   "source": [
    "print(\"Example of relation embedding:\")\n",
    "print(list(graph_embedding.kg.relation_dict.keys())[0])\n",
    "print(graph_embedding.graph_embedded_relations[0])"
   ]
  },
  {
   "cell_type": "markdown",
   "metadata": {},
   "source": [
    "## 5. Evaluation"
   ]
  },
  {
   "cell_type": "code",
   "execution_count": 10,
   "metadata": {},
   "outputs": [
    {
     "name": "stdout",
     "output_type": "stream",
     "text": [
      "WARNING:tensorflow:From /home/sandie/.local/lib/python3.6/site-packages/tensorflow/python/util/tf_should_use.py:193: initialize_all_variables (from tensorflow.python.ops.variables) is deprecated and will be removed after 2017-03-02.\n",
      "Instructions for updating:\n",
      "Use `tf.global_variables_initializer` instead.\n",
      "-----Start evaluation-----\n",
      "[2398.303s] #evaluation triple: 5000/5000\n",
      "-----Joining all rank calculator-----\n",
      "-----All rank calculation accomplished-----\n",
      "-----Obtaining evaluation results-----\n",
      "-----Raw-----\n",
      "-----Head prediction-----\n",
      "MeanRank: 20517.509, Hits@10: 0.000\n",
      "-----Tail prediction-----\n",
      "MeanRank: 20513.749, Hits@10: 0.001\n",
      "------Average------\n",
      "MeanRank: 20515.629, Hits@10: 0.000\n",
      "-----Filter-----\n",
      "-----Head prediction-----\n",
      "MeanRank: 20507.987, Hits@10: 0.000\n",
      "-----Tail prediction-----\n",
      "MeanRank: 20505.396, Hits@10: 0.001\n",
      "-----Average-----\n",
      "MeanRank: 20506.691, Hits@10: 0.000\n",
      "cost time: 2398.472s\n",
      "-----Finish evaluation-----\n",
      "-----Head prediction-----\n",
      "MeanRank: 20507.987, Hits@10: 0.000\n",
      "-----Tail prediction-----\n",
      "MeanRank: 20505.396, Hits@10: 0.001\n",
      "-----Average-----\n",
      "MeanRank: 20506.691, Hits@10: 0.000\n"
     ]
    }
   ],
   "source": [
    "evaluations = graph_embedding.evaluate()"
   ]
  },
  {
   "cell_type": "code",
   "execution_count": 11,
   "metadata": {},
   "outputs": [
    {
     "name": "stdout",
     "output_type": "stream",
     "text": [
      "-----Average-----\n",
      "MeanRank: 20506.691, Hits@10: 0.000\n"
     ]
    }
   ],
   "source": [
    "print('-----Average-----')\n",
    "print('MeanRank: {:.3f}, Hits@10: {:.3f}'.format(evaluations['MRR'],evaluations['Hits']))"
   ]
  },
  {
   "cell_type": "code",
   "execution_count": null,
   "metadata": {},
   "outputs": [],
   "source": []
  }
 ],
 "metadata": {
  "kernelspec": {
   "display_name": "Python 3",
   "language": "python",
   "name": "python3"
  },
  "language_info": {
   "codemirror_mode": {
    "name": "ipython",
    "version": 3
   },
   "file_extension": ".py",
   "mimetype": "text/x-python",
   "name": "python",
   "nbconvert_exporter": "python",
   "pygments_lexer": "ipython3",
   "version": "3.6.8"
  }
 },
 "nbformat": 4,
 "nbformat_minor": 2
}
