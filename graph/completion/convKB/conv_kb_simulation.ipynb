{
 "cells": [
  {
   "cell_type": "code",
   "execution_count": 1,
   "metadata": {},
   "outputs": [],
   "source": [
    "import os\n",
    "import sys\n",
    "\n",
    "if os.name == 'nt':\n",
    "    module_path = os.path.abspath(os.path.join('..\\..\\..'))\n",
    "else:\n",
    "    module_path = os.path.abspath(os.path.join('../../..'))\n",
    "\n",
    "if module_path not in sys.path:\n",
    "    sys.path.append(module_path)"
   ]
  },
  {
   "cell_type": "code",
   "execution_count": 2,
   "metadata": {},
   "outputs": [],
   "source": [
    "from conv_kb import ConvKB"
   ]
  },
  {
   "cell_type": "code",
   "execution_count": 3,
   "metadata": {},
   "outputs": [],
   "source": [
    "convkb = ConvKB()"
   ]
  },
  {
   "cell_type": "code",
   "execution_count": 3,
   "metadata": {},
   "outputs": [
    {
     "name": "stdout",
     "output_type": "stream",
     "text": [
      "Loading data...\n",
      "Loading data... finished!\n"
     ]
    }
   ],
   "source": [
    "# read a input file and generate train, dev, and test data lists\n",
    "file_name = \"./data/sample_input.txt\"\n",
    "options = {}\n",
    "options[\"split_ratio\"] = (0.7, 0.25, 0.05)\n",
    "options[\"embedding_dim\"] = 50\n",
    "options[\"batch_size\"] = 128\n",
    "train, dev, test = convkb.read_dataset(file_name, options=options)"
   ]
  },
  {
   "cell_type": "code",
   "execution_count": 4,
   "metadata": {},
   "outputs": [
    {
     "name": "stdout",
     "output_type": "stream",
     "text": [
      "WARNING:tensorflow:From /Users/chillysoup/anaconda3/envs/tensorflow3/lib/python3.7/site-packages/tensorflow/python/framework/op_def_library.py:263: colocate_with (from tensorflow.python.framework.ops) is deprecated and will be removed in a future version.\n",
      "Instructions for updating:\n",
      "Colocations handled automatically by placer.\n",
      "WARNING:tensorflow:From /Users/chillysoup/Desktop/548/project/ditk/graph/completion/convKB/model.py:56: calling dropout (from tensorflow.python.ops.nn_ops) with keep_prob is deprecated and will be removed in a future version.\n",
      "Instructions for updating:\n",
      "Please use `rate` instead of `keep_prob`. Rate should be set to `rate = 1 - keep_prob`.\n",
      "\n",
      "WARNING: The TensorFlow contrib module will not be included in TensorFlow 2.0.\n",
      "For more information, please see:\n",
      "  * https://github.com/tensorflow/community/blob/master/rfcs/20180907-contrib-sunset.md\n",
      "  * https://github.com/tensorflow/addons\n",
      "If you depend on functionality not listed there, please file an issue.\n",
      "\n",
      "WARNING:tensorflow:From /Users/chillysoup/anaconda3/envs/tensorflow3/lib/python3.7/site-packages/tensorflow/python/ops/array_grad.py:425: to_int32 (from tensorflow.python.ops.math_ops) is deprecated and will be removed in a future version.\n",
      "Instructions for updating:\n",
      "Use tf.cast instead.\n",
      "Writing to /Users/chillysoup/Desktop/548/project/ditk/graph/completion/convKB/runs/wn18\n",
      "\n",
      "1 / 6\n",
      "2 / 6\n",
      "3 / 6\n",
      "4 / 6\n",
      "5 / 6\n",
      "Saved model checkpoint to /Users/chillysoup/Desktop/548/project/ditk/graph/completion/convKB/runs/wn18/checkpoints/model-5\n",
      "\n"
     ]
    }
   ],
   "source": [
    "# train\n",
    "options = {}\n",
    "options[\"num_epochs\"] = 6\n",
    "options[\"save_step\"] = 5\n",
    "model = convkb.train(train, options=options)"
   ]
  },
  {
   "cell_type": "code",
   "execution_count": 5,
   "metadata": {},
   "outputs": [
    {
     "name": "stdout",
     "output_type": "stream",
     "text": [
      "predicting /Users/chillysoup/Desktop/548/project/ditk/graph/completion/convKB/runs/wn18\n",
      "\n",
      "WARNING:tensorflow:From /Users/chillysoup/anaconda3/envs/tensorflow3/lib/python3.7/site-packages/tensorflow/python/training/saver.py:1266: checkpoint_exists (from tensorflow.python.training.checkpoint_management) is deprecated and will be removed in a future version.\n",
      "Instructions for updating:\n",
      "Use standard file APIs to check for files with this prefix.\n",
      "INFO:tensorflow:Restoring parameters from /Users/chillysoup/Desktop/548/project/ditk/graph/completion/convKB/runs/wn18/checkpoints/model-5\n",
      "Loaded model /Users/chillysoup/Desktop/548/project/ditk/graph/completion/convKB/runs/wn18/checkpoints/model-5\n",
      "3 / 13 for head\n",
      "6 / 13 for head\n",
      "9 / 13 for head\n",
      "12 / 13 for head\n"
     ]
    }
   ],
   "source": [
    "# predict\n",
    "options = {}\n",
    "options[\"model_index\"] = 5\n",
    "result = convkb.predict(test, options=options)"
   ]
  },
  {
   "cell_type": "code",
   "execution_count": 6,
   "metadata": {},
   "outputs": [
    {
     "name": "stdout",
     "output_type": "stream",
     "text": [
      "('/m/0gqng', '/music/genre/artists', '/m/089tm')\n",
      "('/m/0ds6bmk', '/award/award_nominee/award_nominations./award/award_nomination/award_nominee', '/m/02zq43')\n",
      "('/m/0ds6bmk', '/film/film_distributor/films_distributed./film/film_film_distributor_relationship/film', '/m/0czyxs')\n",
      "('/m/04bdxl', '/influence/influence_node/influenced', '/m/02kz_')\n",
      "('/m/0cnk2q', '/award/award_category/nominees./award/award_nomination/nominated_for', '/m/0ds3t5x')\n",
      "('/m/0ds6bmk', '/sports/professional_sports_team/draft_picks./sports/sports_league_draft_pick/school', '/m/05krk')\n",
      "('/m/0d1swh', '/olympics/olympic_participating_country/medals_won./olympics/olympic_medal_honor/olympics', '/m/0l6vl')\n",
      "('/m/0gtsx8c', '/film/film_genre/films_in_this_genre', '/m/02tcgh')\n",
      "('/m/01gbcf', '/film/film_genre/films_in_this_genre', '/m/0kvgnq')\n",
      "('/m/0m77m', '/award/award_category/winners./award/award_honor/honored_for', '/m/017z49')\n",
      "('/film/production_company/films', '/people/marriage_union_type/unions_of_this_type./people/marriage/spouse', '/m/08p1gp')\n",
      "('/m/0b90_r', '/film/film/language', '/m/07zrf')\n",
      "('/common/topic/webpage./common/webpage/category', '/award/award_winning_work/awards_won./award/award_honor/award_winner', '/m/01qscs')\n"
     ]
    }
   ],
   "source": [
    "# print predict\n",
    "for i in range(len(result)):\n",
    "    print(result[i])"
   ]
  },
  {
   "cell_type": "code",
   "execution_count": 7,
   "metadata": {},
   "outputs": [
    {
     "name": "stdout",
     "output_type": "stream",
     "text": [
      "Evaluating /Users/chillysoup/Desktop/548/project/ditk/graph/completion/convKB/runs/wn18\n",
      "\n",
      "INFO:tensorflow:Restoring parameters from /Users/chillysoup/Desktop/548/project/ditk/graph/completion/convKB/runs/wn18/checkpoints/model-5\n",
      "Loaded model /Users/chillysoup/Desktop/548/project/ditk/graph/completion/convKB/runs/wn18/checkpoints/model-5\n",
      "3 / 13 for head\n",
      "6 / 13 for head\n",
      "9 / 13 for head\n",
      "12 / 13 for head\n",
      "3 / 13 for tail\n",
      "6 / 13 for tail\n",
      "9 / 13 for tail\n",
      "12 / 13 for tail\n",
      "/Users/chillysoup/Desktop/548/project/ditk/graph/completion/convKB/runs/wn18/checkpoints/model-5 mr, mrr, hits@10 -->  [242.3846153846154, 0.010618376854562711, 0.0]\n",
      "------------------------------------\n",
      "{'AUC': None, 'Average Precision': None, 'MRR': 0.010618376854562711, 'hit@10': 0.0}\n"
     ]
    }
   ],
   "source": [
    "# evaluation\n",
    "options = {}\n",
    "options[\"model_index\"] = 5\n",
    "dic = convkb.evaluate(test, options=options)\n",
    "print(dic)"
   ]
  },
  {
   "cell_type": "code",
   "execution_count": null,
   "metadata": {
    "collapsed": true
   },
   "outputs": [],
   "source": []
  }
 ],
 "metadata": {
  "kernelspec": {
   "display_name": "Python 3",
   "language": "python",
   "name": "python3"
  },
  "language_info": {
   "codemirror_mode": {
    "name": "ipython",
    "version": 3
   },
   "file_extension": ".py",
   "mimetype": "text/x-python",
   "name": "python",
   "nbconvert_exporter": "python",
   "pygments_lexer": "ipython3",
   "version": "3.7.2"
  }
 },
 "nbformat": 4,
 "nbformat_minor": 2
}
