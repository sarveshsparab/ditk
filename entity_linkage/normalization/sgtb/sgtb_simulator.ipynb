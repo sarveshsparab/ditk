{
 "cells": [
  {
   "cell_type": "code",
   "execution_count": 1,
   "metadata": {
    "collapsed": true
   },
   "outputs": [],
   "source": [
    "import os\n",
    "import sys\n",
    "\n",
    "if os.name == 'nt':\n",
    "    module_path = os.path.abspath(os.path.join('..\\..\\..'))\n",
    "else:\n",
    "    module_path = os.path.abspath(os.path.join('../../..'))\n",
    "\n",
    "if module_path not in sys.path:\n",
    "    sys.path.append(module_path)"
   ]
  },
  {
   "cell_type": "code",
   "execution_count": 2,
   "metadata": {},
   "outputs": [
    {
     "name": "stderr",
     "output_type": "stream",
     "text": [
      "/Users/chillysoup/anaconda3/lib/python3.6/importlib/_bootstrap.py:219: RuntimeWarning: numpy.dtype size changed, may indicate binary incompatibility. Expected 96, got 88\n",
      "  return f(*args, **kwds)\n",
      "/Users/chillysoup/anaconda3/lib/python3.6/importlib/_bootstrap.py:219: RuntimeWarning: numpy.dtype size changed, may indicate binary incompatibility. Expected 96, got 88\n",
      "  return f(*args, **kwds)\n",
      "/Users/chillysoup/anaconda3/lib/python3.6/importlib/_bootstrap.py:219: RuntimeWarning: numpy.dtype size changed, may indicate binary incompatibility. Expected 96, got 88\n",
      "  return f(*args, **kwds)\n",
      "/Users/chillysoup/anaconda3/lib/python3.6/importlib/_bootstrap.py:219: RuntimeWarning: numpy.dtype size changed, may indicate binary incompatibility. Expected 96, got 88\n",
      "  return f(*args, **kwds)\n"
     ]
    }
   ],
   "source": [
    "from structured_gradient_tree_boosting import StructuredGradientTreeBoosting"
   ]
  },
  {
   "cell_type": "code",
   "execution_count": 3,
   "metadata": {
    "collapsed": true
   },
   "outputs": [],
   "source": [
    "sgtb = StructuredGradientTreeBoosting()"
   ]
  },
  {
   "cell_type": "code",
   "execution_count": 3,
   "metadata": {},
   "outputs": [
    {
     "name": "stdout",
     "output_type": "stream",
     "text": [
      "Loading data...\n",
      "Loading data... finished!\n"
     ]
    }
   ],
   "source": [
    "# read data\n",
    "file_name = \"./data/AIDA-PPR-processed-sample.json\"\n",
    "ratio = (0.5, 0.2, 0.3)\n",
    "options = {}\n",
    "train_set, test_set, dev_set = sgtb.read_dataset(file_name, ratio, options)"
   ]
  },
  {
   "cell_type": "code",
   "execution_count": 4,
   "metadata": {},
   "outputs": [
    {
     "name": "stdout",
     "output_type": "stream",
     "text": [
      "Loading features...\n",
      "Loading features... Finished!\n",
      "Start training...\n",
      "Iter 25  Takes 0.5611 sec.  Train acc 100.00  Dev acc 92.59\n",
      "Iter 50  Takes 0.7048 sec.  Train acc 100.00  Dev acc 92.59\n",
      "Iter 75  Takes 0.6427 sec.  Train acc 100.00  Dev acc 92.59\n",
      "Iter 100  Takes 0.7398 sec.  Train acc 100.00  Dev acc 92.59\n",
      "Iter 125  Takes 0.7048 sec.  Train acc 100.00  Dev acc 92.59\n",
      "Iter 150  Takes 0.7161 sec.  Train acc 100.00  Dev acc 92.59\n",
      "Iter 175  Takes 0.7615 sec.  Train acc 100.00  Dev acc 92.59\n",
      "Iter 200  Takes 0.8322 sec.  Train acc 100.00  Dev acc 92.59\n",
      "Iter 225  Takes 0.7627 sec.  Train acc 100.00  Dev acc 92.59\n",
      "Iter 250  Takes 1.7523 sec.  Train acc 100.00  Dev acc 92.59\n",
      "Training take 181.06 secs\n"
     ]
    }
   ],
   "source": [
    "# train\n",
    "model = sgtb.train([train_set]+[dev_set])"
   ]
  },
  {
   "cell_type": "code",
   "execution_count": 5,
   "metadata": {},
   "outputs": [
    {
     "name": "stdout",
     "output_type": "stream",
     "text": [
      "start saving model...\n",
      "Finished saving model!\n"
     ]
    }
   ],
   "source": [
    "# save\n",
    "fileName = \"./model/finalized_model.sav\"\n",
    "sgtb.save_model(model, fileName)"
   ]
  },
  {
   "cell_type": "code",
   "execution_count": 6,
   "metadata": {},
   "outputs": [
    {
     "name": "stdout",
     "output_type": "stream",
     "text": [
      "start loading model...\n",
      "Finished loading model!\n"
     ]
    }
   ],
   "source": [
    "# load\n",
    "fileName = \"./model/finalized_model.sav\"\n",
    "model = sgtb.load_model(fileName)"
   ]
  },
  {
   "cell_type": "code",
   "execution_count": 7,
   "metadata": {},
   "outputs": [
    {
     "name": "stdout",
     "output_type": "stream",
     "text": [
      "[('22936', '', '', ''), ('17633', '', '', ''), ('57659', '', '', ''), ('22936', '', '', ''), ('22936', '', '', ''), ('17633', '', '', ''), ('22936', '', '', ''), ('17633', '', '', ''), ('22936', '', '', ''), ('18998750', '', '', ''), ('22936', '', '', ''), ('17633', '', '', ''), ('22936', '', '', ''), ('17633', '', '', '')]\n"
     ]
    }
   ],
   "source": [
    "# predict\n",
    "result = sgtb.predict(model, test_set)\n",
    "print(result)"
   ]
  },
  {
   "cell_type": "code",
   "execution_count": 8,
   "metadata": {},
   "outputs": [
    {
     "name": "stdout",
     "output_type": "stream",
     "text": [
      "Test acc 91.30\n",
      "91.30434782608695\n"
     ]
    }
   ],
   "source": [
    "# evaluation\n",
    "result = sgtb.evaluate(model, test_set)\n",
    "print(result)"
   ]
  },
  {
   "cell_type": "code",
   "execution_count": null,
   "metadata": {
    "collapsed": true
   },
   "outputs": [],
   "source": []
  }
 ],
 "metadata": {
  "kernelspec": {
   "display_name": "Python 3",
   "language": "python",
   "name": "python3"
  },
  "language_info": {
   "codemirror_mode": {
    "name": "ipython",
    "version": 3
   },
   "file_extension": ".py",
   "mimetype": "text/x-python",
   "name": "python",
   "nbconvert_exporter": "python",
   "pygments_lexer": "ipython3",
   "version": "3.6.8"
  }
 },
 "nbformat": 4,
 "nbformat_minor": 2
}
