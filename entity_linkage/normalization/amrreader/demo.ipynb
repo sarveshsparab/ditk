{
 "cells": [
  {
   "cell_type": "code",
   "execution_count": 1,
   "metadata": {},
   "outputs": [],
   "source": [
    "import os\n",
    "import sys\n",
    "import re\n",
    "import argparse\n",
    "import logging\n",
    "from src import reader\n",
    "from src import ne\n",
    "from src import producer\n",
    "from src import path"
   ]
  },
  {
   "cell_type": "code",
   "execution_count": 2,
   "metadata": {},
   "outputs": [],
   "source": [
    "logger = logging.getLogger()\n",
    "logging.basicConfig(format='%(asctime)s: %(levelname)s: %(message)s')\n",
    "logging.root.setLevel(level=logging.INFO)"
   ]
  },
  {
   "cell_type": "code",
   "execution_count": 3,
   "metadata": {},
   "outputs": [],
   "source": [
    "def readdata():\n",
    "    indir=input()\n",
    "    outdir=input()\n",
    "    arg=input()\n",
    "    return indir,outdir,arg"
   ]
  },
  {
   "cell_type": "code",
   "execution_count": 4,
   "metadata": {},
   "outputs": [
    {
     "name": "stdout",
     "output_type": "stream",
     "text": [
      "C:\\Users\\aksha\\Desktop\\Project 2\\amr-reader-master\\amrreader\\test\\input\n",
      "C:\\Users\\aksha\\Desktop\\Project 2\\amr-reader-master\\amrreader\\test\\output\n",
      "n\n"
     ]
    },
    {
     "name": "stderr",
     "output_type": "stream",
     "text": [
      "2019-04-30 00:30:17,491: INFO: processing test\n"
     ]
    }
   ],
   "source": [
    "if __name__ == '__main__':\n",
    "    indir,outdir,arg=readdata()\n",
    "    for i in os.listdir(indir):\n",
    "        logger.info('processing %s' % i)\n",
    "        raw_amrs = open('%s/%s' % (indir, i), 'r').read()\n",
    "\n",
    "        # Read raw AMR and add named entities\n",
    "        sents = reader.main(raw_amrs)\n",
    "        ne.add_named_entity(sents)\n",
    "\n",
    "        if arg == 'g':\n",
    "            producer.get_graph(sents, outdir)\n",
    "\n",
    "#         if arg == 's':\n",
    "#             producer.get_graph(sents, outdir, curt=True)\n",
    "\n",
    "        if arg=='n':\n",
    "            producer.get_node(sents, outdir)\n",
    "\n",
    "        if arg:\n",
    "            producer.get_namedentity(sents, outdir)\n",
    "\n",
    "        if arg=='p':\n",
    "            path.main(sents)\n",
    "            producer.get_path(sents, outdir)\n",
    "\n",
    "        if arg == 'v':\n",
    "            producer.get_html(sents, 'visualization', outdir)\n",
    "\n",
    "        if arg == 's':\n",
    "            producer.get_html(sents, 'visualization', outdir, curt=True)"
   ]
  },
  {
   "cell_type": "code",
   "execution_count": null,
   "metadata": {},
   "outputs": [],
   "source": []
  },
  {
   "cell_type": "code",
   "execution_count": null,
   "metadata": {},
   "outputs": [],
   "source": []
  }
 ],
 "metadata": {
  "kernelspec": {
   "display_name": "Python 3",
   "language": "python",
   "name": "python3"
  },
  "language_info": {
   "codemirror_mode": {
    "name": "ipython",
    "version": 3
   },
   "file_extension": ".py",
   "mimetype": "text/x-python",
   "name": "python",
   "nbconvert_exporter": "python",
   "pygments_lexer": "ipython3",
   "version": "3.7.1"
  }
 },
 "nbformat": 4,
 "nbformat_minor": 2
}
