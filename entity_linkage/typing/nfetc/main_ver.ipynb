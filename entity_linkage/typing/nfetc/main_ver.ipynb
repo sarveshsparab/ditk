{
 "cells": [
  {
   "cell_type": "code",
   "execution_count": 1,
   "metadata": {},
   "outputs": [
    {
     "name": "stderr",
     "output_type": "stream",
     "text": [
      "/Users/jeeweonlee/anaconda3/envs/nfetc/lib/python3.6/site-packages/smart_open/ssh.py:34: UserWarning: paramiko missing, opening SSH/SCP/SFTP paths will be disabled.  `pip install paramiko` to suppress\n",
      "  warnings.warn('paramiko missing, opening SSH/SCP/SFTP paths will be disabled.  `pip install paramiko` to suppress')\n"
     ]
    }
   ],
   "source": [
    "from entity_tpying_subclass import NFETC"
   ]
  },
  {
   "cell_type": "code",
   "execution_count": 2,
   "metadata": {},
   "outputs": [],
   "source": [
    "input_file_path = \"./data/corpus/Others/entity_typing_test_input.tsv\" # filtered data\n",
    "# input_file_path = \"./data/corpus/Others/entity_typing_test_input.txt\" # raw data"
   ]
  },
  {
   "cell_type": "code",
   "execution_count": 3,
   "metadata": {},
   "outputs": [
    {
     "name": "stdout",
     "output_type": "stream",
     "text": [
      "> Creating my model...\n"
     ]
    }
   ],
   "source": [
    "print(\"> Creating my model...\")\n",
    "myModel = NFETC()"
   ]
  },
  {
   "cell_type": "code",
   "execution_count": 4,
   "metadata": {},
   "outputs": [],
   "source": [
    "file_path = input_file_path\n",
    "folder_path = \"/\".join(file_path.split(\"/\")[:-1])\n",
    "# data_name = \"wiki\"\n",
    "# model_name = \"best_nfetc_wiki\"\n",
    "data_name = \"others\"\n",
    "model_name = \"best_nfetc_wiki\"\n",
    "ratio = (0.7, 0.15, 0.15)\n",
    "epoch_num = 5\n",
    "\n",
    "# Mandatory options for my Model\n",
    "options = {}\n",
    "options[\"data_name\"] = data_name\n",
    "options[\"ratio\"] = ratio\n",
    "options[\"model_name\"] = model_name\n",
    "options[\"epoch_num\"] = epoch_num\n",
    "# model_names = {\n",
    "#\t \"nfetc\": param_space_nfetc,\n",
    "#\t \"best_nfetc_wiki\": param_space_best_nfetc_wiki,\n",
    "#\t \"best_nfetc_wiki_hier\": param_space_best_nfetc_wiki_hier,\n",
    "#\t \"best_nfetc_ontonotes\": param_space_best_nfetc_ontonotes,\n",
    "#\t \"best_nfetc_ontonotes_hier\": param_space_best_nfetc_ontonotes_hier,\n",
    "# }"
   ]
  },
  {
   "cell_type": "code",
   "execution_count": 5,
   "metadata": {},
   "outputs": [
    {
     "name": "stdout",
     "output_type": "stream",
     "text": [
      "> Reading dataset ...\n",
      "> Split all.tsv to cleat_train, clean_test data with ratio ( 0.85 , 0.15 )under ./data/corpus/Others\n",
      ">> Finished! \n",
      ">> Initiate Task\n",
      ">>> Loading data...\n",
      "277 unique tokens have been found!\n",
      ">>> Preprocessing data...\n",
      "WARNING:tensorflow:From /Users/jeeweonlee/.local/lib/python3.6/site-packages/tensorflow/python/framework/op_def_library.py:263: colocate_with (from tensorflow.python.framework.ops) is deprecated and will be removed in a future version.\n",
      "Instructions for updating:\n",
      "Colocations handled automatically by placer.\n",
      "\n",
      "WARNING: The TensorFlow contrib module will not be included in TensorFlow 2.0.\n",
      "For more information, please see:\n",
      "  * https://github.com/tensorflow/community/blob/master/rfcs/20180907-contrib-sunset.md\n",
      "  * https://github.com/tensorflow/addons\n",
      "If you depend on functionality not listed there, please file an issue.\n",
      "\n",
      "WARNING:tensorflow:From /Users/jeeweonlee/_G1/tmp548/_GitCode/NFETC/nfetc.py:113: LSTMCell.__init__ (from tensorflow.python.ops.rnn_cell_impl) is deprecated and will be removed in a future version.\n",
      "Instructions for updating:\n",
      "This class is equivalent as tf.keras.layers.LSTMCell, and will be replaced by that in Tensorflow 2.0.\n",
      "WARNING:tensorflow:From /Users/jeeweonlee/_G1/tmp548/_GitCode/NFETC/nfetc.py:120: bidirectional_dynamic_rnn (from tensorflow.python.ops.rnn) is deprecated and will be removed in a future version.\n",
      "Instructions for updating:\n",
      "Please use `keras.layers.Bidirectional(keras.layers.RNN(cell))`, which is equivalent to this API\n",
      "WARNING:tensorflow:From /Users/jeeweonlee/.local/lib/python3.6/site-packages/tensorflow/python/ops/rnn.py:443: dynamic_rnn (from tensorflow.python.ops.rnn) is deprecated and will be removed in a future version.\n",
      "Instructions for updating:\n",
      "Please use `keras.layers.RNN(cell)`, which is equivalent to this API\n",
      "WARNING:tensorflow:From /Users/jeeweonlee/.local/lib/python3.6/site-packages/tensorflow/python/ops/rnn.py:626: to_int32 (from tensorflow.python.ops.math_ops) is deprecated and will be removed in a future version.\n",
      "Instructions for updating:\n",
      "Use tf.cast instead.\n",
      "WARNING:tensorflow:From /Users/jeeweonlee/.local/lib/python3.6/site-packages/tensorflow/python/ops/rnn_cell_impl.py:1259: calling dropout (from tensorflow.python.ops.nn_ops) with keep_prob is deprecated and will be removed in a future version.\n",
      "Instructions for updating:\n",
      "Please use `rate` instead of `keep_prob`. Rate should be set to `rate = 1 - keep_prob`.\n",
      "WARNING:tensorflow:From /Users/jeeweonlee/_G1/tmp548/_GitCode/NFETC/nfetc.py:140: batch_normalization (from tensorflow.python.layers.normalization) is deprecated and will be removed in a future version.\n",
      "Instructions for updating:\n",
      "Use keras.layers.batch_normalization instead.\n",
      "INFO:tensorflow:Scale of 0 disables regularizer.\n"
     ]
    },
    {
     "name": "stderr",
     "output_type": "stream",
     "text": [
      "/Users/jeeweonlee/.local/lib/python3.6/site-packages/tensorflow/python/ops/gradients_impl.py:110: UserWarning: Converting sparse IndexedSlices to a dense Tensor of unknown shape. This may consume a large amount of memory.\n",
      "  \"Converting sparse IndexedSlices to a dense Tensor of unknown shape. \"\n"
     ]
    }
   ],
   "source": [
    "print(\"> Reading dataset ...\")\n",
    "extension = file_path.split(\".\")[-1]\n",
    "if extension == \"txt\":\n",
    "\tmyModel.split_data_txt(file_path, folder_path, ratio)\n",
    "elif extension == \"tsv\":\n",
    "\tmyModel.split_data_tsv(file_path, folder_path, ratio)\n",
    "myModel.preprocess_helper(data_name, extension)\n",
    "train_data, test_data = myModel.read_dataset(file_path, options)"
   ]
  },
  {
   "cell_type": "code",
   "execution_count": 6,
   "metadata": {},
   "outputs": [
    {
     "name": "stdout",
     "output_type": "stream",
     "text": [
      "> Training ...\n",
      ">> In train, train_data size: ( 85 )\n",
      ">> There is Enough data to train.\n",
      ">>> Training 0 epoch\n",
      "2019-04-24T02:33:28.549287: step 1, loss 4.25225 pacc 0.105882 eacc 0.0941176\n",
      "2019-04-24T02:33:28.836536: step 2, loss 4.18182 pacc 0.117647 eacc 0.105882\n",
      "2019-04-24T02:33:29.095829: step 3, loss 4.06597 pacc 0.0941176 eacc 0.0941176\n",
      "2019-04-24T02:33:29.325013: step 4, loss 3.95977 pacc 0.0705882 eacc 0.0705882\n",
      "2019-04-24T02:33:29.550190: step 5, loss 3.80485 pacc 0.117647 eacc 0.117647\n",
      "2019-04-24T02:33:29.776969: step 6, loss 3.60765 pacc 0.0705882 eacc 0.0705882\n",
      "2019-04-24T02:33:30.010338: step 7, loss 3.67721 pacc 0.0941176 eacc 0.0941176\n",
      "2019-04-24T02:33:30.238406: step 8, loss 3.34555 pacc 0.188235 eacc 0.176471\n",
      "2019-04-24T02:33:30.472482: step 9, loss 3.3005 pacc 0.176471 eacc 0.164706\n",
      "2019-04-24T02:33:30.709961: step 10, loss 3.13376 pacc 0.188235 eacc 0.164706\n",
      "2019-04-24T02:33:30.949007: step 11, loss 3.02193 pacc 0.223529 eacc 0.211765\n",
      "2019-04-24T02:33:31.191618: step 12, loss 2.85772 pacc 0.282353 eacc 0.247059\n",
      "2019-04-24T02:33:31.428169: step 13, loss 2.83338 pacc 0.258824 eacc 0.235294\n",
      "2019-04-24T02:33:31.695809: step 14, loss 2.72152 pacc 0.329412 eacc 0.317647\n",
      "2019-04-24T02:33:31.940556: step 15, loss 2.72665 pacc 0.329412 eacc 0.282353\n",
      "2019-04-24T02:33:32.195564: step 16, loss 2.49278 pacc 0.4 eacc 0.364706\n",
      "2019-04-24T02:33:32.468961: step 17, loss 2.51372 pacc 0.305882 eacc 0.305882\n",
      "2019-04-24T02:33:32.711793: step 18, loss 2.48749 pacc 0.435294 eacc 0.388235\n",
      "2019-04-24T02:33:32.983773: step 19, loss 2.31017 pacc 0.376471 eacc 0.364706\n",
      "2019-04-24T02:33:33.243009: step 20, loss 2.27779 pacc 0.4 eacc 0.364706\n",
      ">>> Training 1 epoch\n",
      "2019-04-24T02:33:33.473062: step 21, loss 2.09115 pacc 0.458824 eacc 0.423529\n",
      "2019-04-24T02:33:33.697784: step 22, loss 2.22944 pacc 0.4 eacc 0.364706\n",
      "2019-04-24T02:33:33.980073: step 23, loss 2.06319 pacc 0.505882 eacc 0.447059\n",
      "2019-04-24T02:33:34.250520: step 24, loss 1.93849 pacc 0.541176 eacc 0.470588\n",
      "2019-04-24T02:33:34.513855: step 25, loss 1.95045 pacc 0.517647 eacc 0.494118\n",
      "2019-04-24T02:33:34.777507: step 26, loss 1.83855 pacc 0.541176 eacc 0.494118\n",
      "2019-04-24T02:33:34.998508: step 27, loss 1.76416 pacc 0.564706 eacc 0.517647\n",
      "2019-04-24T02:33:35.229871: step 28, loss 1.89356 pacc 0.470588 eacc 0.423529\n",
      "2019-04-24T02:33:35.555226: step 29, loss 1.64774 pacc 0.611765 eacc 0.541176\n",
      "2019-04-24T02:33:35.846480: step 30, loss 1.6446 pacc 0.611765 eacc 0.564706\n",
      "2019-04-24T02:33:36.148565: step 31, loss 1.57506 pacc 0.6 eacc 0.541176\n",
      "2019-04-24T02:33:36.436434: step 32, loss 1.52502 pacc 0.635294 eacc 0.576471\n",
      "2019-04-24T02:33:36.734274: step 33, loss 1.50482 pacc 0.647059 eacc 0.588235\n",
      "2019-04-24T02:33:37.048139: step 34, loss 1.37546 pacc 0.658824 eacc 0.6\n",
      "2019-04-24T02:33:37.282886: step 35, loss 1.39394 pacc 0.658824 eacc 0.623529\n",
      "2019-04-24T02:33:37.542774: step 36, loss 1.22685 pacc 0.647059 eacc 0.588235\n",
      "2019-04-24T02:33:37.847369: step 37, loss 1.4328 pacc 0.635294 eacc 0.552941\n",
      "2019-04-24T02:33:38.084277: step 38, loss 1.24937 pacc 0.729412 eacc 0.635294\n",
      "2019-04-24T02:33:38.344816: step 39, loss 1.13235 pacc 0.752941 eacc 0.682353\n",
      "2019-04-24T02:33:38.607805: step 40, loss 1.3035 pacc 0.705882 eacc 0.635294\n",
      ">>> Training 2 epoch\n",
      "2019-04-24T02:33:38.876471: step 41, loss 1.13903 pacc 0.717647 eacc 0.635294\n",
      "2019-04-24T02:33:39.095655: step 42, loss 1.04722 pacc 0.752941 eacc 0.682353\n",
      "2019-04-24T02:33:39.329606: step 43, loss 0.973104 pacc 0.811765 eacc 0.729412\n",
      "2019-04-24T02:33:39.574164: step 44, loss 1.04343 pacc 0.752941 eacc 0.682353\n",
      "2019-04-24T02:33:39.909232: step 45, loss 0.932928 pacc 0.823529 eacc 0.741176\n",
      "2019-04-24T02:33:40.139131: step 46, loss 0.94631 pacc 0.835294 eacc 0.764706\n",
      "2019-04-24T02:33:40.423344: step 47, loss 0.968708 pacc 0.8 eacc 0.717647\n",
      "2019-04-24T02:33:40.782134: step 48, loss 0.876532 pacc 0.8 eacc 0.729412\n",
      "2019-04-24T02:33:41.019079: step 49, loss 0.921459 pacc 0.823529 eacc 0.741176\n",
      "2019-04-24T02:33:41.243377: step 50, loss 0.810682 pacc 0.870588 eacc 0.788235\n",
      "2019-04-24T02:33:41.522587: step 51, loss 0.898663 pacc 0.811765 eacc 0.729412\n",
      "2019-04-24T02:33:41.762434: step 52, loss 0.751727 pacc 0.870588 eacc 0.8\n",
      "2019-04-24T02:33:41.989375: step 53, loss 0.833363 pacc 0.835294 eacc 0.741176\n",
      "2019-04-24T02:33:42.229383: step 54, loss 0.710833 pacc 0.858824 eacc 0.788235\n",
      "2019-04-24T02:33:42.480084: step 55, loss 0.650826 pacc 0.894118 eacc 0.811765\n",
      "2019-04-24T02:33:42.774769: step 56, loss 0.722734 pacc 0.882353 eacc 0.8\n",
      "2019-04-24T02:33:42.993827: step 57, loss 0.626493 pacc 0.917647 eacc 0.823529\n",
      "2019-04-24T02:33:43.218456: step 58, loss 0.61816 pacc 0.941176 eacc 0.858824\n",
      "2019-04-24T02:33:43.487271: step 59, loss 0.655553 pacc 0.917647 eacc 0.823529\n",
      "2019-04-24T02:33:43.729779: step 60, loss 0.638037 pacc 0.882353 eacc 0.8\n",
      ">>> Training 3 epoch\n",
      "2019-04-24T02:33:44.127394: step 61, loss 0.54958 pacc 0.929412 eacc 0.847059\n",
      "2019-04-24T02:33:44.458028: step 62, loss 0.544922 pacc 0.941176 eacc 0.847059\n",
      "2019-04-24T02:33:44.712867: step 63, loss 0.500276 pacc 0.917647 eacc 0.835294\n",
      "2019-04-24T02:33:45.002799: step 64, loss 0.554169 pacc 0.929412 eacc 0.847059\n",
      "2019-04-24T02:33:45.330600: step 65, loss 0.519205 pacc 0.941176 eacc 0.847059\n",
      "2019-04-24T02:33:45.592583: step 66, loss 0.442268 pacc 0.964706 eacc 0.882353\n",
      "2019-04-24T02:33:45.935299: step 67, loss 0.449188 pacc 0.952941 eacc 0.858824\n",
      "2019-04-24T02:33:46.286277: step 68, loss 0.502701 pacc 0.964706 eacc 0.882353\n",
      "2019-04-24T02:33:46.615380: step 69, loss 0.418213 pacc 0.952941 eacc 0.858824\n",
      "2019-04-24T02:33:46.840318: step 70, loss 0.432076 pacc 1 eacc 0.905882\n",
      "2019-04-24T02:33:47.075725: step 71, loss 0.414844 pacc 0.976471 eacc 0.882353\n",
      "2019-04-24T02:33:47.410693: step 72, loss 0.364332 pacc 0.976471 eacc 0.882353\n",
      "2019-04-24T02:33:47.632155: step 73, loss 0.410896 pacc 0.941176 eacc 0.847059\n",
      "2019-04-24T02:33:47.965055: step 74, loss 0.39587 pacc 0.952941 eacc 0.870588\n",
      "2019-04-24T02:33:48.212990: step 75, loss 0.396098 pacc 0.976471 eacc 0.882353\n",
      "2019-04-24T02:33:48.499936: step 76, loss 0.375128 pacc 0.941176 eacc 0.858824\n",
      "2019-04-24T02:33:48.767549: step 77, loss 0.371948 pacc 0.952941 eacc 0.858824\n",
      "2019-04-24T02:33:49.016944: step 78, loss 0.33576 pacc 0.952941 eacc 0.858824\n",
      "2019-04-24T02:33:49.320900: step 79, loss 0.35634 pacc 0.952941 eacc 0.858824\n",
      "2019-04-24T02:33:49.589192: step 80, loss 0.305411 pacc 0.988235 eacc 0.894118\n",
      ">>> Training 4 epoch\n",
      "2019-04-24T02:33:49.811495: step 81, loss 0.258366 pacc 0.976471 eacc 0.894118\n",
      "2019-04-24T02:33:50.089579: step 82, loss 0.299444 pacc 0.988235 eacc 0.894118\n",
      "2019-04-24T02:33:50.344327: step 83, loss 0.269964 pacc 1 eacc 0.905882\n",
      "2019-04-24T02:33:50.576631: step 84, loss 0.261947 pacc 0.988235 eacc 0.894118\n",
      "2019-04-24T02:33:50.881718: step 85, loss 0.262681 pacc 1 eacc 0.905882\n",
      "2019-04-24T02:33:51.115223: step 86, loss 0.27037 pacc 0.988235 eacc 0.894118\n",
      "2019-04-24T02:33:51.380614: step 87, loss 0.205128 pacc 1 eacc 0.905882\n",
      "2019-04-24T02:33:51.673985: step 88, loss 0.234892 pacc 0.988235 eacc 0.894118\n",
      "2019-04-24T02:33:51.891831: step 89, loss 0.231393 pacc 0.988235 eacc 0.894118\n",
      "2019-04-24T02:33:52.143452: step 90, loss 0.211597 pacc 0.976471 eacc 0.882353\n",
      "2019-04-24T02:33:52.418930: step 91, loss 0.205017 pacc 1 eacc 0.905882\n",
      "2019-04-24T02:33:52.657514: step 92, loss 0.243261 pacc 0.976471 eacc 0.882353\n",
      "2019-04-24T02:33:52.916227: step 93, loss 0.18831 pacc 0.988235 eacc 0.894118\n",
      "2019-04-24T02:33:53.186876: step 94, loss 0.195495 pacc 0.988235 eacc 0.894118\n",
      "2019-04-24T02:33:53.431089: step 95, loss 0.22368 pacc 0.976471 eacc 0.882353\n",
      "2019-04-24T02:33:53.708919: step 96, loss 0.229308 pacc 0.988235 eacc 0.894118\n",
      "2019-04-24T02:33:53.980581: step 97, loss 0.201596 pacc 1 eacc 0.905882\n",
      "2019-04-24T02:33:54.241979: step 98, loss 0.186202 pacc 0.988235 eacc 0.894118\n",
      "2019-04-24T02:33:54.516249: step 99, loss 0.191867 pacc 1 eacc 0.905882\n",
      "2019-04-24T02:33:54.740517: step 100, loss 0.208741 pacc 0.976471 eacc 0.882353\n",
      "Saved model to /Users/jeeweonlee/_G1/tmp548/_GitCode/NFETC/checkpoint/best_nfetc_wiki\n",
      ">> Training is Done ! \n"
     ]
    }
   ],
   "source": [
    "print(\"> Training ...\") \n",
    "myModel.train(train_data, options) # saved trained model"
   ]
  },
  {
   "cell_type": "code",
   "execution_count": 7,
   "metadata": {},
   "outputs": [
    {
     "name": "stdout",
     "output_type": "stream",
     "text": [
      "> Predicting ...\n",
      ">> In predict, test_data size: ( 15 )\n",
      ">> There is Enough data to predict.\n",
      ">>> Restored prev-trained model...\n",
      "WARNING:tensorflow:From /Users/jeeweonlee/.local/lib/python3.6/site-packages/tensorflow/python/training/saver.py:1266: checkpoint_exists (from tensorflow.python.training.checkpoint_management) is deprecated and will be removed in a future version.\n",
      "Instructions for updating:\n",
      "Use standard file APIs to check for files with this prefix.\n",
      "INFO:tensorflow:Restoring parameters from /Users/jeeweonlee/_G1/tmp548/_GitCode/NFETC/checkpoint/best_nfetc_wiki\n",
      ">> prediction_data size: ( 15 )\n",
      ">> Prediction is Done ! \n"
     ]
    }
   ],
   "source": [
    "print(\"> Predicting ...\")\n",
    "predict_data = myModel.predict(test_data, None, options) "
   ]
  },
  {
   "cell_type": "code",
   "execution_count": 8,
   "metadata": {},
   "outputs": [
    {
     "name": "stdout",
     "output_type": "stream",
     "text": [
      "> Evaluating ...\n",
      ">> In evaluate, test_data size: ( 15 )\n",
      ">> There is Enough data to evaluate.\n",
      "Strict Accuracy: 0.4666666666666667\n",
      "Loose Macro:\n",
      "Precision 0.5 Recall 0.475 F1 0.48717948717948717\n",
      "Loose Micro:\n",
      "Precision 0.48148148148148145 Recall 0.38235294117647056 F1 0.4262295081967213\n",
      ">> Evaluation is Done ! \n"
     ]
    }
   ],
   "source": [
    "print(\"> Evaluating ...\")\n",
    "acc, macro, micro = myModel.evaluate(test_data, predict_data, options)"
   ]
  },
  {
   "cell_type": "code",
   "execution_count": 9,
   "metadata": {},
   "outputs": [
    {
     "name": "stdout",
     "output_type": "stream",
     "text": [
      "> Save model ... \n",
      "save model to  ./checkpoint\n",
      "2019-04-24T02:34:20.155356: step 1, loss 4.11123 pacc 0.129412 eacc 0.129412\n",
      "2019-04-24T02:34:20.411416: step 2, loss 4.23132 pacc 0.0705882 eacc 0.0588235\n",
      "2019-04-24T02:34:20.630510: step 3, loss 3.9454 pacc 0.117647 eacc 0.105882\n",
      "2019-04-24T02:34:20.868181: step 4, loss 3.74348 pacc 0.0823529 eacc 0.0823529\n",
      "2019-04-24T02:34:21.120736: step 5, loss 3.74825 pacc 0.0705882 eacc 0.0705882\n",
      "2019-04-24T02:34:21.371142: step 6, loss 3.52679 pacc 0.117647 eacc 0.105882\n",
      "2019-04-24T02:34:21.645184: step 7, loss 3.45763 pacc 0.105882 eacc 0.105882\n",
      "2019-04-24T02:34:21.971025: step 8, loss 3.24139 pacc 0.164706 eacc 0.141176\n",
      "2019-04-24T02:34:22.235323: step 9, loss 3.18657 pacc 0.282353 eacc 0.235294\n",
      "2019-04-24T02:34:22.547599: step 10, loss 3.074 pacc 0.211765 eacc 0.2\n",
      "2019-04-24T02:34:22.830873: step 11, loss 2.88526 pacc 0.282353 eacc 0.270588\n",
      "2019-04-24T02:34:23.109485: step 12, loss 2.82257 pacc 0.294118 eacc 0.258824\n",
      "2019-04-24T02:34:23.391306: step 13, loss 2.74883 pacc 0.329412 eacc 0.282353\n",
      "2019-04-24T02:34:23.652061: step 14, loss 2.72367 pacc 0.305882 eacc 0.294118\n",
      "2019-04-24T02:34:23.920874: step 15, loss 2.65344 pacc 0.341176 eacc 0.294118\n",
      "2019-04-24T02:34:24.156688: step 16, loss 2.48242 pacc 0.411765 eacc 0.364706\n",
      "2019-04-24T02:34:24.423137: step 17, loss 2.39764 pacc 0.411765 eacc 0.388235\n",
      "2019-04-24T02:34:24.669367: step 18, loss 2.34094 pacc 0.505882 eacc 0.458824\n",
      "2019-04-24T02:34:24.909170: step 19, loss 2.30518 pacc 0.470588 eacc 0.423529\n",
      "2019-04-24T02:34:25.250357: step 20, loss 2.15355 pacc 0.505882 eacc 0.458824\n",
      "Saved model to /Users/jeeweonlee/_G1/tmp548/_GitCode/NFETC/checkpoint/best_nfetc_wiki\n"
     ]
    }
   ],
   "source": [
    "print(\"> Save model ... \")\n",
    "myModel.save_model()"
   ]
  },
  {
   "cell_type": "code",
   "execution_count": 10,
   "metadata": {},
   "outputs": [
    {
     "name": "stdout",
     "output_type": "stream",
     "text": [
      ">Load Model ... \n",
      "load model from  ./checkpoint\n",
      ">>> Restored prev-trained model...\n",
      "INFO:tensorflow:Restoring parameters from /Users/jeeweonlee/_G1/tmp548/_GitCode/NFETC/checkpoint/best_nfetc_wiki\n"
     ]
    }
   ],
   "source": [
    "print(\">Load Model ... \")\n",
    "myModel.load_model()"
   ]
  },
  {
   "cell_type": "code",
   "execution_count": 11,
   "metadata": {},
   "outputs": [
    {
     "name": "stdout",
     "output_type": "stream",
     "text": [
      "./output/best_nfetc_wiki.tsv\n"
     ]
    }
   ],
   "source": [
    "output_file_path = \"./output/\" + model_name + \".tsv\"\n",
    "print(output_file_path)"
   ]
  },
  {
   "cell_type": "code",
   "execution_count": null,
   "metadata": {},
   "outputs": [],
   "source": []
  }
 ],
 "metadata": {
  "kernelspec": {
   "display_name": "Python 3",
   "language": "python",
   "name": "python3"
  },
  "language_info": {
   "codemirror_mode": {
    "name": "ipython",
    "version": 3
   },
   "file_extension": ".py",
   "mimetype": "text/x-python",
   "name": "python",
   "nbconvert_exporter": "python",
   "pygments_lexer": "ipython3",
   "version": "3.6.8"
  }
 },
 "nbformat": 4,
 "nbformat_minor": 2
}
